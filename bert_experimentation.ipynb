{
 "cells": [
  {
   "cell_type": "code",
   "execution_count": 2,
   "id": "651029d2",
   "metadata": {
    "execution": {
     "iopub.execute_input": "2022-09-13T17:51:01.418392Z",
     "iopub.status.busy": "2022-09-13T17:51:01.417232Z",
     "iopub.status.idle": "2022-09-13T17:51:01.423626Z",
     "shell.execute_reply": "2022-09-13T17:51:01.422672Z"
    },
    "id": "sfkPNLKNxZwn",
    "outputId": "83d6ce64-53df-43fd-e53f-6658ef080939",
    "papermill": {
     "duration": 0.028257,
     "end_time": "2022-09-13T17:51:01.425633",
     "exception": false,
     "start_time": "2022-09-13T17:51:01.397376",
     "status": "completed"
    },
    "tags": []
   },
   "outputs": [],
   "source": [
    "#pip install transformers"
   ]
  },
  {
   "cell_type": "code",
   "execution_count": 3,
   "id": "3e882b7e",
   "metadata": {
    "_cell_guid": "b1076dfc-b9ad-4769-8c92-a6c4dae69d19",
    "_uuid": "8f2839f25d086af736a60e9eeb907d3b93b6e0e5",
    "execution": {
     "iopub.execute_input": "2022-09-13T17:51:01.456446Z",
     "iopub.status.busy": "2022-09-13T17:51:01.456178Z",
     "iopub.status.idle": "2022-09-13T17:51:09.091530Z",
     "shell.execute_reply": "2022-09-13T17:51:09.090509Z"
    },
    "id": "306375cf",
    "papermill": {
     "duration": 7.653663,
     "end_time": "2022-09-13T17:51:09.094290",
     "exception": false,
     "start_time": "2022-09-13T17:51:01.440627",
     "status": "completed"
    },
    "tags": []
   },
   "outputs": [
    {
     "name": "stderr",
     "output_type": "stream",
     "text": [
      "c:\\Users\\bhara\\AppData\\Local\\Programs\\Python\\Python311\\Lib\\site-packages\\tqdm\\auto.py:21: TqdmWarning: IProgress not found. Please update jupyter and ipywidgets. See https://ipywidgets.readthedocs.io/en/stable/user_install.html\n",
      "  from .autonotebook import tqdm as notebook_tqdm\n"
     ]
    }
   ],
   "source": [
    "#load all libraries\n",
    "import requests\n",
    "import json\n",
    "import torch\n",
    "import torch.nn as nn\n",
    "import os\n",
    "from tqdm import tqdm\n",
    "from transformers import BertModel, BertTokenizerFast, AdamW\n",
    "from transformers import AutoTokenizer, AutoModelForQuestionAnswering, BertTokenizer, BertForQuestionAnswering\n",
    "from torch.utils.data import Dataset, DataLoader\n",
    "from torch.optim.lr_scheduler import ExponentialLR\n",
    "import matplotlib.pyplot as plt"
   ]
  },
  {
   "cell_type": "code",
   "execution_count": 4,
   "id": "b483dee3",
   "metadata": {
    "execution": {
     "iopub.execute_input": "2022-09-13T17:51:09.126234Z",
     "iopub.status.busy": "2022-09-13T17:51:09.125698Z",
     "iopub.status.idle": "2022-09-13T17:51:09.130313Z",
     "shell.execute_reply": "2022-09-13T17:51:09.129184Z"
    },
    "id": "6cabba82",
    "papermill": {
     "duration": 0.022653,
     "end_time": "2022-09-13T17:51:09.132421",
     "exception": false,
     "start_time": "2022-09-13T17:51:09.109768",
     "status": "completed"
    },
    "tags": []
   },
   "outputs": [],
   "source": [
    "MODEL_PATH = \"bert-base-uncased\""
   ]
  },
  {
   "cell_type": "code",
   "execution_count": 5,
   "id": "b6a3a765",
   "metadata": {
    "execution": {
     "iopub.execute_input": "2022-09-13T17:51:13.004224Z",
     "iopub.status.busy": "2022-09-13T17:51:13.003864Z",
     "iopub.status.idle": "2022-09-13T17:51:13.008665Z",
     "shell.execute_reply": "2022-09-13T17:51:13.007697Z"
    },
    "id": "d1d41f44",
    "papermill": {
     "duration": 0.025373,
     "end_time": "2022-09-13T17:51:13.010701",
     "exception": false,
     "start_time": "2022-09-13T17:51:12.985328",
     "status": "completed"
    },
    "tags": []
   },
   "outputs": [],
   "source": [
    "num_questions = 0\n",
    "num_posible = 0\n",
    "num_imposible = 0"
   ]
  },
  {
   "cell_type": "code",
   "execution_count": 6,
   "id": "0310a19d",
   "metadata": {
    "execution": {
     "iopub.execute_input": "2022-09-13T17:51:13.043326Z",
     "iopub.status.busy": "2022-09-13T17:51:13.042626Z",
     "iopub.status.idle": "2022-09-13T17:51:13.050428Z",
     "shell.execute_reply": "2022-09-13T17:51:13.049414Z"
    },
    "id": "febc5ee9",
    "papermill": {
     "duration": 0.02611,
     "end_time": "2022-09-13T17:51:13.052467",
     "exception": false,
     "start_time": "2022-09-13T17:51:13.026357",
     "status": "completed"
    },
    "tags": []
   },
   "outputs": [],
   "source": [
    "#note: below code will only return questions wich have answers (i.e. not the ones flagged as imposible to answer)\n",
    "def get_data(path):  \n",
    "    #read each file and retrieve the contexts, qustions and answers\n",
    "  with open(path, 'rb') as f:\n",
    "    raw_data = json.load(f)\n",
    "\n",
    "  contexts = []\n",
    "  questions = []\n",
    "  answers = []\n",
    "  num_q = 0\n",
    "  num_pos = 0\n",
    "  num_imp = 0\n",
    "\n",
    "  for group in raw_data['data']:\n",
    "    for paragraph in group['paragraphs']:\n",
    "      context = paragraph['context']\n",
    "      for qa in paragraph['qas']:\n",
    "        question = qa['question']\n",
    "        num_q  = num_q  +1\n",
    "        if qa['is_impossible'] == True:\n",
    "            num_imp = num_imp +1\n",
    "        else:\n",
    "            num_pos = num_pos +1\n",
    "        for answer in qa['answers']:\n",
    "          contexts.append(context.lower())\n",
    "          questions.append(question.lower())\n",
    "          answers.append(answer)\n",
    "\n",
    "  return num_q, num_pos, num_imp, contexts, questions, answers"
   ]
  },
  {
   "cell_type": "code",
   "execution_count": 7,
   "id": "04c0ed17",
   "metadata": {
    "execution": {
     "iopub.execute_input": "2022-09-13T17:51:13.085582Z",
     "iopub.status.busy": "2022-09-13T17:51:13.084798Z",
     "iopub.status.idle": "2022-09-13T17:51:14.526502Z",
     "shell.execute_reply": "2022-09-13T17:51:14.525505Z"
    },
    "id": "4fbe9674",
    "outputId": "32521225-3c0f-42c3-ba39-65ee35ad78d5",
    "papermill": {
     "duration": 1.460865,
     "end_time": "2022-09-13T17:51:14.529000",
     "exception": false,
     "start_time": "2022-09-13T17:51:13.068135",
     "status": "completed"
    },
    "tags": []
   },
   "outputs": [],
   "source": [
    "num_q, num_pos, num_imp, train_contexts, train_questions, train_answers = get_data('squad/train-v2.0.json')\n",
    "num_questions  = num_q\n",
    "num_posible = num_pos\n",
    "num_imposible  = num_imp\n"
   ]
  },
  {
   "cell_type": "code",
   "execution_count": 8,
   "id": "7e267a84",
   "metadata": {
    "execution": {
     "iopub.execute_input": "2022-09-13T17:51:14.564265Z",
     "iopub.status.busy": "2022-09-13T17:51:14.563958Z",
     "iopub.status.idle": "2022-09-13T17:51:14.569149Z",
     "shell.execute_reply": "2022-09-13T17:51:14.568193Z"
    },
    "papermill": {
     "duration": 0.024598,
     "end_time": "2022-09-13T17:51:14.571597",
     "exception": false,
     "start_time": "2022-09-13T17:51:14.546999",
     "status": "completed"
    },
    "tags": []
   },
   "outputs": [
    {
     "name": "stdout",
     "output_type": "stream",
     "text": [
      "['when did beyonce start becoming popular?', 'what areas did beyonce compete in when she was growing up?', \"when did beyonce leave destiny's child and become a solo singer?\", 'in what city and state did beyonce  grow up? ', 'in which decade did beyonce become famous?', 'in what r&b group was she the lead singer?', 'what album made her a worldwide known artist?', \"who managed the destiny's child group?\", 'when did beyoncé rise to fame?', \"what role did beyoncé have in destiny's child?\"]\n",
      "[{'text': 'in the late 1990s', 'answer_start': 269}, {'text': 'singing and dancing', 'answer_start': 207}, {'text': '2003', 'answer_start': 526}, {'text': 'Houston, Texas', 'answer_start': 166}, {'text': 'late 1990s', 'answer_start': 276}, {'text': \"Destiny's Child\", 'answer_start': 320}, {'text': 'Dangerously in Love', 'answer_start': 505}, {'text': 'Mathew Knowles', 'answer_start': 360}, {'text': 'late 1990s', 'answer_start': 276}, {'text': 'lead singer', 'answer_start': 290}]\n"
     ]
    }
   ],
   "source": [
    "print(train_questions[0:10])\n",
    "print(train_answers[0:10])"
   ]
  },
  {
   "cell_type": "code",
   "execution_count": 9,
   "id": "1e551bfd",
   "metadata": {
    "execution": {
     "iopub.execute_input": "2022-09-13T17:51:14.604683Z",
     "iopub.status.busy": "2022-09-13T17:51:14.603297Z",
     "iopub.status.idle": "2022-09-13T17:51:14.889077Z",
     "shell.execute_reply": "2022-09-13T17:51:14.887147Z"
    },
    "papermill": {
     "duration": 0.304185,
     "end_time": "2022-09-13T17:51:14.891234",
     "exception": false,
     "start_time": "2022-09-13T17:51:14.587049",
     "status": "completed"
    },
    "tags": []
   },
   "outputs": [
    {
     "name": "stdout",
     "output_type": "stream",
     "text": [
      "Total number of questions: 142192\n",
      "Total number of Answerable questions: 92749\n",
      "Total number of impossible questions: 49443\n"
     ]
    }
   ],
   "source": [
    "num_q, num_pos, num_imp, valid_contexts, valid_questions, valid_answers = get_data('squad/dev-v2.0.json')\n",
    "num_questions  = num_questions + num_q\n",
    "num_posible = num_posible + num_pos\n",
    "num_imposible = num_imposible  + num_imp\n",
    "\n",
    "print(f\"Total number of questions: {num_questions}\")\n",
    "print(f\"Total number of Answerable questions: {num_posible}\")\n",
    "print(f\"Total number of impossible questions: {num_imposible}\")"
   ]
  },
  {
   "cell_type": "code",
   "execution_count": 10,
   "id": "5acab18b",
   "metadata": {
    "execution": {
     "iopub.execute_input": "2022-09-13T17:51:14.925106Z",
     "iopub.status.busy": "2022-09-13T17:51:14.924591Z",
     "iopub.status.idle": "2022-09-13T17:51:14.930058Z",
     "shell.execute_reply": "2022-09-13T17:51:14.929105Z"
    },
    "papermill": {
     "duration": 0.025185,
     "end_time": "2022-09-13T17:51:14.932860",
     "exception": false,
     "start_time": "2022-09-13T17:51:14.907675",
     "status": "completed"
    },
    "tags": []
   },
   "outputs": [
    {
     "name": "stdout",
     "output_type": "stream",
     "text": [
      "['in what country is normandy located?', 'in what country is normandy located?', 'in what country is normandy located?', 'in what country is normandy located?', 'when were the normans in normandy?', 'when were the normans in normandy?', 'when were the normans in normandy?', 'when were the normans in normandy?', 'from which countries did the norse originate?', 'from which countries did the norse originate?']\n",
      "[{'text': 'France', 'answer_start': 159}, {'text': 'France', 'answer_start': 159}, {'text': 'France', 'answer_start': 159}, {'text': 'France', 'answer_start': 159}, {'text': '10th and 11th centuries', 'answer_start': 94}, {'text': 'in the 10th and 11th centuries', 'answer_start': 87}, {'text': '10th and 11th centuries', 'answer_start': 94}, {'text': '10th and 11th centuries', 'answer_start': 94}, {'text': 'Denmark, Iceland and Norway', 'answer_start': 256}, {'text': 'Denmark, Iceland and Norway', 'answer_start': 256}]\n"
     ]
    }
   ],
   "source": [
    "print(valid_questions[0:10])\n",
    "print(valid_answers[0:10])"
   ]
  },
  {
   "cell_type": "code",
   "execution_count": 11,
   "id": "8523ae25",
   "metadata": {
    "execution": {
     "iopub.execute_input": "2022-09-13T17:51:14.967640Z",
     "iopub.status.busy": "2022-09-13T17:51:14.966829Z",
     "iopub.status.idle": "2022-09-13T17:51:15.040378Z",
     "shell.execute_reply": "2022-09-13T17:51:15.039454Z"
    },
    "id": "28b046f3",
    "papermill": {
     "duration": 0.092505,
     "end_time": "2022-09-13T17:51:15.042594",
     "exception": false,
     "start_time": "2022-09-13T17:51:14.950089",
     "status": "completed"
    },
    "tags": []
   },
   "outputs": [],
   "source": [
    "def add_answer_end(answers, contexts):\n",
    "  for answer, context in zip(answers, contexts):\n",
    "    answer['text'] = answer['text'].lower()\n",
    "    answer['answer_end'] = answer['answer_start'] + len(answer['text'])\n",
    "\n",
    "add_answer_end(train_answers, train_contexts)\n",
    "add_answer_end(valid_answers, valid_contexts)"
   ]
  },
  {
   "cell_type": "code",
   "execution_count": 12,
   "id": "96d36e73",
   "metadata": {
    "execution": {
     "iopub.execute_input": "2022-09-13T17:51:15.076855Z",
     "iopub.status.busy": "2022-09-13T17:51:15.076541Z",
     "iopub.status.idle": "2022-09-13T17:51:15.081377Z",
     "shell.execute_reply": "2022-09-13T17:51:15.080435Z"
    },
    "id": "2c03da53",
    "outputId": "47b5a209-4716-411d-e062-e61ca39b1cc3",
    "papermill": {
     "duration": 0.02488,
     "end_time": "2022-09-13T17:51:15.083883",
     "exception": false,
     "start_time": "2022-09-13T17:51:15.059003",
     "status": "completed"
    },
    "tags": []
   },
   "outputs": [
    {
     "name": "stdout",
     "output_type": "stream",
     "text": [
      "Context: beyoncé giselle knowles-carter (/biːˈjɒnseɪ/ bee-yon-say) (born september 4, 1981) is an american singer, songwriter, record producer and actress. born and raised in houston, texas, she performed in various singing and dancing competitions as a child, and rose to fame in the late 1990s as lead singer of r&b girl-group destiny's child. managed by her father, mathew knowles, the group became one of the world's best-selling girl groups of all time. their hiatus saw the release of beyoncé's debut album, dangerously in love (2003), which established her as a solo artist worldwide, earned five grammy awards and featured the billboard hot 100 number-one singles \"crazy in love\" and \"baby boy\".\n",
      "Question: when did beyonce start becoming popular?\n",
      "Answer: {'text': 'in the late 1990s', 'answer_start': 269, 'answer_end': 286}\n"
     ]
    }
   ],
   "source": [
    "print(f\"Context: {train_contexts[0]}\")\n",
    "print(f\"Question: {train_questions[0]}\")\n",
    "print(f\"Answer: {train_answers[0]}\")"
   ]
  },
  {
   "cell_type": "code",
   "execution_count": 13,
   "id": "2bc32d36",
   "metadata": {
    "execution": {
     "iopub.execute_input": "2022-09-13T17:51:15.117964Z",
     "iopub.status.busy": "2022-09-13T17:51:15.117422Z",
     "iopub.status.idle": "2022-09-13T17:51:15.123498Z",
     "shell.execute_reply": "2022-09-13T17:51:15.122390Z"
    },
    "id": "ef941960",
    "outputId": "42261604-75eb-4a0f-a368-dc9497f14f77",
    "papermill": {
     "duration": 0.025219,
     "end_time": "2022-09-13T17:51:15.125986",
     "exception": false,
     "start_time": "2022-09-13T17:51:15.100767",
     "status": "completed"
    },
    "tags": []
   },
   "outputs": [
    {
     "name": "stdout",
     "output_type": "stream",
     "text": [
      "Context: the english name \"normans\" comes from the french words normans/normanz, plural of normant, modern french normand, which is itself borrowed from old low franconian nortmann \"northman\" or directly from old norse norðmaðr, latinized variously as nortmannus, normannus, or nordmannus (recorded in medieval latin, 9th century) to mean \"norseman, viking\".\n",
      "Question: what is the original meaning of the word norman?\n",
      "Answer: {'text': 'norseman, viking', 'answer_start': 331, 'answer_end': 347}\n"
     ]
    }
   ],
   "source": [
    "test_rec = 30\n",
    "print(f\"Context: {valid_contexts[test_rec]}\")\n",
    "print(f\"Question: {valid_questions[test_rec]}\")\n",
    "print(f\"Answer: {valid_answers[test_rec]}\")"
   ]
  },
  {
   "cell_type": "code",
   "execution_count": 14,
   "id": "97afb068",
   "metadata": {
    "execution": {
     "iopub.execute_input": "2022-09-13T17:51:15.222180Z",
     "iopub.status.busy": "2022-09-13T17:51:15.221477Z",
     "iopub.status.idle": "2022-09-13T17:51:16.213669Z",
     "shell.execute_reply": "2022-09-13T17:51:16.212652Z"
    },
    "id": "d18e682e",
    "outputId": "7a60db92-13d0-41ae-eff6-d46050ab46da",
    "papermill": {
     "duration": 1.011414,
     "end_time": "2022-09-13T17:51:16.215923",
     "exception": false,
     "start_time": "2022-09-13T17:51:15.204509",
     "status": "completed"
    },
    "tags": []
   },
   "outputs": [
    {
     "name": "stdout",
     "output_type": "stream",
     "text": [
      "653\n"
     ]
    },
    {
     "data": {
      "image/png": "[encoded data removed]",
      "text/plain": [
       "<Figure size 640x480 with 1 Axes>"
      ]
     },
     "metadata": {},
     "output_type": "display_data"
    }
   ],
   "source": [
    "#Text lengths to contextx\n",
    "token_lens = []\n",
    "\n",
    "for txt in train_contexts:\n",
    "    txt = txt.strip()  # remove leading and trailing whitespaces\n",
    "    token_lens.append(len(txt.split(' ')))\n",
    "  \n",
    "\n",
    "print(max(token_lens))\n",
    "\n",
    "plt.hist(token_lens,  bins=20)  # density=False would make counts\n",
    "plt.ylabel('Count')\n",
    "plt.xlabel('Length')\n",
    "plt.title('Distribution of Context Lengths');"
   ]
  },
  {
   "cell_type": "code",
   "execution_count": 15,
   "id": "5d412822",
   "metadata": {
    "execution": {
     "iopub.execute_input": "2022-09-13T17:51:16.249937Z",
     "iopub.status.busy": "2022-09-13T17:51:16.249129Z",
     "iopub.status.idle": "2022-09-13T17:51:17.011901Z",
     "shell.execute_reply": "2022-09-13T17:51:17.010920Z"
    },
    "id": "7bc3adf5",
    "outputId": "7d0f8949-7095-4a81-c8df-94fcb525ce1d",
    "papermill": {
     "duration": 0.782627,
     "end_time": "2022-09-13T17:51:17.014867",
     "exception": false,
     "start_time": "2022-09-13T17:51:16.232240",
     "status": "completed"
    },
    "tags": []
   },
   "outputs": [
    {
     "name": "stdout",
     "output_type": "stream",
     "text": [
      "40\n",
      "86821\n"
     ]
    },
    {
     "data": {
      "image/png": "[encoded data removed]",
      "text/plain": [
       "<Figure size 640x480 with 1 Axes>"
      ]
     },
     "metadata": {},
     "output_type": "display_data"
    }
   ],
   "source": [
    "#Test lengths of Questions\n",
    "token_lens2 = []\n",
    "\n",
    "for txt in train_questions:\n",
    "    txt = txt.strip()  # remove leading and trailing whitespaces\n",
    "    token_lens2.append(len(txt.split(' ')))\n",
    "\n",
    "\n",
    "print(max(token_lens2))\n",
    "print(len(token_lens2))\n",
    "\n",
    "plt.hist(token_lens2,  bins=20)  # density=False would make counts\n",
    "plt.ylabel('Count')\n",
    "plt.xlabel('Length')\n",
    "plt.title('Distribution of Question Lengths');"
   ]
  },
  {
   "cell_type": "code",
   "execution_count": 16,
   "id": "53be559d",
   "metadata": {
    "execution": {
     "iopub.execute_input": "2022-09-13T17:51:17.065587Z",
     "iopub.status.busy": "2022-09-13T17:51:17.065107Z",
     "iopub.status.idle": "2022-09-13T17:51:17.074785Z",
     "shell.execute_reply": "2022-09-13T17:51:17.068754Z"
    },
    "id": "4fe787c7",
    "papermill": {
     "duration": 0.038076,
     "end_time": "2022-09-13T17:51:17.078582",
     "exception": false,
     "start_time": "2022-09-13T17:51:17.040506",
     "status": "completed"
    },
    "tags": []
   },
   "outputs": [],
   "source": [
    "MAX_LENGTH = 250  "
   ]
  },
  {
   "attachments": {},
   "cell_type": "markdown",
   "id": "2875ff68",
   "metadata": {
    "id": "Th3Woxn44nsL",
    "papermill": {
     "duration": 0.024348,
     "end_time": "2022-09-13T17:51:17.127465",
     "exception": false,
     "start_time": "2022-09-13T17:51:17.103117",
     "status": "completed"
    },
    "tags": []
   },
   "source": [
    "### tokenize"
   ]
  },
  {
   "cell_type": "code",
   "execution_count": 17,
   "id": "1a2868cd",
   "metadata": {
    "execution": {
     "iopub.execute_input": "2022-09-13T17:51:17.189886Z",
     "iopub.status.busy": "2022-09-13T17:51:17.189476Z",
     "iopub.status.idle": "2022-09-13T17:52:14.629589Z",
     "shell.execute_reply": "2022-09-13T17:52:14.628546Z"
    },
    "id": "51cb39c3",
    "outputId": "11edb5e6-2807-4b0b-f018-96229e63436a",
    "papermill": {
     "duration": 57.477763,
     "end_time": "2022-09-13T17:52:14.632323",
     "exception": false,
     "start_time": "2022-09-13T17:51:17.154560",
     "status": "completed"
    },
    "tags": []
   },
   "outputs": [],
   "source": [
    "tokenizerFast = BertTokenizerFast.from_pretrained(MODEL_PATH)\n",
    "\n",
    "train_encodings_fast = tokenizerFast(train_questions, train_contexts,  max_length = MAX_LENGTH, truncation=True, padding=True)\n",
    "valid_encodings_fast = tokenizerFast(valid_questions,valid_contexts,  max_length = MAX_LENGTH, truncation=True, padding=True)\n"
   ]
  },
  {
   "cell_type": "code",
   "execution_count": 18,
   "id": "54d8701e",
   "metadata": {
    "execution": {
     "iopub.execute_input": "2022-09-13T17:52:14.669804Z",
     "iopub.status.busy": "2022-09-13T17:52:14.669454Z",
     "iopub.status.idle": "2022-09-13T17:52:14.675580Z",
     "shell.execute_reply": "2022-09-13T17:52:14.674675Z"
    },
    "id": "fdc7d1e1",
    "outputId": "515bca79-0d6c-4d7c-cbfd-ec5ba8d262bd",
    "papermill": {
     "duration": 0.02699,
     "end_time": "2022-09-13T17:52:14.677566",
     "exception": false,
     "start_time": "2022-09-13T17:52:14.650576",
     "status": "completed"
    },
    "tags": []
   },
   "outputs": [
    {
     "data": {
      "text/plain": [
       "transformers.tokenization_utils_base.BatchEncoding"
      ]
     },
     "execution_count": 18,
     "metadata": {},
     "output_type": "execute_result"
    }
   ],
   "source": [
    "type(train_encodings_fast)"
   ]
  },
  {
   "cell_type": "code",
   "execution_count": 19,
   "id": "4a67211d",
   "metadata": {
    "execution": {
     "iopub.execute_input": "2022-09-13T17:52:14.713367Z",
     "iopub.status.busy": "2022-09-13T17:52:14.713086Z",
     "iopub.status.idle": "2022-09-13T17:52:14.718521Z",
     "shell.execute_reply": "2022-09-13T17:52:14.717587Z"
    },
    "id": "85546596",
    "outputId": "409dea9c-0cfe-43ac-f43f-326caa3832c2",
    "papermill": {
     "duration": 0.026024,
     "end_time": "2022-09-13T17:52:14.721131",
     "exception": false,
     "start_time": "2022-09-13T17:52:14.695107",
     "status": "completed"
    },
    "tags": []
   },
   "outputs": [
    {
     "name": "stdout",
     "output_type": "stream",
     "text": [
      "dict_keys(['input_ids', 'token_type_ids', 'attention_mask'])\n",
      "dict_keys(['input_ids', 'token_type_ids', 'attention_mask'])\n",
      "86821\n",
      "250\n"
     ]
    }
   ],
   "source": [
    "\n",
    "print(train_encodings_fast.keys())\n",
    "print(valid_encodings_fast.keys())\n",
    "print(len(train_encodings_fast['input_ids']))\n",
    "print(len(train_encodings_fast['input_ids'][0]))"
   ]
  },
  {
   "cell_type": "code",
   "execution_count": 20,
   "id": "fcb34994",
   "metadata": {
    "execution": {
     "iopub.execute_input": "2022-09-13T17:52:14.757230Z",
     "iopub.status.busy": "2022-09-13T17:52:14.756421Z",
     "iopub.status.idle": "2022-09-13T17:52:14.762511Z",
     "shell.execute_reply": "2022-09-13T17:52:14.761180Z"
    },
    "id": "4021a345",
    "outputId": "73927e32-3f3f-427d-fcb9-89ec7d8acbd6",
    "papermill": {
     "duration": 0.026212,
     "end_time": "2022-09-13T17:52:14.764426",
     "exception": false,
     "start_time": "2022-09-13T17:52:14.738214",
     "status": "completed"
    },
    "tags": []
   },
   "outputs": [
    {
     "name": "stdout",
     "output_type": "stream",
     "text": [
      "[101, 2043, 2106, 20773, 2707, 3352, 2759, 1029, 102, 20773, 21025, 19358, 22815, 1011, 5708, 1006, 1013, 12170, 23432, 29715, 3501, 29678, 12325, 29685, 1013, 10506, 1011, 10930, 2078, 1011, 2360, 1007, 1006, 2141, 2244, 1018, 1010, 3261, 1007, 2003, 2019, 2137, 3220, 1010, 6009, 1010, 2501, 3135, 1998, 3883, 1012, 2141, 1998, 2992, 1999, 5395, 1010, 3146, 1010, 2016, 2864, 1999, 2536, 4823, 1998, 5613, 6479, 2004, 1037, 2775, 1010, 1998, 3123, 2000, 4476, 1999, 1996, 2397, 4134, 2004, 2599, 3220, 1997, 1054, 1004, 1038, 2611, 1011, 2177, 10461, 1005, 1055, 2775, 1012, 3266, 2011, 2014, 2269, 1010, 25436, 22815, 1010, 1996, 2177, 2150, 2028, 1997, 1996, 2088, 1005, 1055, 2190, 1011, 4855, 2611, 2967, 1997, 2035, 2051, 1012, 2037, 14221, 2387, 1996, 2713, 1997, 20773, 1005, 1055, 2834, 2201, 1010, 20754, 1999, 2293, 1006, 2494, 1007, 1010, 2029, 2511, 2014, 2004, 1037, 3948, 3063, 4969, 1010, 3687, 2274, 8922, 2982, 1998, 2956, 1996, 4908, 2980, 2531, 2193, 1011, 2028, 3895, 1000, 4689, 1999, 2293, 1000, 1998, 1000, 3336, 2879, 1000, 1012, 102, 0, 0, 0, 0, 0, 0, 0, 0, 0, 0, 0, 0, 0, 0, 0, 0, 0, 0, 0, 0, 0, 0, 0, 0, 0, 0, 0, 0, 0, 0, 0, 0, 0, 0, 0, 0, 0, 0, 0, 0, 0, 0, 0, 0, 0, 0, 0, 0, 0, 0, 0, 0, 0, 0, 0, 0, 0, 0, 0, 0, 0, 0, 0, 0, 0, 0, 0, 0, 0, 0, 0, 0, 0, 0, 0, 0]\n"
     ]
    }
   ],
   "source": [
    "print(train_encodings_fast['input_ids'][0])"
   ]
  },
  {
   "cell_type": "code",
   "execution_count": 21,
   "id": "f98223fd",
   "metadata": {
    "execution": {
     "iopub.execute_input": "2022-09-13T17:52:14.801751Z",
     "iopub.status.busy": "2022-09-13T17:52:14.800003Z",
     "iopub.status.idle": "2022-09-13T17:52:14.806932Z",
     "shell.execute_reply": "2022-09-13T17:52:14.806011Z"
    },
    "id": "4f320a38",
    "outputId": "1e06e245-8b2f-44e5-8515-5dc1b25caca6",
    "papermill": {
     "duration": 0.027413,
     "end_time": "2022-09-13T17:52:14.809038",
     "exception": false,
     "start_time": "2022-09-13T17:52:14.781625",
     "status": "completed"
    },
    "tags": []
   },
   "outputs": [
    {
     "data": {
      "text/plain": [
       "dict_keys(['text', 'answer_start', 'answer_end'])"
      ]
     },
     "execution_count": 21,
     "metadata": {},
     "output_type": "execute_result"
    }
   ],
   "source": [
    "type(train_answers[0]['text'])\n",
    "train_answers[0].keys()"
   ]
  },
  {
   "cell_type": "code",
   "execution_count": 22,
   "id": "f745e989",
   "metadata": {
    "execution": {
     "iopub.execute_input": "2022-09-13T17:52:14.845046Z",
     "iopub.status.busy": "2022-09-13T17:52:14.844197Z",
     "iopub.status.idle": "2022-09-13T17:52:14.848540Z",
     "shell.execute_reply": "2022-09-13T17:52:14.847678Z"
    },
    "id": "c38706d4",
    "papermill": {
     "duration": 0.024296,
     "end_time": "2022-09-13T17:52:14.850502",
     "exception": false,
     "start_time": "2022-09-13T17:52:14.826206",
     "status": "completed"
    },
    "tags": []
   },
   "outputs": [],
   "source": [
    "#train_answer_encodings_fast = tokenizerFast(train_answers[0]['text'],  max_length = MAX_LENGTH, truncation=True, padding=True)\n"
   ]
  },
  {
   "cell_type": "code",
   "execution_count": 23,
   "id": "a3822e6e",
   "metadata": {
    "execution": {
     "iopub.execute_input": "2022-09-13T17:52:14.886970Z",
     "iopub.status.busy": "2022-09-13T17:52:14.886318Z",
     "iopub.status.idle": "2022-09-13T17:52:14.893310Z",
     "shell.execute_reply": "2022-09-13T17:52:14.892460Z"
    },
    "id": "1357f9a5",
    "papermill": {
     "duration": 0.027238,
     "end_time": "2022-09-13T17:52:14.895262",
     "exception": false,
     "start_time": "2022-09-13T17:52:14.868024",
     "status": "completed"
    },
    "tags": []
   },
   "outputs": [],
   "source": [
    "def ret_Answer_start_and_end_train(idx):\n",
    "    ret_start = 0\n",
    "    ret_end = 0\n",
    "    answer_encoding_fast = tokenizerFast(train_answers[idx]['text'],  max_length = MAX_LENGTH, truncation=True, padding=True)\n",
    "    for a in range( len(train_encodings_fast['input_ids'][idx]) -  len(answer_encoding_fast['input_ids']) ): #len(train_encodings_fast['input_ids'][0])):\n",
    "        match = True\n",
    "        for i in range(1,len(answer_encoding_fast['input_ids']) - 1):\n",
    "            \n",
    "            if (answer_encoding_fast['input_ids'][i] != train_encodings_fast['input_ids'][idx][a + i]):\n",
    "                match = False\n",
    "                break\n",
    "        if match:\n",
    "            ret_start = a+1\n",
    "            ret_end = a+i+1\n",
    "            break\n",
    "    return(ret_start, ret_end)\n"
   ]
  },
  {
   "cell_type": "code",
   "execution_count": 24,
   "id": "4d69aa6e",
   "metadata": {
    "execution": {
     "iopub.execute_input": "2022-09-13T17:52:14.932007Z",
     "iopub.status.busy": "2022-09-13T17:52:14.931692Z",
     "iopub.status.idle": "2022-09-13T17:52:16.711234Z",
     "shell.execute_reply": "2022-09-13T17:52:16.708935Z"
    },
    "id": "176f8dbf",
    "outputId": "1154a021-6e3f-404c-996b-0ea1d033c337",
    "papermill": {
     "duration": 1.80043,
     "end_time": "2022-09-13T17:52:16.713579",
     "exception": false,
     "start_time": "2022-09-13T17:52:14.913149",
     "status": "completed"
    },
    "tags": []
   },
   "outputs": [
    {
     "name": "stdout",
     "output_type": "stream",
     "text": [
      "0 0\n",
      "\n",
      "split with luckett and rober\n",
      "[CLS] what event caused beyonce's depression? [SEP] letoya luckett and roberson became unhappy with mathew's managing of the band and eventually were replaced by farrah franklin and michelle williams. beyonce experienced depression following the split with luckett and roberson after being publicly blamed by the media, critics, and blogs for its cause. her long - standing boyfriend left her at this time. the depression was so severe it lasted for a couple of years, during which she occasionally kept herself in her bedroom for days and refused to eat anything. beyonce stated that she struggled to speak about her depression because destiny's child had just won their first grammy award and she feared no one would take her seriously. beyonce would later speak of her mother as the person who helped her fight it. franklin was dismissed, leaving just beyonce, rowland, and williams. [SEP] [PAD] [PAD] [PAD] [PAD] [PAD] [PAD] [PAD] [PAD] [PAD] [PAD] [PAD] [PAD] [PAD] [PAD] [PAD] [PAD] [PAD] [PAD] [PAD] [PAD] [PAD] [PAD] [PAD] [PAD] [PAD] [PAD] [PAD] [PAD] [PAD] [PAD] [PAD] [PAD] [PAD] [PAD] [PAD] [PAD] [PAD] [PAD] [PAD] [PAD] [PAD] [PAD] [PAD] [PAD] [PAD] [PAD] [PAD] [PAD] [PAD] [PAD] [PAD] [PAD] [PAD] [PAD] [PAD] [PAD] [PAD] [PAD] [PAD] [PAD] [PAD] [PAD] [PAD] [PAD] [PAD] [PAD] [PAD] [PAD] [PAD] [PAD] [PAD] [PAD] [PAD] [PAD] [PAD] [PAD] [PAD] [PAD] [PAD] [PAD]\n"
     ]
    }
   ],
   "source": [
    "test_rec=92\n",
    "\n",
    "z,x = ret_Answer_start_and_end_train(test_rec)\n",
    "print(z, x)\n",
    "\n",
    "predict_answer_tokens = train_encodings_fast.input_ids[test_rec][z : x]\n",
    "print(tokenizerFast.decode(predict_answer_tokens))\n",
    "print(train_answers[test_rec]['text'])\n",
    "print(tokenizerFast.decode(train_encodings_fast['input_ids'][test_rec]))"
   ]
  },
  {
   "cell_type": "code",
   "execution_count": 25,
   "id": "41fe18e3",
   "metadata": {
    "execution": {
     "iopub.execute_input": "2022-09-13T17:52:16.751030Z",
     "iopub.status.busy": "2022-09-13T17:52:16.750385Z",
     "iopub.status.idle": "2022-09-13T17:52:16.756301Z",
     "shell.execute_reply": "2022-09-13T17:52:16.755202Z"
    },
    "id": "853eb579",
    "outputId": "ab08626b-36ce-4561-c711-3651c93d2293",
    "papermill": {
     "duration": 0.028507,
     "end_time": "2022-09-13T17:52:16.760262",
     "exception": false,
     "start_time": "2022-09-13T17:52:16.731755",
     "status": "completed"
    },
    "tags": []
   },
   "outputs": [
    {
     "name": "stdout",
     "output_type": "stream",
     "text": [
      "dict_keys(['input_ids', 'token_type_ids', 'attention_mask'])\n",
      "dict_keys(['input_ids', 'token_type_ids', 'attention_mask'])\n",
      "86821\n"
     ]
    }
   ],
   "source": [
    "print(train_encodings_fast.keys())\n",
    "print(valid_encodings_fast.keys())\n",
    "print(len(train_encodings_fast['input_ids']))"
   ]
  },
  {
   "cell_type": "code",
   "execution_count": 26,
   "id": "49af14ce",
   "metadata": {
    "execution": {
     "iopub.execute_input": "2022-09-13T17:52:16.797225Z",
     "iopub.status.busy": "2022-09-13T17:52:16.796725Z",
     "iopub.status.idle": "2022-09-13T17:52:37.931234Z",
     "shell.execute_reply": "2022-09-13T17:52:37.930224Z"
    },
    "id": "463bc6ce",
    "outputId": "0324d8c2-dfc4-4ef0-cfa7-9e851831b6bf",
    "papermill": {
     "duration": 21.156085,
     "end_time": "2022-09-13T17:52:37.934572",
     "exception": false,
     "start_time": "2022-09-13T17:52:16.778487",
     "status": "completed"
    },
    "tags": []
   },
   "outputs": [
    {
     "name": "stdout",
     "output_type": "stream",
     "text": [
      "1190\n"
     ]
    }
   ],
   "source": [
    "start_positions = []\n",
    "end_positions = []\n",
    "ctr = 0\n",
    "for h in range(len(train_encodings_fast['input_ids'])):\n",
    "    #print(h)\n",
    "    s, e = ret_Answer_start_and_end_train(h)\n",
    "    start_positions.append(s)\n",
    "    end_positions.append(e)\n",
    "    if s==0:\n",
    "        ctr = ctr + 1\n",
    "\n",
    "    \n",
    "train_encodings_fast.update({'start_positions': start_positions, 'end_positions': end_positions})\n",
    "print(ctr)"
   ]
  },
  {
   "cell_type": "code",
   "execution_count": 27,
   "id": "dbeb96c0",
   "metadata": {
    "execution": {
     "iopub.execute_input": "2022-09-13T17:52:37.972041Z",
     "iopub.status.busy": "2022-09-13T17:52:37.971730Z",
     "iopub.status.idle": "2022-09-13T17:52:37.977273Z",
     "shell.execute_reply": "2022-09-13T17:52:37.976229Z"
    },
    "id": "994040fc",
    "outputId": "e6cfac86-b508-4321-cd97-3ff1090af1c4",
    "papermill": {
     "duration": 0.02805,
     "end_time": "2022-09-13T17:52:37.981228",
     "exception": false,
     "start_time": "2022-09-13T17:52:37.953178",
     "status": "completed"
    },
    "tags": []
   },
   "outputs": [
    {
     "name": "stdout",
     "output_type": "stream",
     "text": [
      "dict_keys(['input_ids', 'token_type_ids', 'attention_mask', 'start_positions', 'end_positions'])\n",
      "dict_keys(['input_ids', 'token_type_ids', 'attention_mask'])\n",
      "86821\n"
     ]
    }
   ],
   "source": [
    "print(train_encodings_fast.keys())\n",
    "print(valid_encodings_fast.keys())\n",
    "print(len(train_encodings_fast['input_ids']))"
   ]
  },
  {
   "cell_type": "code",
   "execution_count": 28,
   "id": "de1f63d3",
   "metadata": {
    "execution": {
     "iopub.execute_input": "2022-09-13T17:52:38.020115Z",
     "iopub.status.busy": "2022-09-13T17:52:38.019314Z",
     "iopub.status.idle": "2022-09-13T17:52:38.027923Z",
     "shell.execute_reply": "2022-09-13T17:52:38.026548Z"
    },
    "id": "0b206478",
    "outputId": "9d703d69-5abb-4522-ac7c-dd0b5ae6753e",
    "papermill": {
     "duration": 0.029748,
     "end_time": "2022-09-13T17:52:38.030037",
     "exception": false,
     "start_time": "2022-09-13T17:52:38.000289",
     "status": "completed"
    },
    "tags": []
   },
   "outputs": [
    {
     "name": "stdout",
     "output_type": "stream",
     "text": [
      "68\n",
      "71\n",
      "singing and dancing\n",
      "singing and dancing\n",
      "[CLS] what areas did beyonce compete in when she was growing up? [SEP] beyonce giselle knowles - carter ( / biːˈjɒnseɪ / bee - yon - say ) ( born september 4, 1981 ) is an american singer, songwriter, record producer and actress. born and raised in houston, texas, she performed in various singing and dancing competitions as a child, and rose to fame in the late 1990s as lead singer of r & b girl - group destiny's child. managed by her father, mathew knowles, the group became one of the world's best - selling girl groups of all time. their hiatus saw the release of beyonce's debut album, dangerously in love ( 2003 ), which established her as a solo artist worldwide, earned five grammy awards and featured the billboard hot 100 number - one singles \" crazy in love \" and \" baby boy \". [SEP] [PAD] [PAD] [PAD] [PAD] [PAD] [PAD] [PAD] [PAD] [PAD] [PAD] [PAD] [PAD] [PAD] [PAD] [PAD] [PAD] [PAD] [PAD] [PAD] [PAD] [PAD] [PAD] [PAD] [PAD] [PAD] [PAD] [PAD] [PAD] [PAD] [PAD] [PAD] [PAD] [PAD] [PAD] [PAD] [PAD] [PAD] [PAD] [PAD] [PAD] [PAD] [PAD] [PAD] [PAD] [PAD] [PAD] [PAD] [PAD] [PAD] [PAD] [PAD] [PAD] [PAD] [PAD] [PAD] [PAD] [PAD] [PAD] [PAD] [PAD] [PAD] [PAD] [PAD] [PAD] [PAD] [PAD] [PAD] [PAD] [PAD] [PAD] [PAD]\n"
     ]
    }
   ],
   "source": [
    "test_rec = 1\n",
    "print(train_encodings_fast['start_positions'][test_rec])\n",
    "print(train_encodings_fast['end_positions'][test_rec])\n",
    "predict_answer_tokens = train_encodings_fast.input_ids[test_rec][train_encodings_fast['start_positions'][test_rec] : train_encodings_fast['end_positions'][test_rec]]\n",
    "print(tokenizerFast.decode(predict_answer_tokens))\n",
    "print(train_answers[test_rec]['text'])\n",
    "print(tokenizerFast.decode(train_encodings_fast['input_ids'][test_rec]))"
   ]
  },
  {
   "cell_type": "code",
   "execution_count": 29,
   "id": "055b95bd",
   "metadata": {
    "execution": {
     "iopub.execute_input": "2022-09-13T17:52:38.066298Z",
     "iopub.status.busy": "2022-09-13T17:52:38.066030Z",
     "iopub.status.idle": "2022-09-13T17:52:38.072738Z",
     "shell.execute_reply": "2022-09-13T17:52:38.071704Z"
    },
    "id": "b0110bc1",
    "papermill": {
     "duration": 0.026951,
     "end_time": "2022-09-13T17:52:38.074706",
     "exception": false,
     "start_time": "2022-09-13T17:52:38.047755",
     "status": "completed"
    },
    "tags": []
   },
   "outputs": [],
   "source": [
    "def ret_Answer_start_and_end_valid(idx):\n",
    "    ret_start = 0\n",
    "    ret_end = 0\n",
    "    answer_encoding_fast = tokenizerFast(valid_answers[idx]['text'],  max_length = MAX_LENGTH, truncation=True, padding=True)\n",
    "    for a in range( len(valid_encodings_fast['input_ids'][idx])  -  len(answer_encoding_fast['input_ids'])   ): #len(train_encodings_fast['input_ids'][0])):\n",
    "        match = True\n",
    "        for i in range(1,len(answer_encoding_fast['input_ids']) - 1):\n",
    "            if (answer_encoding_fast['input_ids'][i] != valid_encodings_fast['input_ids'][idx][a + i]):\n",
    "                match = False\n",
    "                break\n",
    "        if match:\n",
    "            ret_start = a+1\n",
    "            ret_end = a+i+1\n",
    "            break\n",
    "    return(ret_start, ret_end)"
   ]
  },
  {
   "cell_type": "code",
   "execution_count": 30,
   "id": "52fc3dd4",
   "metadata": {
    "execution": {
     "iopub.execute_input": "2022-09-13T17:52:38.111161Z",
     "iopub.status.busy": "2022-09-13T17:52:38.110405Z",
     "iopub.status.idle": "2022-09-13T17:52:43.105974Z",
     "shell.execute_reply": "2022-09-13T17:52:43.104266Z"
    },
    "id": "d68cdd7d",
    "outputId": "31853e61-5518-4743-ec2d-02f232c174c1",
    "papermill": {
     "duration": 5.017022,
     "end_time": "2022-09-13T17:52:43.109091",
     "exception": false,
     "start_time": "2022-09-13T17:52:38.092069",
     "status": "completed"
    },
    "tags": []
   },
   "outputs": [
    {
     "name": "stdout",
     "output_type": "stream",
     "text": [
      "393\n"
     ]
    }
   ],
   "source": [
    "start_positions = []\n",
    "end_positions = []\n",
    "ctr = 0\n",
    "for h in range(len(valid_encodings_fast['input_ids']) ):\n",
    "    #print(h)\n",
    "    s, e = ret_Answer_start_and_end_valid(h)\n",
    "    start_positions.append(s)\n",
    "    end_positions.append(e)\n",
    "    if s==0:\n",
    "        ctr = ctr + 1\n",
    "\n",
    "    \n",
    "valid_encodings_fast.update({'start_positions': start_positions, 'end_positions': end_positions})\n",
    "print(ctr)"
   ]
  },
  {
   "cell_type": "code",
   "execution_count": 31,
   "id": "63500a13",
   "metadata": {
    "execution": {
     "iopub.execute_input": "2022-09-13T17:52:43.148681Z",
     "iopub.status.busy": "2022-09-13T17:52:43.148385Z",
     "iopub.status.idle": "2022-09-13T17:52:43.157142Z",
     "shell.execute_reply": "2022-09-13T17:52:43.155560Z"
    },
    "id": "7e8582e7",
    "outputId": "6fb48420-8cef-4062-abfd-a3e34fc56f0d",
    "papermill": {
     "duration": 0.032138,
     "end_time": "2022-09-13T17:52:43.160595",
     "exception": false,
     "start_time": "2022-09-13T17:52:43.128457",
     "status": "completed"
    },
    "tags": []
   },
   "outputs": [
    {
     "name": "stdout",
     "output_type": "stream",
     "text": [
      "france\n",
      "france\n",
      "[CLS] in what country is normandy located? [SEP] the normans ( norman : nourmands ; french : normands ; latin : normanni ) were the people who in the 10th and 11th centuries gave their name to normandy, a region in france. they were descended from norse ( \" norman \" comes from \" norseman \" ) raiders and pirates from denmark, iceland and norway who, under their leader rollo, agreed to swear fealty to king charles iii of west francia. through generations of assimilation and mixing with the native frankish and roman - gaulish populations, their descendants would gradually merge with the carolingian - based cultures of west francia. the distinct cultural and ethnic identity of the normans emerged initially in the first half of the 10th century, and it continued to evolve over the succeeding centuries. [SEP] [PAD] [PAD] [PAD] [PAD] [PAD] [PAD] [PAD] [PAD] [PAD] [PAD] [PAD] [PAD] [PAD] [PAD] [PAD] [PAD] [PAD] [PAD] [PAD] [PAD] [PAD] [PAD] [PAD] [PAD] [PAD] [PAD] [PAD] [PAD] [PAD] [PAD] [PAD] [PAD] [PAD] [PAD] [PAD] [PAD] [PAD] [PAD] [PAD] [PAD] [PAD] [PAD] [PAD] [PAD] [PAD] [PAD] [PAD] [PAD] [PAD] [PAD] [PAD] [PAD] [PAD] [PAD] [PAD] [PAD] [PAD] [PAD] [PAD] [PAD] [PAD] [PAD] [PAD] [PAD] [PAD] [PAD] [PAD] [PAD] [PAD] [PAD] [PAD] [PAD] [PAD] [PAD] [PAD] [PAD] [PAD] [PAD] [PAD] [PAD] [PAD] [PAD] [PAD] [PAD]\n"
     ]
    }
   ],
   "source": [
    "test_rec=2\n",
    "\n",
    "z,x = ret_Answer_start_and_end_valid(test_rec)\n",
    "\n",
    "predict_answer_tokens = valid_encodings_fast.input_ids[test_rec][z : x]\n",
    "print(tokenizerFast.decode(predict_answer_tokens))\n",
    "print(valid_answers[test_rec]['text'])\n",
    "print(tokenizerFast.decode(valid_encodings_fast['input_ids'][test_rec]))"
   ]
  },
  {
   "cell_type": "code",
   "execution_count": 32,
   "id": "ba282814",
   "metadata": {
    "execution": {
     "iopub.execute_input": "2022-09-13T17:52:43.197815Z",
     "iopub.status.busy": "2022-09-13T17:52:43.196770Z",
     "iopub.status.idle": "2022-09-13T17:52:43.204025Z",
     "shell.execute_reply": "2022-09-13T17:52:43.202984Z"
    },
    "id": "d222c20f",
    "outputId": "6d9f4e07-03ec-471d-b2c4-b707d12f8fd1",
    "papermill": {
     "duration": 0.028306,
     "end_time": "2022-09-13T17:52:43.206662",
     "exception": false,
     "start_time": "2022-09-13T17:52:43.178356",
     "status": "completed"
    },
    "tags": []
   },
   "outputs": [
    {
     "name": "stdout",
     "output_type": "stream",
     "text": [
      "dict_keys(['input_ids', 'token_type_ids', 'attention_mask', 'start_positions', 'end_positions'])\n",
      "dict_keys(['input_ids', 'token_type_ids', 'attention_mask', 'start_positions', 'end_positions'])\n",
      "86821\n",
      "86821\n",
      "86821\n",
      "20302\n",
      "20302\n",
      "20302\n"
     ]
    }
   ],
   "source": [
    "print(train_encodings_fast.keys())\n",
    "print(valid_encodings_fast.keys())\n",
    "print(len(train_encodings_fast['input_ids']))\n",
    "print(len(train_encodings_fast['start_positions']))\n",
    "print(len(train_encodings_fast['end_positions']))\n",
    "print(len(valid_encodings_fast['input_ids']))\n",
    "print(len(valid_encodings_fast['start_positions']))\n",
    "print(len(valid_encodings_fast['end_positions']))"
   ]
  },
  {
   "cell_type": "code",
   "execution_count": 33,
   "id": "22826cc2",
   "metadata": {
    "execution": {
     "iopub.execute_input": "2022-09-13T17:52:43.244119Z",
     "iopub.status.busy": "2022-09-13T17:52:43.243564Z",
     "iopub.status.idle": "2022-09-13T17:52:43.248086Z",
     "shell.execute_reply": "2022-09-13T17:52:43.247228Z"
    },
    "id": "93fdd6ed",
    "papermill": {
     "duration": 0.024757,
     "end_time": "2022-09-13T17:52:43.249892",
     "exception": false,
     "start_time": "2022-09-13T17:52:43.225135",
     "status": "completed"
    },
    "tags": []
   },
   "outputs": [],
   "source": [
    "#tokenizerFast.decode(train_encodings_fast['input_ids'][0])"
   ]
  },
  {
   "cell_type": "code",
   "execution_count": 34,
   "id": "391395d2",
   "metadata": {
    "execution": {
     "iopub.execute_input": "2022-09-13T17:52:43.287084Z",
     "iopub.status.busy": "2022-09-13T17:52:43.286314Z",
     "iopub.status.idle": "2022-09-13T17:52:43.293808Z",
     "shell.execute_reply": "2022-09-13T17:52:43.292830Z"
    },
    "id": "f026fd46",
    "outputId": "6c0a692a-f608-4522-ca3f-8186b8ac7d1d",
    "papermill": {
     "duration": 0.027906,
     "end_time": "2022-09-13T17:52:43.295758",
     "exception": false,
     "start_time": "2022-09-13T17:52:43.267852",
     "status": "completed"
    },
    "tags": []
   },
   "outputs": [
    {
     "data": {
      "text/plain": [
       "'[CLS] when did beyonce start becoming popular? [SEP] beyonce giselle knowles - carter ( / biːˈjɒnseɪ / bee - yon - say ) ( born september 4, 1981 ) is an american singer, songwriter, record producer and actress. born and raised in houston, texas, she performed in various singing and dancing competitions as a child, and rose to fame in the late 1990s as lead singer of r & b girl - group destiny\\'s child. managed by her father, mathew knowles, the group became one of the world\\'s best - selling girl groups of all time. their hiatus saw the release of beyonce\\'s debut album, dangerously in love ( 2003 ), which established her as a solo artist worldwide, earned five grammy awards and featured the billboard hot 100 number - one singles \" crazy in love \" and \" baby boy \". [SEP] [PAD] [PAD] [PAD] [PAD] [PAD] [PAD] [PAD] [PAD] [PAD] [PAD] [PAD] [PAD] [PAD] [PAD] [PAD] [PAD] [PAD] [PAD] [PAD] [PAD] [PAD] [PAD] [PAD] [PAD] [PAD] [PAD] [PAD] [PAD] [PAD] [PAD] [PAD] [PAD] [PAD] [PAD] [PAD] [PAD] [PAD] [PAD] [PAD] [PAD] [PAD] [PAD] [PAD] [PAD] [PAD] [PAD] [PAD] [PAD] [PAD] [PAD] [PAD] [PAD] [PAD] [PAD] [PAD] [PAD] [PAD] [PAD] [PAD] [PAD] [PAD] [PAD] [PAD] [PAD] [PAD] [PAD] [PAD] [PAD] [PAD] [PAD] [PAD] [PAD] [PAD] [PAD] [PAD] [PAD]'"
      ]
     },
     "execution_count": 34,
     "metadata": {},
     "output_type": "execute_result"
    }
   ],
   "source": [
    "tokenizerFast.decode(train_encodings_fast['input_ids'][0])"
   ]
  },
  {
   "cell_type": "code",
   "execution_count": 35,
   "id": "4224a1b0",
   "metadata": {
    "execution": {
     "iopub.execute_input": "2022-09-13T17:52:43.333031Z",
     "iopub.status.busy": "2022-09-13T17:52:43.332259Z",
     "iopub.status.idle": "2022-09-13T17:52:43.337883Z",
     "shell.execute_reply": "2022-09-13T17:52:43.336800Z"
    },
    "id": "6b07ac45",
    "outputId": "5eda93bc-2e5c-46f5-8c7c-f797c7400457",
    "papermill": {
     "duration": 0.026504,
     "end_time": "2022-09-13T17:52:43.340181",
     "exception": false,
     "start_time": "2022-09-13T17:52:43.313677",
     "status": "completed"
    },
    "tags": []
   },
   "outputs": [
    {
     "name": "stdout",
     "output_type": "stream",
     "text": [
      "in the late 1990s\n"
     ]
    }
   ],
   "source": [
    "test_row= 0\n",
    "print(train_contexts[test_row][train_answers[test_row]['answer_start']:train_answers[test_row]['answer_end']])"
   ]
  },
  {
   "cell_type": "code",
   "execution_count": 36,
   "id": "2b8bde7e",
   "metadata": {
    "execution": {
     "iopub.execute_input": "2022-09-13T17:52:43.377604Z",
     "iopub.status.busy": "2022-09-13T17:52:43.376698Z",
     "iopub.status.idle": "2022-09-13T17:52:43.383675Z",
     "shell.execute_reply": "2022-09-13T17:52:43.382671Z"
    },
    "id": "4fac4de2",
    "outputId": "155ff220-e17f-40b8-fd36-ea314185658c",
    "papermill": {
     "duration": 0.027471,
     "end_time": "2022-09-13T17:52:43.385759",
     "exception": false,
     "start_time": "2022-09-13T17:52:43.358288",
     "status": "completed"
    },
    "tags": []
   },
   "outputs": [
    {
     "data": {
      "text/plain": [
       "'in the late 1990s'"
      ]
     },
     "execution_count": 36,
     "metadata": {},
     "output_type": "execute_result"
    }
   ],
   "source": [
    "\n",
    "answer_start_index = 75\n",
    "answer_end_index = 79\n",
    "\n",
    "predict_answer_tokens = train_encodings_fast.input_ids[0][answer_start_index : answer_end_index]\n",
    "tokenizerFast.decode(predict_answer_tokens)"
   ]
  },
  {
   "attachments": {},
   "cell_type": "markdown",
   "id": "9f4b557b",
   "metadata": {},
   "source": [
    "I am testing using a pretrained model"
   ]
  },
  {
   "cell_type": "code",
   "execution_count": 37,
   "id": "653392be",
   "metadata": {
    "execution": {
     "iopub.execute_input": "2022-09-13T17:52:43.457298Z",
     "iopub.status.busy": "2022-09-13T17:52:43.457043Z",
     "iopub.status.idle": "2022-09-13T17:52:43.461025Z",
     "shell.execute_reply": "2022-09-13T17:52:43.460013Z"
    },
    "id": "6195b935",
    "papermill": {
     "duration": 0.024709,
     "end_time": "2022-09-13T17:52:43.463350",
     "exception": false,
     "start_time": "2022-09-13T17:52:43.438641",
     "status": "completed"
    },
    "tags": []
   },
   "outputs": [],
   "source": [
    "tokenizer2 = BertTokenizer.from_pretrained(\"deepset/bert-base-cased-squad2\")\n",
    "model2 = BertForQuestionAnswering.from_pretrained(\"deepset/bert-base-cased-squad2\")"
   ]
  },
  {
   "cell_type": "code",
   "execution_count": 38,
   "id": "8aaf4564",
   "metadata": {
    "execution": {
     "iopub.execute_input": "2022-09-13T17:52:43.499938Z",
     "iopub.status.busy": "2022-09-13T17:52:43.499643Z",
     "iopub.status.idle": "2022-09-13T17:52:43.504244Z",
     "shell.execute_reply": "2022-09-13T17:52:43.502750Z"
    },
    "id": "aa6588b8",
    "papermill": {
     "duration": 0.025259,
     "end_time": "2022-09-13T17:52:43.506291",
     "exception": false,
     "start_time": "2022-09-13T17:52:43.481032",
     "status": "completed"
    },
    "tags": []
   },
   "outputs": [
    {
     "name": "stdout",
     "output_type": "stream",
     "text": [
      "when did beyonce start becoming popular?\n",
      "beyoncé giselle knowles-carter (/biːˈjɒnseɪ/ bee-yon-say) (born september 4, 1981) is an american singer, songwriter, record producer and actress. born and raised in houston, texas, she performed in various singing and dancing competitions as a child, and rose to fame in the late 1990s as lead singer of r&b girl-group destiny's child. managed by her father, mathew knowles, the group became one of the world's best-selling girl groups of all time. their hiatus saw the release of beyoncé's debut album, dangerously in love (2003), which established her as a solo artist worldwide, earned five grammy awards and featured the billboard hot 100 number-one singles \"crazy in love\" and \"baby boy\".\n"
     ]
    }
   ],
   "source": [
    "question= train_questions[0]\n",
    "text = train_contexts[0]\n",
    "\n",
    "print(question)\n",
    "print(text)\n"
   ]
  },
  {
   "cell_type": "code",
   "execution_count": 39,
   "id": "def0e8f5",
   "metadata": {
    "execution": {
     "iopub.execute_input": "2022-09-13T17:52:43.542998Z",
     "iopub.status.busy": "2022-09-13T17:52:43.542689Z",
     "iopub.status.idle": "2022-09-13T17:52:43.546579Z",
     "shell.execute_reply": "2022-09-13T17:52:43.545564Z"
    },
    "id": "788b0625",
    "papermill": {
     "duration": 0.02452,
     "end_time": "2022-09-13T17:52:43.548889",
     "exception": false,
     "start_time": "2022-09-13T17:52:43.524369",
     "status": "completed"
    },
    "tags": []
   },
   "outputs": [],
   "source": [
    "inputs = tokenizer2(question, text, return_tensors=\"pt\")\n",
    "with torch.no_grad():\n",
    "   outputs = model2(**inputs)"
   ]
  },
  {
   "cell_type": "code",
   "execution_count": 40,
   "id": "ae31ef47",
   "metadata": {
    "execution": {
     "iopub.execute_input": "2022-09-13T17:52:43.586077Z",
     "iopub.status.busy": "2022-09-13T17:52:43.585820Z",
     "iopub.status.idle": "2022-09-13T17:52:43.589670Z",
     "shell.execute_reply": "2022-09-13T17:52:43.588707Z"
    },
    "id": "bb4a8a70",
    "papermill": {
     "duration": 0.024894,
     "end_time": "2022-09-13T17:52:43.591658",
     "exception": false,
     "start_time": "2022-09-13T17:52:43.566764",
     "status": "completed"
    },
    "tags": []
   },
   "outputs": [
    {
     "name": "stdout",
     "output_type": "stream",
     "text": [
      "tensor(86)\n",
      "tensor(87)\n"
     ]
    }
   ],
   "source": [
    "answer_start_index = outputs.start_logits.argmax()\n",
    "answer_end_index = outputs.end_logits.argmax()\n",
    "print(answer_start_index)\n",
    "print(answer_end_index)\n",
    "\n"
   ]
  },
  {
   "cell_type": "code",
   "execution_count": 41,
   "id": "d0999f35",
   "metadata": {
    "execution": {
     "iopub.execute_input": "2022-09-13T17:52:43.629116Z",
     "iopub.status.busy": "2022-09-13T17:52:43.628358Z",
     "iopub.status.idle": "2022-09-13T17:52:43.632498Z",
     "shell.execute_reply": "2022-09-13T17:52:43.631659Z"
    },
    "id": "26d2ede5",
    "papermill": {
     "duration": 0.025134,
     "end_time": "2022-09-13T17:52:43.634301",
     "exception": false,
     "start_time": "2022-09-13T17:52:43.609167",
     "status": "completed"
    },
    "tags": []
   },
   "outputs": [
    {
     "data": {
      "text/plain": [
       "'late 1990s'"
      ]
     },
     "execution_count": 41,
     "metadata": {},
     "output_type": "execute_result"
    }
   ],
   "source": [
    "predict_answer_tokens = inputs.input_ids[0, answer_start_index : answer_end_index + 1]\n",
    "tokenizer2.decode(predict_answer_tokens)"
   ]
  },
  {
   "cell_type": "code",
   "execution_count": 42,
   "id": "9055a511",
   "metadata": {
    "execution": {
     "iopub.execute_input": "2022-09-13T17:52:43.708019Z",
     "iopub.status.busy": "2022-09-13T17:52:43.707213Z",
     "iopub.status.idle": "2022-09-13T17:52:43.715420Z",
     "shell.execute_reply": "2022-09-13T17:52:43.714595Z"
    },
    "id": "afb3c9e4",
    "papermill": {
     "duration": 0.029545,
     "end_time": "2022-09-13T17:52:43.717406",
     "exception": false,
     "start_time": "2022-09-13T17:52:43.687861",
     "status": "completed"
    },
    "tags": []
   },
   "outputs": [],
   "source": [
    "class InputDataset(Dataset):\n",
    "    def __init__(self, encodings):\n",
    "        self.encodings = encodings\n",
    "    def __getitem__(self, i):\n",
    "        return {\n",
    "            'input_ids': torch.tensor(self.encodings['input_ids'][i]),\n",
    "            'token_type_ids': torch.tensor(self.encodings['token_type_ids'][i]),\n",
    "            'attention_mask': torch.tensor(self.encodings['attention_mask'][i]),\n",
    "            'start_positions': torch.tensor(self.encodings['start_positions'][i]),\n",
    "            'end_positions': torch.tensor(self.encodings['end_positions'][i])\n",
    "        }\n",
    "    def __len__(self):\n",
    "        return len(self.encodings['input_ids'])"
   ]
  },
  {
   "cell_type": "code",
   "execution_count": 43,
   "id": "f2216bf8",
   "metadata": {
    "execution": {
     "iopub.execute_input": "2022-09-13T17:52:43.755255Z",
     "iopub.status.busy": "2022-09-13T17:52:43.753616Z",
     "iopub.status.idle": "2022-09-13T17:52:43.758542Z",
     "shell.execute_reply": "2022-09-13T17:52:43.757659Z"
    },
    "id": "5b637293",
    "papermill": {
     "duration": 0.025558,
     "end_time": "2022-09-13T17:52:43.760555",
     "exception": false,
     "start_time": "2022-09-13T17:52:43.734997",
     "status": "completed"
    },
    "tags": []
   },
   "outputs": [],
   "source": [
    "train_dataset = InputDataset(train_encodings_fast)\n",
    "valid_dataset = InputDataset(valid_encodings_fast)"
   ]
  },
  {
   "cell_type": "code",
   "execution_count": 44,
   "id": "4ed206be",
   "metadata": {
    "execution": {
     "iopub.execute_input": "2022-09-13T17:52:43.798507Z",
     "iopub.status.busy": "2022-09-13T17:52:43.797755Z",
     "iopub.status.idle": "2022-09-13T17:52:43.803945Z",
     "shell.execute_reply": "2022-09-13T17:52:43.802916Z"
    },
    "id": "d826bd72",
    "outputId": "fb300119-987c-4966-9c17-32857450fdb7",
    "papermill": {
     "duration": 0.027381,
     "end_time": "2022-09-13T17:52:43.805954",
     "exception": false,
     "start_time": "2022-09-13T17:52:43.778573",
     "status": "completed"
    },
    "tags": []
   },
   "outputs": [
    {
     "name": "stdout",
     "output_type": "stream",
     "text": [
      "86821\n",
      "dict_keys(['input_ids', 'token_type_ids', 'attention_mask', 'start_positions', 'end_positions'])\n"
     ]
    }
   ],
   "source": [
    "print(len(train_dataset))\n",
    "print(train_dataset[0].keys())"
   ]
  },
  {
   "cell_type": "code",
   "execution_count": 45,
   "id": "eff891ab",
   "metadata": {
    "execution": {
     "iopub.execute_input": "2022-09-13T17:52:43.845111Z",
     "iopub.status.busy": "2022-09-13T17:52:43.844232Z",
     "iopub.status.idle": "2022-09-13T17:52:43.849581Z",
     "shell.execute_reply": "2022-09-13T17:52:43.848637Z"
    },
    "id": "d749fc85",
    "papermill": {
     "duration": 0.027392,
     "end_time": "2022-09-13T17:52:43.851587",
     "exception": false,
     "start_time": "2022-09-13T17:52:43.824195",
     "status": "completed"
    },
    "tags": []
   },
   "outputs": [],
   "source": [
    "train_data_loader = DataLoader(train_dataset, batch_size=16, shuffle=True)\n",
    "valid_data_loader = DataLoader(valid_dataset, batch_size=32)"
   ]
  },
  {
   "attachments": {},
   "cell_type": "markdown",
   "id": "fc6005ff",
   "metadata": {
    "id": "Nsjr1KlD5pU0",
    "papermill": {
     "duration": 0.018386,
     "end_time": "2022-09-13T17:52:43.932892",
     "exception": false,
     "start_time": "2022-09-13T17:52:43.914506",
     "status": "completed"
    },
    "tags": []
   },
   "source": [
    "#Model creatiion\n"
   ]
  },
  {
   "cell_type": "code",
   "execution_count": 46,
   "id": "8d7cabde",
   "metadata": {
    "execution": {
     "iopub.execute_input": "2022-09-13T17:52:43.970269Z",
     "iopub.status.busy": "2022-09-13T17:52:43.970000Z",
     "iopub.status.idle": "2022-09-13T17:52:43.974113Z",
     "shell.execute_reply": "2022-09-13T17:52:43.973131Z"
    },
    "id": "8f4956ee",
    "papermill": {
     "duration": 0.025366,
     "end_time": "2022-09-13T17:52:43.976047",
     "exception": false,
     "start_time": "2022-09-13T17:52:43.950681",
     "status": "completed"
    },
    "tags": []
   },
   "outputs": [
    {
     "name": "stderr",
     "output_type": "stream",
     "text": [
      "Some weights of the model checkpoint at bert-base-uncased were not used when initializing BertForQuestionAnswering: ['cls.predictions.transform.dense.weight', 'cls.predictions.decoder.weight', 'cls.predictions.transform.LayerNorm.bias', 'cls.predictions.bias', 'cls.predictions.transform.dense.bias', 'cls.seq_relationship.weight', 'cls.seq_relationship.bias', 'cls.predictions.transform.LayerNorm.weight']\n",
      "- This IS expected if you are initializing BertForQuestionAnswering from the checkpoint of a model trained on another task or with another architecture (e.g. initializing a BertForSequenceClassification model from a BertForPreTraining model).\n",
      "- This IS NOT expected if you are initializing BertForQuestionAnswering from the checkpoint of a model that you expect to be exactly identical (initializing a BertForSequenceClassification model from a BertForSequenceClassification model).\n",
      "Some weights of BertForQuestionAnswering were not initialized from the model checkpoint at bert-base-uncased and are newly initialized: ['qa_outputs.bias', 'qa_outputs.weight']\n",
      "You should probably TRAIN this model on a down-stream task to be able to use it for predictions and inference.\n"
     ]
    }
   ],
   "source": [
    "model = BertForQuestionAnswering.from_pretrained(MODEL_PATH)"
   ]
  },
  {
   "cell_type": "code",
   "execution_count": 47,
   "id": "3e5165db",
   "metadata": {
    "execution": {
     "iopub.execute_input": "2022-09-13T17:52:44.013921Z",
     "iopub.status.busy": "2022-09-13T17:52:44.013641Z",
     "iopub.status.idle": "2022-09-13T17:53:05.580969Z",
     "shell.execute_reply": "2022-09-13T17:53:05.579130Z"
    },
    "id": "pFzmeVDe5uS2",
    "outputId": "7fdb0a5d-e661-40c4-f621-4762b36f77ad",
    "papermill": {
     "duration": 21.589239,
     "end_time": "2022-09-13T17:53:05.583468",
     "exception": false,
     "start_time": "2022-09-13T17:52:43.994229",
     "status": "completed"
    },
    "tags": []
   },
   "outputs": [
    {
     "name": "stderr",
     "output_type": "stream",
     "text": [
      "Some weights of the model checkpoint at bert-base-uncased were not used when initializing BertModel: ['cls.predictions.transform.dense.weight', 'cls.predictions.decoder.weight', 'cls.predictions.transform.LayerNorm.bias', 'cls.predictions.bias', 'cls.predictions.transform.dense.bias', 'cls.seq_relationship.weight', 'cls.seq_relationship.bias', 'cls.predictions.transform.LayerNorm.weight']\n",
      "- This IS expected if you are initializing BertModel from the checkpoint of a model trained on another task or with another architecture (e.g. initializing a BertForSequenceClassification model from a BertForPreTraining model).\n",
      "- This IS NOT expected if you are initializing BertModel from the checkpoint of a model that you expect to be exactly identical (initializing a BertForSequenceClassification model from a BertForSequenceClassification model).\n"
     ]
    }
   ],
   "source": [
    "bert_model = BertModel.from_pretrained(MODEL_PATH)  #MODEL_PATH = \"bert-base-uncased\"\n",
    "\n",
    "class QAModel(nn.Module):\n",
    "    def __init__(self):\n",
    "        super(QAModel, self).__init__()\n",
    "        self.bert = bert_model\n",
    "        self.drop_out = nn.Dropout(0.1)\n",
    "        self.l1 = nn.Linear(768 * 2, 768 * 2)\n",
    "        self.l2 = nn.Linear(768 * 2, 2)\n",
    "        self.linear_relu_stack = nn.Sequential(\n",
    "            self.drop_out,\n",
    "            self.l1,\n",
    "            nn.LeakyReLU(),\n",
    "            self.l2 \n",
    "        )\n",
    "        \n",
    "    def forward(self, input_ids, attention_mask, token_type_ids):\n",
    "        model_output = self.bert(input_ids, attention_mask=attention_mask, token_type_ids=token_type_ids, output_hidden_states=True)\n",
    "        hidden_states = model_output[2]\n",
    "        out = torch.cat((hidden_states[-1], hidden_states[-3]), dim=-1)  # taking Start logits from last BERT layer, End Logits from third to last layer\n",
    "        logits = self.linear_relu_stack(out)\n",
    "        \n",
    "        start_logits, end_logits = logits.split(1, dim=-1)\n",
    "        \n",
    "        start_logits = start_logits.squeeze(-1)\n",
    "        end_logits = end_logits.squeeze(-1)\n",
    "\n",
    "        return start_logits, end_logits"
   ]
  },
  {
   "cell_type": "code",
   "execution_count": 48,
   "id": "07f94622",
   "metadata": {
    "execution": {
     "iopub.execute_input": "2022-09-13T17:53:05.622613Z",
     "iopub.status.busy": "2022-09-13T17:53:05.622291Z",
     "iopub.status.idle": "2022-09-13T17:53:05.651434Z",
     "shell.execute_reply": "2022-09-13T17:53:05.650549Z"
    },
    "id": "edVXaH2F6dkm",
    "papermill": {
     "duration": 0.050654,
     "end_time": "2022-09-13T17:53:05.653648",
     "exception": false,
     "start_time": "2022-09-13T17:53:05.602994",
     "status": "completed"
    },
    "tags": []
   },
   "outputs": [],
   "source": [
    "model = QAModel()"
   ]
  },
  {
   "cell_type": "code",
   "execution_count": 49,
   "id": "61c0f3c1",
   "metadata": {
    "execution": {
     "iopub.execute_input": "2022-09-13T17:53:05.692439Z",
     "iopub.status.busy": "2022-09-13T17:53:05.692121Z",
     "iopub.status.idle": "2022-09-13T17:53:05.765497Z",
     "shell.execute_reply": "2022-09-13T17:53:05.764340Z"
    },
    "id": "8d692464",
    "outputId": "f0dc32c4-2803-4e34-c1df-a224d6f3404f",
    "papermill": {
     "duration": 0.095583,
     "end_time": "2022-09-13T17:53:05.767971",
     "exception": false,
     "start_time": "2022-09-13T17:53:05.672388",
     "status": "completed"
    },
    "tags": []
   },
   "outputs": [
    {
     "name": "stdout",
     "output_type": "stream",
     "text": [
      "cpu\n"
     ]
    }
   ],
   "source": [
    "device = torch.device('cuda') if torch.cuda.is_available() else torch.device('cpu')\n",
    "print(device)"
   ]
  },
  {
   "cell_type": "code",
   "execution_count": 50,
   "id": "d22d837d",
   "metadata": {
    "execution": {
     "iopub.execute_input": "2022-09-13T17:53:05.842769Z",
     "iopub.status.busy": "2022-09-13T17:53:05.842039Z",
     "iopub.status.idle": "2022-09-13T17:53:05.847739Z",
     "shell.execute_reply": "2022-09-13T17:53:05.846865Z"
    },
    "id": "412c4b4b",
    "papermill": {
     "duration": 0.027175,
     "end_time": "2022-09-13T17:53:05.849792",
     "exception": false,
     "start_time": "2022-09-13T17:53:05.822617",
     "status": "completed"
    },
    "tags": []
   },
   "outputs": [],
   "source": [
    "# manually calculate Cross Entropy Loss\n",
    "def loss_fn(start_logits, end_logits, start_positions, end_positions):\n",
    "    loss_fct = nn.CrossEntropyLoss()\n",
    "    start_loss = loss_fct(start_logits, start_positions)\n",
    "    end_loss = loss_fct(end_logits, end_positions)\n",
    "    total_loss = (start_loss + end_loss)/2\n",
    "    return total_loss"
   ]
  },
  {
   "cell_type": "code",
   "execution_count": 51,
   "id": "bf98fa5c",
   "metadata": {
    "execution": {
     "iopub.execute_input": "2022-09-13T17:53:05.887629Z",
     "iopub.status.busy": "2022-09-13T17:53:05.886837Z",
     "iopub.status.idle": "2022-09-13T17:53:05.894129Z",
     "shell.execute_reply": "2022-09-13T17:53:05.893219Z"
    },
    "id": "4fc0f650",
    "papermill": {
     "duration": 0.028303,
     "end_time": "2022-09-13T17:53:05.896174",
     "exception": false,
     "start_time": "2022-09-13T17:53:05.867871",
     "status": "completed"
    },
    "tags": []
   },
   "outputs": [],
   "source": [
    "\n",
    "\n",
    "def focal_loss_fn(start_logits, end_logits, start_positions, end_positions, gamma):\n",
    "    \n",
    "    #calculate Probabilities by applying Softmax to the Start and End Logits. Then get 1 - probabilities\n",
    "    smax = nn.Softmax(dim=1)\n",
    "    probs_start = smax(start_logits)\n",
    "    inv_probs_start = 1 - probs_start\n",
    "    probs_end = smax(end_logits)\n",
    "    inv_probs_end = 1 - probs_end\n",
    "    \n",
    "    #get log of probabilities. Note: NLLLoss required log probabilities. This is the Natural Log (Log base e)\n",
    "    lsmax = nn.LogSoftmax(dim=1)\n",
    "    log_probs_start = lsmax(start_logits)\n",
    "    log_probs_end = lsmax(end_logits)\n",
    "    \n",
    "    nll = nn.NLLLoss()\n",
    "    \n",
    "    fl_start = nll(torch.pow(inv_probs_start, gamma)* log_probs_start, start_positions)\n",
    "    fl_end = nll(torch.pow(inv_probs_end, gamma)*log_probs_end, end_positions)\n",
    "    \n",
    "    #return mean of the Loss for the start and end logits\n",
    "    return ((fl_start + fl_end)/2)"
   ]
  },
  {
   "cell_type": "code",
   "execution_count": null,
   "id": "1aeb1fc2",
   "metadata": {},
   "outputs": [],
   "source": []
  },
  {
   "cell_type": "code",
   "execution_count": 52,
   "id": "ab21be98",
   "metadata": {
    "execution": {
     "iopub.execute_input": "2022-09-13T17:53:05.971866Z",
     "iopub.status.busy": "2022-09-13T17:53:05.971537Z",
     "iopub.status.idle": "2022-09-13T17:53:05.975651Z",
     "shell.execute_reply": "2022-09-13T17:53:05.974735Z"
    },
    "id": "099ac1d0",
    "papermill": {
     "duration": 0.026227,
     "end_time": "2022-09-13T17:53:05.977746",
     "exception": false,
     "start_time": "2022-09-13T17:53:05.951519",
     "status": "completed"
    },
    "tags": []
   },
   "outputs": [
    {
     "data": {
      "text/plain": [
       "dict_keys(['input_ids', 'token_type_ids', 'attention_mask', 'start_positions', 'end_positions'])"
      ]
     },
     "execution_count": 52,
     "metadata": {},
     "output_type": "execute_result"
    }
   ],
   "source": [
    "data = next(iter(train_data_loader))\n",
    "data.keys()"
   ]
  },
  {
   "cell_type": "code",
   "execution_count": 53,
   "id": "32ed13dc",
   "metadata": {
    "execution": {
     "iopub.execute_input": "2022-09-13T17:53:06.017135Z",
     "iopub.status.busy": "2022-09-13T17:53:06.016318Z",
     "iopub.status.idle": "2022-09-13T17:53:06.020743Z",
     "shell.execute_reply": "2022-09-13T17:53:06.019821Z"
    },
    "id": "2a586580",
    "papermill": {
     "duration": 0.02602,
     "end_time": "2022-09-13T17:53:06.022649",
     "exception": false,
     "start_time": "2022-09-13T17:53:05.996629",
     "status": "completed"
    },
    "tags": []
   },
   "outputs": [
    {
     "name": "stdout",
     "output_type": "stream",
     "text": [
      "torch.Size([16, 250])\n",
      "torch.Size([16, 250])\n"
     ]
    }
   ],
   "source": [
    "print(data['input_ids'].shape)\n",
    "print(data['attention_mask'].shape)"
   ]
  },
  {
   "cell_type": "code",
   "execution_count": 54,
   "id": "f5c6b64d",
   "metadata": {
    "execution": {
     "iopub.execute_input": "2022-09-13T17:53:06.062777Z",
     "iopub.status.busy": "2022-09-13T17:53:06.062478Z",
     "iopub.status.idle": "2022-09-13T17:53:06.066748Z",
     "shell.execute_reply": "2022-09-13T17:53:06.065680Z"
    },
    "id": "c24e62c4",
    "papermill": {
     "duration": 0.026562,
     "end_time": "2022-09-13T17:53:06.068834",
     "exception": false,
     "start_time": "2022-09-13T17:53:06.042272",
     "status": "completed"
    },
    "tags": []
   },
   "outputs": [],
   "source": [
    "#run one row\n",
    "model.to(device)\n",
    "model.train()\n",
    "input_ids = data['input_ids'][0].unsqueeze(0).to(device)\n",
    "attention_mask = data['attention_mask'][0].unsqueeze(0).to(device)\n",
    "start_positions = data['start_positions'][0].unsqueeze(0).to(device)\n",
    "end_positions = data['end_positions'][0].unsqueeze(0).to(device)"
   ]
  },
  {
   "cell_type": "code",
   "execution_count": 55,
   "id": "a7728678",
   "metadata": {
    "execution": {
     "iopub.execute_input": "2022-09-13T17:53:06.106617Z",
     "iopub.status.busy": "2022-09-13T17:53:06.106334Z",
     "iopub.status.idle": "2022-09-13T17:53:06.110670Z",
     "shell.execute_reply": "2022-09-13T17:53:06.109648Z"
    },
    "id": "34fc2c30",
    "papermill": {
     "duration": 0.025851,
     "end_time": "2022-09-13T17:53:06.112728",
     "exception": false,
     "start_time": "2022-09-13T17:53:06.086877",
     "status": "completed"
    },
    "tags": []
   },
   "outputs": [],
   "source": [
    "#out_start, out_end = model(input_ids=input_ids, attention_mask=attention_mask, token_type_ids=token_type_ids)"
   ]
  },
  {
   "cell_type": "code",
   "execution_count": 56,
   "id": "32d431d8",
   "metadata": {
    "execution": {
     "iopub.execute_input": "2022-09-13T17:53:06.151207Z",
     "iopub.status.busy": "2022-09-13T17:53:06.150896Z",
     "iopub.status.idle": "2022-09-13T17:53:06.154919Z",
     "shell.execute_reply": "2022-09-13T17:53:06.154057Z"
    },
    "id": "fa351844",
    "papermill": {
     "duration": 0.0257,
     "end_time": "2022-09-13T17:53:06.157008",
     "exception": false,
     "start_time": "2022-09-13T17:53:06.131308",
     "status": "completed"
    },
    "tags": []
   },
   "outputs": [],
   "source": [
    "#print(f\"start logits shape: {out_start.shape}\")\n",
    "#print(f\"end logits shape: {out_end.shape}\")"
   ]
  },
  {
   "cell_type": "code",
   "execution_count": 57,
   "id": "163a9311",
   "metadata": {
    "execution": {
     "iopub.execute_input": "2022-09-13T17:53:06.194557Z",
     "iopub.status.busy": "2022-09-13T17:53:06.193818Z",
     "iopub.status.idle": "2022-09-13T17:53:06.198013Z",
     "shell.execute_reply": "2022-09-13T17:53:06.197196Z"
    },
    "id": "9da11c16",
    "papermill": {
     "duration": 0.024827,
     "end_time": "2022-09-13T17:53:06.199941",
     "exception": false,
     "start_time": "2022-09-13T17:53:06.175114",
     "status": "completed"
    },
    "tags": []
   },
   "outputs": [],
   "source": [
    "#answer_start_index = out_start.argmax()\n",
    "#answer_end_index = out_end.argmax()\n",
    "#print(answer_start_index)\n",
    "#print(answer_end_index)"
   ]
  },
  {
   "attachments": {},
   "cell_type": "markdown",
   "id": "2e3d2e73",
   "metadata": {
    "id": "f0eeec4b",
    "papermill": {
     "duration": 0.018092,
     "end_time": "2022-09-13T17:53:06.236852",
     "exception": false,
     "start_time": "2022-09-13T17:53:06.218760",
     "status": "completed"
    },
    "tags": []
   },
   "source": [
    "## Training loops\\\n"
   ]
  },
  {
   "cell_type": "code",
   "execution_count": 58,
   "id": "1a469fcf",
   "metadata": {
    "execution": {
     "iopub.execute_input": "2022-09-13T17:53:06.275093Z",
     "iopub.status.busy": "2022-09-13T17:53:06.274166Z",
     "iopub.status.idle": "2022-09-13T17:53:06.286098Z",
     "shell.execute_reply": "2022-09-13T17:53:06.285060Z"
    },
    "id": "b1e33b31",
    "outputId": "661fc4db-1f00-41fe-9ae7-ef00c4479ee9",
    "papermill": {
     "duration": 0.033748,
     "end_time": "2022-09-13T17:53:06.288541",
     "exception": false,
     "start_time": "2022-09-13T17:53:06.254793",
     "status": "completed"
    },
    "tags": []
   },
   "outputs": [
    {
     "name": "stderr",
     "output_type": "stream",
     "text": [
      "c:\\Users\\bhara\\AppData\\Local\\Programs\\Python\\Python311\\Lib\\site-packages\\transformers\\optimization.py:407: FutureWarning: This implementation of AdamW is deprecated and will be removed in a future version. Use the PyTorch implementation torch.optim.AdamW instead, or set `no_deprecation_warning=True` to disable this warning\n",
      "  warnings.warn(\n"
     ]
    }
   ],
   "source": [
    "optim = AdamW(model.parameters(), lr=2e-5, weight_decay=2e-2)\n",
    "scheduler = ExponentialLR(optim, gamma=0.9)\n",
    "total_acc = []\n",
    "total_loss = []"
   ]
  },
  {
   "cell_type": "code",
   "execution_count": 59,
   "id": "f15490cc",
   "metadata": {
    "execution": {
     "iopub.execute_input": "2022-09-13T17:53:06.327729Z",
     "iopub.status.busy": "2022-09-13T17:53:06.326909Z",
     "iopub.status.idle": "2022-09-13T17:53:06.343269Z",
     "shell.execute_reply": "2022-09-13T17:53:06.342305Z"
    },
    "id": "ae15881d",
    "papermill": {
     "duration": 0.037945,
     "end_time": "2022-09-13T17:53:06.345345",
     "exception": false,
     "start_time": "2022-09-13T17:53:06.307400",
     "status": "completed"
    },
    "tags": []
   },
   "outputs": [],
   "source": [
    "def train_epoch(model, dataloader, epoch):\n",
    "    model = model.train()\n",
    "    losses = []\n",
    "    acc = []\n",
    "    ctr = 0\n",
    "    batch_tracker = 0\n",
    "    for batch in tqdm(dataloader, desc = 'Running Epoch '):\n",
    "        optim.zero_grad()\n",
    "        input_ids = batch['input_ids'].to(device)\n",
    "        attention_mask = batch['attention_mask'].to(device)\n",
    "        token_type_ids = batch['token_type_ids'].to(device)\n",
    "        start_positions = batch['start_positions'].to(device)\n",
    "        end_positions = batch['end_positions'].to(device)\n",
    "        out_start, out_end = model(input_ids=input_ids, \n",
    "                attention_mask=attention_mask,\n",
    "                token_type_ids=token_type_ids)\n",
    "        #loss = loss_fn(out_start, out_end, start_positions, end_positions)  # <---BASELINE.  Cross Entropy Loss is returned by Default\n",
    "        loss = focal_loss_fn(out_start, out_end, start_positions, end_positions,1) #using gamma = 1\n",
    "        losses.append(loss.item())\n",
    "        loss.backward()\n",
    "        optim.step()\n",
    "        \n",
    "        start_pred = torch.argmax(out_start, dim=1)\n",
    "        end_pred = torch.argmax(out_end, dim=1)\n",
    "            \n",
    "        acc.append(((start_pred == start_positions).sum()/len(start_pred)).item())\n",
    "        acc.append(((end_pred == end_positions).sum()/len(end_pred)).item())\n",
    "        #ctr = ctr +1\n",
    "        #if ctr==50:\n",
    "        #    break\n",
    "        batch_tracker = batch_tracker + 1\n",
    "        if batch_tracker==250 and epoch==1:\n",
    "            total_acc.append(sum(acc)/len(acc))\n",
    "            loss_avg = sum(losses)/len(losses)\n",
    "            total_loss.append(loss_avg)\n",
    "            batch_tracker = 0\n",
    "    scheduler.step()\n",
    "    ret_acc = sum(acc)/len(acc)\n",
    "    ret_loss = sum(losses)/len(losses)\n",
    "    return(ret_acc, ret_loss)"
   ]
  },
  {
   "cell_type": "code",
   "execution_count": 60,
   "id": "0e4a37de",
   "metadata": {
    "execution": {
     "iopub.execute_input": "2022-09-13T17:53:06.383101Z",
     "iopub.status.busy": "2022-09-13T17:53:06.382327Z",
     "iopub.status.idle": "2022-09-13T17:53:06.390933Z",
     "shell.execute_reply": "2022-09-13T17:53:06.390073Z"
    },
    "id": "f7fd3816",
    "papermill": {
     "duration": 0.029443,
     "end_time": "2022-09-13T17:53:06.392918",
     "exception": false,
     "start_time": "2022-09-13T17:53:06.363475",
     "status": "completed"
    },
    "tags": []
   },
   "outputs": [],
   "source": [
    "def eval_model(model, dataloader):\n",
    "    model = model.eval()\n",
    "    losses = []\n",
    "    acc = []\n",
    "    ctr = 0\n",
    "    with torch.no_grad():\n",
    "        for batch in tqdm(dataloader, desc = 'Running Evaluation'):\n",
    "            input_ids = batch['input_ids'].to(device)\n",
    "            attention_mask = batch['attention_mask'].to(device)\n",
    "            token_type_ids = batch['token_type_ids'].to(device)\n",
    "            start_true = batch['start_positions'].to(device)\n",
    "            end_true = batch['end_positions'].to(device)\n",
    "            \n",
    "            out_start, out_end = model(input_ids=input_ids, \n",
    "                attention_mask=attention_mask,\n",
    "                token_type_ids=token_type_ids)\n",
    "            \n",
    "            start_pred = torch.argmax(out_start, dim=1)\n",
    "            end_pred = torch.argmax(out_end, dim=1)\n",
    "            \n",
    "            acc.append(((start_pred == start_true).sum()/len(start_pred)).item())\n",
    "            acc.append(((end_pred == end_true).sum()/len(end_pred)).item())\n",
    "            #ctr = ctr +1\n",
    "            #if ctr==50:\n",
    "            #    break\n",
    "        ret_acc = sum(acc)/len(acc)\n",
    "        ret_loss = 0\n",
    "        #ret_loss = sum(losses)/len(losses)\n",
    "    return(ret_acc)"
   ]
  },
  {
   "cell_type": "code",
   "execution_count": 61,
   "id": "730f8a01",
   "metadata": {
    "execution": {
     "iopub.execute_input": "2022-09-13T17:53:06.430657Z",
     "iopub.status.busy": "2022-09-13T17:53:06.430404Z",
     "iopub.status.idle": "2022-09-13T20:26:54.773502Z",
     "shell.execute_reply": "2022-09-13T20:26:54.772461Z"
    },
    "id": "fafa226d",
    "outputId": "ac6ff12a-a2f6-464f-d10a-f49bd24f146c",
    "papermill": {
     "duration": 9228.364669,
     "end_time": "2022-09-13T20:26:54.775665",
     "exception": false,
     "start_time": "2022-09-13T17:53:06.410996",
     "status": "completed"
    },
    "tags": []
   },
   "outputs": [
    {
     "name": "stderr",
     "output_type": "stream",
     "text": [
      "Running Epoch :   2%|▏         | 93/5427 [33:49<32:20:23, 21.83s/it]\n"
     ]
    },
    {
     "ename": "KeyboardInterrupt",
     "evalue": "",
     "output_type": "error",
     "traceback": [
      "\u001b[1;31m---------------------------------------------------------------------------\u001b[0m",
      "\u001b[1;31mKeyboardInterrupt\u001b[0m                         Traceback (most recent call last)",
      "Cell \u001b[1;32mIn[61], line 6\u001b[0m\n\u001b[0;32m      3\u001b[0m model\u001b[39m.\u001b[39mto(device)\n\u001b[0;32m      5\u001b[0m \u001b[39mfor\u001b[39;00m epoch \u001b[39min\u001b[39;00m \u001b[39mrange\u001b[39m(EPOCHS):\n\u001b[1;32m----> 6\u001b[0m     train_acc, train_loss \u001b[39m=\u001b[39m train_epoch(model, train_data_loader, epoch\u001b[39m+\u001b[39;49m\u001b[39m1\u001b[39;49m)\n\u001b[0;32m      7\u001b[0m     \u001b[39mprint\u001b[39m(\u001b[39mf\u001b[39m\u001b[39m\"\u001b[39m\u001b[39mTrain Accuracy: \u001b[39m\u001b[39m{\u001b[39;00mtrain_acc\u001b[39m}\u001b[39;00m\u001b[39m      Train Loss: \u001b[39m\u001b[39m{\u001b[39;00mtrain_loss\u001b[39m}\u001b[39;00m\u001b[39m\"\u001b[39m)\n\u001b[0;32m      8\u001b[0m     val_acc \u001b[39m=\u001b[39m eval_model(model, valid_data_loader)\n",
      "Cell \u001b[1;32mIn[59], line 20\u001b[0m, in \u001b[0;36mtrain_epoch\u001b[1;34m(model, dataloader, epoch)\u001b[0m\n\u001b[0;32m     18\u001b[0m loss \u001b[39m=\u001b[39m focal_loss_fn(out_start, out_end, start_positions, end_positions,\u001b[39m1\u001b[39m) \u001b[39m#using gamma = 1\u001b[39;00m\n\u001b[0;32m     19\u001b[0m losses\u001b[39m.\u001b[39mappend(loss\u001b[39m.\u001b[39mitem())\n\u001b[1;32m---> 20\u001b[0m loss\u001b[39m.\u001b[39;49mbackward()\n\u001b[0;32m     21\u001b[0m optim\u001b[39m.\u001b[39mstep()\n\u001b[0;32m     23\u001b[0m start_pred \u001b[39m=\u001b[39m torch\u001b[39m.\u001b[39margmax(out_start, dim\u001b[39m=\u001b[39m\u001b[39m1\u001b[39m)\n",
      "File \u001b[1;32mc:\\Users\\bhara\\AppData\\Local\\Programs\\Python\\Python311\\Lib\\site-packages\\torch\\_tensor.py:487\u001b[0m, in \u001b[0;36mTensor.backward\u001b[1;34m(self, gradient, retain_graph, create_graph, inputs)\u001b[0m\n\u001b[0;32m    477\u001b[0m \u001b[39mif\u001b[39;00m has_torch_function_unary(\u001b[39mself\u001b[39m):\n\u001b[0;32m    478\u001b[0m     \u001b[39mreturn\u001b[39;00m handle_torch_function(\n\u001b[0;32m    479\u001b[0m         Tensor\u001b[39m.\u001b[39mbackward,\n\u001b[0;32m    480\u001b[0m         (\u001b[39mself\u001b[39m,),\n\u001b[1;32m   (...)\u001b[0m\n\u001b[0;32m    485\u001b[0m         inputs\u001b[39m=\u001b[39minputs,\n\u001b[0;32m    486\u001b[0m     )\n\u001b[1;32m--> 487\u001b[0m torch\u001b[39m.\u001b[39;49mautograd\u001b[39m.\u001b[39;49mbackward(\n\u001b[0;32m    488\u001b[0m     \u001b[39mself\u001b[39;49m, gradient, retain_graph, create_graph, inputs\u001b[39m=\u001b[39;49minputs\n\u001b[0;32m    489\u001b[0m )\n",
      "File \u001b[1;32mc:\\Users\\bhara\\AppData\\Local\\Programs\\Python\\Python311\\Lib\\site-packages\\torch\\autograd\\__init__.py:200\u001b[0m, in \u001b[0;36mbackward\u001b[1;34m(tensors, grad_tensors, retain_graph, create_graph, grad_variables, inputs)\u001b[0m\n\u001b[0;32m    195\u001b[0m     retain_graph \u001b[39m=\u001b[39m create_graph\n\u001b[0;32m    197\u001b[0m \u001b[39m# The reason we repeat same the comment below is that\u001b[39;00m\n\u001b[0;32m    198\u001b[0m \u001b[39m# some Python versions print out the first line of a multi-line function\u001b[39;00m\n\u001b[0;32m    199\u001b[0m \u001b[39m# calls in the traceback and some print out the last line\u001b[39;00m\n\u001b[1;32m--> 200\u001b[0m Variable\u001b[39m.\u001b[39;49m_execution_engine\u001b[39m.\u001b[39;49mrun_backward(  \u001b[39m# Calls into the C++ engine to run the backward pass\u001b[39;49;00m\n\u001b[0;32m    201\u001b[0m     tensors, grad_tensors_, retain_graph, create_graph, inputs,\n\u001b[0;32m    202\u001b[0m     allow_unreachable\u001b[39m=\u001b[39;49m\u001b[39mTrue\u001b[39;49;00m, accumulate_grad\u001b[39m=\u001b[39;49m\u001b[39mTrue\u001b[39;49;00m)\n",
      "\u001b[1;31mKeyboardInterrupt\u001b[0m: "
     ]
    }
   ],
   "source": [
    "EPOCHS = 2\n",
    "\n",
    "model.to(device)\n",
    "\n",
    "for epoch in range(EPOCHS):\n",
    "    train_acc, train_loss = train_epoch(model, train_data_loader, epoch+1)\n",
    "    print(f\"Train Accuracy: {train_acc}      Train Loss: {train_loss}\")\n",
    "    val_acc = eval_model(model, valid_data_loader)\n",
    "    print(f\"Validation Accuracy: {val_acc}\")\n",
    "    \n",
    "#val_acc, val_loss = eval_model(model, valid_data_loader)\n",
    "#print(f\"Validation Accuracy: {val_acc}   Validation Loss: {val_loss}\")\n",
    "  "
   ]
  }
 ],
 "metadata": {
  "kernelspec": {
   "display_name": "Python 3",
   "language": "python",
   "name": "python3"
  },
  "language_info": {
   "codemirror_mode": {
    "name": "ipython",
    "version": 3
   },
   "file_extension": ".py",
   "mimetype": "text/x-python",
   "name": "python",
   "nbconvert_exporter": "python",
   "pygments_lexer": "ipython3",
   "version": "3.11.1"
  },
  "papermill": {
   "default_parameters": {},
   "duration": 9398.247084,
   "end_time": "2022-09-13T20:27:31.674971",
   "environment_variables": {},
   "exception": null,
   "input_path": "__notebook__.ipynb",
   "output_path": "__notebook__.ipynb",
   "parameters": {},
   "start_time": "2022-09-13T17:50:53.427887",
   "version": "2.3.4"
  },
  "widgets": {
   "application/vnd.jupyter.widget-state+json": {
    "state": {
     "005b451d7dbd48b5a420cfc8e8eed162": {
      "model_module": "@jupyter-widgets/controls",
      "model_module_version": "1.5.0",
      "model_name": "FloatProgressModel",
      "state": {
       "_dom_classes": [],
       "_model_module": "@jupyter-widgets/controls",
       "_model_module_version": "1.5.0",
       "_model_name": "FloatProgressModel",
       "_view_count": null,
       "_view_module": "@jupyter-widgets/controls",
       "_view_module_version": "1.5.0",
       "_view_name": "ProgressView",
       "bar_style": "success",
       "description": "",
       "description_tooltip": null,
       "layout": "IPY_MODEL_2f0f8596d97a4dffa5c43e897f2cf4c9",
       "max": 440473133,
       "min": 0,
       "orientation": "horizontal",
       "style": "IPY_MODEL_0afc730d6f784a4d83d73b5b2ecfb6d3",
       "value": 440473133
      }
     },
     "02665a65b1654994b6c6fe41ecebb755": {
      "model_module": "@jupyter-widgets/controls",
      "model_module_version": "1.5.0",
      "model_name": "FloatProgressModel",
      "state": {
       "_dom_classes": [],
       "_model_module": "@jupyter-widgets/controls",
       "_model_module_version": "1.5.0",
       "_model_name": "FloatProgressModel",
       "_view_count": null,
       "_view_module": "@jupyter-widgets/controls",
       "_view_module_version": "1.5.0",
       "_view_name": "ProgressView",
       "bar_style": "success",
       "description": "",
       "description_tooltip": null,
       "layout": "IPY_MODEL_5b3837dfd2fe42aeb1a2c826007d5d47",
       "max": 570,
       "min": 0,
       "orientation": "horizontal",
       "style": "IPY_MODEL_56d6598905ea49b8ba725a7b73b3299e",
       "value": 570
      }
     },
     "034f2de5e7a640218410c2dca0381770": {
      "model_module": "@jupyter-widgets/controls",
      "model_module_version": "1.5.0",
      "model_name": "HTMLModel",
      "state": {
       "_dom_classes": [],
       "_model_module": "@jupyter-widgets/controls",
       "_model_module_version": "1.5.0",
       "_model_name": "HTMLModel",
       "_view_count": null,
       "_view_module": "@jupyter-widgets/controls",
       "_view_module_version": "1.5.0",
       "_view_name": "HTMLView",
       "description": "",
       "description_tooltip": null,
       "layout": "IPY_MODEL_a3d7778618bf468ea58b81740593485f",
       "placeholder": "​",
       "style": "IPY_MODEL_5ebe1c7e7e1c420e9761ee8028f62f7d",
       "value": "Downloading: 100%"
      }
     },
     "0afc730d6f784a4d83d73b5b2ecfb6d3": {
      "model_module": "@jupyter-widgets/controls",
      "model_module_version": "1.5.0",
      "model_name": "ProgressStyleModel",
      "state": {
       "_model_module": "@jupyter-widgets/controls",
       "_model_module_version": "1.5.0",
       "_model_name": "ProgressStyleModel",
       "_view_count": null,
       "_view_module": "@jupyter-widgets/base",
       "_view_module_version": "1.2.0",
       "_view_name": "StyleView",
       "bar_color": null,
       "description_width": ""
      }
     },
     "14279fae159b49d78d5f80bd11647574": {
      "model_module": "@jupyter-widgets/base",
      "model_module_version": "1.2.0",
      "model_name": "LayoutModel",
      "state": {
       "_model_module": "@jupyter-widgets/base",
       "_model_module_version": "1.2.0",
       "_model_name": "LayoutModel",
       "_view_count": null,
       "_view_module": "@jupyter-widgets/base",
       "_view_module_version": "1.2.0",
       "_view_name": "LayoutView",
       "align_content": null,
       "align_items": null,
       "align_self": null,
       "border": null,
       "bottom": null,
       "display": null,
       "flex": null,
       "flex_flow": null,
       "grid_area": null,
       "grid_auto_columns": null,
       "grid_auto_flow": null,
       "grid_auto_rows": null,
       "grid_column": null,
       "grid_gap": null,
       "grid_row": null,
       "grid_template_areas": null,
       "grid_template_columns": null,
       "grid_template_rows": null,
       "height": null,
       "justify_content": null,
       "justify_items": null,
       "left": null,
       "margin": null,
       "max_height": null,
       "max_width": null,
       "min_height": null,
       "min_width": null,
       "object_fit": null,
       "object_position": null,
       "order": null,
       "overflow": null,
       "overflow_x": null,
       "overflow_y": null,
       "padding": null,
       "right": null,
       "top": null,
       "visibility": null,
       "width": null
      }
     },
     "1f5cf3d3079d46a28fed22b0fbd76710": {
      "model_module": "@jupyter-widgets/controls",
      "model_module_version": "1.5.0",
      "model_name": "DescriptionStyleModel",
      "state": {
       "_model_module": "@jupyter-widgets/controls",
       "_model_module_version": "1.5.0",
       "_model_name": "DescriptionStyleModel",
       "_view_count": null,
       "_view_module": "@jupyter-widgets/base",
       "_view_module_version": "1.2.0",
       "_view_name": "StyleView",
       "description_width": ""
      }
     },
     "20d0061ec28641b190c6de63cb06f789": {
      "model_module": "@jupyter-widgets/base",
      "model_module_version": "1.2.0",
      "model_name": "LayoutModel",
      "state": {
       "_model_module": "@jupyter-widgets/base",
       "_model_module_version": "1.2.0",
       "_model_name": "LayoutModel",
       "_view_count": null,
       "_view_module": "@jupyter-widgets/base",
       "_view_module_version": "1.2.0",
       "_view_name": "LayoutView",
       "align_content": null,
       "align_items": null,
       "align_self": null,
       "border": null,
       "bottom": null,
       "display": null,
       "flex": null,
       "flex_flow": null,
       "grid_area": null,
       "grid_auto_columns": null,
       "grid_auto_flow": null,
       "grid_auto_rows": null,
       "grid_column": null,
       "grid_gap": null,
       "grid_row": null,
       "grid_template_areas": null,
       "grid_template_columns": null,
       "grid_template_rows": null,
       "height": null,
       "justify_content": null,
       "justify_items": null,
       "left": null,
       "margin": null,
       "max_height": null,
       "max_width": null,
       "min_height": null,
       "min_width": null,
       "object_fit": null,
       "object_position": null,
       "order": null,
       "overflow": null,
       "overflow_x": null,
       "overflow_y": null,
       "padding": null,
       "right": null,
       "top": null,
       "visibility": null,
       "width": null
      }
     },
     "231fae428b624858a8da200f72151e80": {
      "model_module": "@jupyter-widgets/controls",
      "model_module_version": "1.5.0",
      "model_name": "HTMLModel",
      "state": {
       "_dom_classes": [],
       "_model_module": "@jupyter-widgets/controls",
       "_model_module_version": "1.5.0",
       "_model_name": "HTMLModel",
       "_view_count": null,
       "_view_module": "@jupyter-widgets/controls",
       "_view_module_version": "1.5.0",
       "_view_name": "HTMLView",
       "description": "",
       "description_tooltip": null,
       "layout": "IPY_MODEL_6fbb2716fa0d4088bd96f1caf59763ff",
       "placeholder": "​",
       "style": "IPY_MODEL_283264b764204f919dd9217ad995b75c",
       "value": " 455k/455k [00:00&lt;00:00, 867kB/s]"
      }
     },
     "2782b202feb848d98565f7c9d888cd6e": {
      "model_module": "@jupyter-widgets/controls",
      "model_module_version": "1.5.0",
      "model_name": "HTMLModel",
      "state": {
       "_dom_classes": [],
       "_model_module": "@jupyter-widgets/controls",
       "_model_module_version": "1.5.0",
       "_model_name": "HTMLModel",
       "_view_count": null,
       "_view_module": "@jupyter-widgets/controls",
       "_view_module_version": "1.5.0",
       "_view_name": "HTMLView",
       "description": "",
       "description_tooltip": null,
       "layout": "IPY_MODEL_d7f31e16377044949692cebbfc12c959",
       "placeholder": "​",
       "style": "IPY_MODEL_b6587c21d20a402385099116be43eecf",
       "value": "Downloading: 100%"
      }
     },
     "283264b764204f919dd9217ad995b75c": {
      "model_module": "@jupyter-widgets/controls",
      "model_module_version": "1.5.0",
      "model_name": "DescriptionStyleModel",
      "state": {
       "_model_module": "@jupyter-widgets/controls",
       "_model_module_version": "1.5.0",
       "_model_name": "DescriptionStyleModel",
       "_view_count": null,
       "_view_module": "@jupyter-widgets/base",
       "_view_module_version": "1.2.0",
       "_view_name": "StyleView",
       "description_width": ""
      }
     },
     "2c3dc1121fc3482187e2db3efea7a1d7": {
      "model_module": "@jupyter-widgets/base",
      "model_module_version": "1.2.0",
      "model_name": "LayoutModel",
      "state": {
       "_model_module": "@jupyter-widgets/base",
       "_model_module_version": "1.2.0",
       "_model_name": "LayoutModel",
       "_view_count": null,
       "_view_module": "@jupyter-widgets/base",
       "_view_module_version": "1.2.0",
       "_view_name": "LayoutView",
       "align_content": null,
       "align_items": null,
       "align_self": null,
       "border": null,
       "bottom": null,
       "display": null,
       "flex": null,
       "flex_flow": null,
       "grid_area": null,
       "grid_auto_columns": null,
       "grid_auto_flow": null,
       "grid_auto_rows": null,
       "grid_column": null,
       "grid_gap": null,
       "grid_row": null,
       "grid_template_areas": null,
       "grid_template_columns": null,
       "grid_template_rows": null,
       "height": null,
       "justify_content": null,
       "justify_items": null,
       "left": null,
       "margin": null,
       "max_height": null,
       "max_width": null,
       "min_height": null,
       "min_width": null,
       "object_fit": null,
       "object_position": null,
       "order": null,
       "overflow": null,
       "overflow_x": null,
       "overflow_y": null,
       "padding": null,
       "right": null,
       "top": null,
       "visibility": null,
       "width": null
      }
     },
     "2e478e9843b1443f99d3c10eef9c7412": {
      "model_module": "@jupyter-widgets/base",
      "model_module_version": "1.2.0",
      "model_name": "LayoutModel",
      "state": {
       "_model_module": "@jupyter-widgets/base",
       "_model_module_version": "1.2.0",
       "_model_name": "LayoutModel",
       "_view_count": null,
       "_view_module": "@jupyter-widgets/base",
       "_view_module_version": "1.2.0",
       "_view_name": "LayoutView",
       "align_content": null,
       "align_items": null,
       "align_self": null,
       "border": null,
       "bottom": null,
       "display": null,
       "flex": null,
       "flex_flow": null,
       "grid_area": null,
       "grid_auto_columns": null,
       "grid_auto_flow": null,
       "grid_auto_rows": null,
       "grid_column": null,
       "grid_gap": null,
       "grid_row": null,
       "grid_template_areas": null,
       "grid_template_columns": null,
       "grid_template_rows": null,
       "height": null,
       "justify_content": null,
       "justify_items": null,
       "left": null,
       "margin": null,
       "max_height": null,
       "max_width": null,
       "min_height": null,
       "min_width": null,
       "object_fit": null,
       "object_position": null,
       "order": null,
       "overflow": null,
       "overflow_x": null,
       "overflow_y": null,
       "padding": null,
       "right": null,
       "top": null,
       "visibility": null,
       "width": null
      }
     },
     "2f0f8596d97a4dffa5c43e897f2cf4c9": {
      "model_module": "@jupyter-widgets/base",
      "model_module_version": "1.2.0",
      "model_name": "LayoutModel",
      "state": {
       "_model_module": "@jupyter-widgets/base",
       "_model_module_version": "1.2.0",
       "_model_name": "LayoutModel",
       "_view_count": null,
       "_view_module": "@jupyter-widgets/base",
       "_view_module_version": "1.2.0",
       "_view_name": "LayoutView",
       "align_content": null,
       "align_items": null,
       "align_self": null,
       "border": null,
       "bottom": null,
       "display": null,
       "flex": null,
       "flex_flow": null,
       "grid_area": null,
       "grid_auto_columns": null,
       "grid_auto_flow": null,
       "grid_auto_rows": null,
       "grid_column": null,
       "grid_gap": null,
       "grid_row": null,
       "grid_template_areas": null,
       "grid_template_columns": null,
       "grid_template_rows": null,
       "height": null,
       "justify_content": null,
       "justify_items": null,
       "left": null,
       "margin": null,
       "max_height": null,
       "max_width": null,
       "min_height": null,
       "min_width": null,
       "object_fit": null,
       "object_position": null,
       "order": null,
       "overflow": null,
       "overflow_x": null,
       "overflow_y": null,
       "padding": null,
       "right": null,
       "top": null,
       "visibility": null,
       "width": null
      }
     },
     "301fbbb9aea94189bf93eb67ce5c1224": {
      "model_module": "@jupyter-widgets/controls",
      "model_module_version": "1.5.0",
      "model_name": "ProgressStyleModel",
      "state": {
       "_model_module": "@jupyter-widgets/controls",
       "_model_module_version": "1.5.0",
       "_model_name": "ProgressStyleModel",
       "_view_count": null,
       "_view_module": "@jupyter-widgets/base",
       "_view_module_version": "1.2.0",
       "_view_name": "StyleView",
       "bar_color": null,
       "description_width": ""
      }
     },
     "347de8ecbbef430daa1eea5ccf8bea72": {
      "model_module": "@jupyter-widgets/base",
      "model_module_version": "1.2.0",
      "model_name": "LayoutModel",
      "state": {
       "_model_module": "@jupyter-widgets/base",
       "_model_module_version": "1.2.0",
       "_model_name": "LayoutModel",
       "_view_count": null,
       "_view_module": "@jupyter-widgets/base",
       "_view_module_version": "1.2.0",
       "_view_name": "LayoutView",
       "align_content": null,
       "align_items": null,
       "align_self": null,
       "border": null,
       "bottom": null,
       "display": null,
       "flex": null,
       "flex_flow": null,
       "grid_area": null,
       "grid_auto_columns": null,
       "grid_auto_flow": null,
       "grid_auto_rows": null,
       "grid_column": null,
       "grid_gap": null,
       "grid_row": null,
       "grid_template_areas": null,
       "grid_template_columns": null,
       "grid_template_rows": null,
       "height": null,
       "justify_content": null,
       "justify_items": null,
       "left": null,
       "margin": null,
       "max_height": null,
       "max_width": null,
       "min_height": null,
       "min_width": null,
       "object_fit": null,
       "object_position": null,
       "order": null,
       "overflow": null,
       "overflow_x": null,
       "overflow_y": null,
       "padding": null,
       "right": null,
       "top": null,
       "visibility": null,
       "width": null
      }
     },
     "388f22a3e4264d4fa94e54fcdebf03b7": {
      "model_module": "@jupyter-widgets/base",
      "model_module_version": "1.2.0",
      "model_name": "LayoutModel",
      "state": {
       "_model_module": "@jupyter-widgets/base",
       "_model_module_version": "1.2.0",
       "_model_name": "LayoutModel",
       "_view_count": null,
       "_view_module": "@jupyter-widgets/base",
       "_view_module_version": "1.2.0",
       "_view_name": "LayoutView",
       "align_content": null,
       "align_items": null,
       "align_self": null,
       "border": null,
       "bottom": null,
       "display": null,
       "flex": null,
       "flex_flow": null,
       "grid_area": null,
       "grid_auto_columns": null,
       "grid_auto_flow": null,
       "grid_auto_rows": null,
       "grid_column": null,
       "grid_gap": null,
       "grid_row": null,
       "grid_template_areas": null,
       "grid_template_columns": null,
       "grid_template_rows": null,
       "height": null,
       "justify_content": null,
       "justify_items": null,
       "left": null,
       "margin": null,
       "max_height": null,
       "max_width": null,
       "min_height": null,
       "min_width": null,
       "object_fit": null,
       "object_position": null,
       "order": null,
       "overflow": null,
       "overflow_x": null,
       "overflow_y": null,
       "padding": null,
       "right": null,
       "top": null,
       "visibility": null,
       "width": null
      }
     },
     "3b575e58c9864d14982b7b7d0cf74398": {
      "model_module": "@jupyter-widgets/controls",
      "model_module_version": "1.5.0",
      "model_name": "FloatProgressModel",
      "state": {
       "_dom_classes": [],
       "_model_module": "@jupyter-widgets/controls",
       "_model_module_version": "1.5.0",
       "_model_name": "FloatProgressModel",
       "_view_count": null,
       "_view_module": "@jupyter-widgets/controls",
       "_view_module_version": "1.5.0",
       "_view_name": "ProgressView",
       "bar_style": "success",
       "description": "",
       "description_tooltip": null,
       "layout": "IPY_MODEL_9b755014ad2f4155b8af5a15506656fd",
       "max": 466062,
       "min": 0,
       "orientation": "horizontal",
       "style": "IPY_MODEL_a0ec61b0e7c04ce789db602f13247089",
       "value": 466062
      }
     },
     "3b9266f3b1de442aac9c84a92705e407": {
      "model_module": "@jupyter-widgets/controls",
      "model_module_version": "1.5.0",
      "model_name": "HTMLModel",
      "state": {
       "_dom_classes": [],
       "_model_module": "@jupyter-widgets/controls",
       "_model_module_version": "1.5.0",
       "_model_name": "HTMLModel",
       "_view_count": null,
       "_view_module": "@jupyter-widgets/controls",
       "_view_module_version": "1.5.0",
       "_view_name": "HTMLView",
       "description": "",
       "description_tooltip": null,
       "layout": "IPY_MODEL_646c776ef7994d9fb2802a3d3b94d93c",
       "placeholder": "​",
       "style": "IPY_MODEL_9079367646934ec784f9053395fc6097",
       "value": "Downloading: 100%"
      }
     },
     "56d6598905ea49b8ba725a7b73b3299e": {
      "model_module": "@jupyter-widgets/controls",
      "model_module_version": "1.5.0",
      "model_name": "ProgressStyleModel",
      "state": {
       "_model_module": "@jupyter-widgets/controls",
       "_model_module_version": "1.5.0",
       "_model_name": "ProgressStyleModel",
       "_view_count": null,
       "_view_module": "@jupyter-widgets/base",
       "_view_module_version": "1.2.0",
       "_view_name": "StyleView",
       "bar_color": null,
       "description_width": ""
      }
     },
     "59d2aa4941ab481eb6d7065d980be8bc": {
      "model_module": "@jupyter-widgets/controls",
      "model_module_version": "1.5.0",
      "model_name": "HTMLModel",
      "state": {
       "_dom_classes": [],
       "_model_module": "@jupyter-widgets/controls",
       "_model_module_version": "1.5.0",
       "_model_name": "HTMLModel",
       "_view_count": null,
       "_view_module": "@jupyter-widgets/controls",
       "_view_module_version": "1.5.0",
       "_view_name": "HTMLView",
       "description": "",
       "description_tooltip": null,
       "layout": "IPY_MODEL_2c3dc1121fc3482187e2db3efea7a1d7",
       "placeholder": "​",
       "style": "IPY_MODEL_d4b6bdeb48934533a1d84653edca694f",
       "value": " 28.0/28.0 [00:00&lt;00:00, 887B/s]"
      }
     },
     "5b3837dfd2fe42aeb1a2c826007d5d47": {
      "model_module": "@jupyter-widgets/base",
      "model_module_version": "1.2.0",
      "model_name": "LayoutModel",
      "state": {
       "_model_module": "@jupyter-widgets/base",
       "_model_module_version": "1.2.0",
       "_model_name": "LayoutModel",
       "_view_count": null,
       "_view_module": "@jupyter-widgets/base",
       "_view_module_version": "1.2.0",
       "_view_name": "LayoutView",
       "align_content": null,
       "align_items": null,
       "align_self": null,
       "border": null,
       "bottom": null,
       "display": null,
       "flex": null,
       "flex_flow": null,
       "grid_area": null,
       "grid_auto_columns": null,
       "grid_auto_flow": null,
       "grid_auto_rows": null,
       "grid_column": null,
       "grid_gap": null,
       "grid_row": null,
       "grid_template_areas": null,
       "grid_template_columns": null,
       "grid_template_rows": null,
       "height": null,
       "justify_content": null,
       "justify_items": null,
       "left": null,
       "margin": null,
       "max_height": null,
       "max_width": null,
       "min_height": null,
       "min_width": null,
       "object_fit": null,
       "object_position": null,
       "order": null,
       "overflow": null,
       "overflow_x": null,
       "overflow_y": null,
       "padding": null,
       "right": null,
       "top": null,
       "visibility": null,
       "width": null
      }
     },
     "5e19360fa5124ab6b6eb5814bb4cb9cd": {
      "model_module": "@jupyter-widgets/base",
      "model_module_version": "1.2.0",
      "model_name": "LayoutModel",
      "state": {
       "_model_module": "@jupyter-widgets/base",
       "_model_module_version": "1.2.0",
       "_model_name": "LayoutModel",
       "_view_count": null,
       "_view_module": "@jupyter-widgets/base",
       "_view_module_version": "1.2.0",
       "_view_name": "LayoutView",
       "align_content": null,
       "align_items": null,
       "align_self": null,
       "border": null,
       "bottom": null,
       "display": null,
       "flex": null,
       "flex_flow": null,
       "grid_area": null,
       "grid_auto_columns": null,
       "grid_auto_flow": null,
       "grid_auto_rows": null,
       "grid_column": null,
       "grid_gap": null,
       "grid_row": null,
       "grid_template_areas": null,
       "grid_template_columns": null,
       "grid_template_rows": null,
       "height": null,
       "justify_content": null,
       "justify_items": null,
       "left": null,
       "margin": null,
       "max_height": null,
       "max_width": null,
       "min_height": null,
       "min_width": null,
       "object_fit": null,
       "object_position": null,
       "order": null,
       "overflow": null,
       "overflow_x": null,
       "overflow_y": null,
       "padding": null,
       "right": null,
       "top": null,
       "visibility": null,
       "width": null
      }
     },
     "5ebe1c7e7e1c420e9761ee8028f62f7d": {
      "model_module": "@jupyter-widgets/controls",
      "model_module_version": "1.5.0",
      "model_name": "DescriptionStyleModel",
      "state": {
       "_model_module": "@jupyter-widgets/controls",
       "_model_module_version": "1.5.0",
       "_model_name": "DescriptionStyleModel",
       "_view_count": null,
       "_view_module": "@jupyter-widgets/base",
       "_view_module_version": "1.2.0",
       "_view_name": "StyleView",
       "description_width": ""
      }
     },
     "607598ca90d94d5bbb6414e40c4a98e3": {
      "model_module": "@jupyter-widgets/controls",
      "model_module_version": "1.5.0",
      "model_name": "HBoxModel",
      "state": {
       "_dom_classes": [],
       "_model_module": "@jupyter-widgets/controls",
       "_model_module_version": "1.5.0",
       "_model_name": "HBoxModel",
       "_view_count": null,
       "_view_module": "@jupyter-widgets/controls",
       "_view_module_version": "1.5.0",
       "_view_name": "HBoxView",
       "box_style": "",
       "children": [
        "IPY_MODEL_2782b202feb848d98565f7c9d888cd6e",
        "IPY_MODEL_3b575e58c9864d14982b7b7d0cf74398",
        "IPY_MODEL_231fae428b624858a8da200f72151e80"
       ],
       "layout": "IPY_MODEL_20d0061ec28641b190c6de63cb06f789"
      }
     },
     "646c776ef7994d9fb2802a3d3b94d93c": {
      "model_module": "@jupyter-widgets/base",
      "model_module_version": "1.2.0",
      "model_name": "LayoutModel",
      "state": {
       "_model_module": "@jupyter-widgets/base",
       "_model_module_version": "1.2.0",
       "_model_name": "LayoutModel",
       "_view_count": null,
       "_view_module": "@jupyter-widgets/base",
       "_view_module_version": "1.2.0",
       "_view_name": "LayoutView",
       "align_content": null,
       "align_items": null,
       "align_self": null,
       "border": null,
       "bottom": null,
       "display": null,
       "flex": null,
       "flex_flow": null,
       "grid_area": null,
       "grid_auto_columns": null,
       "grid_auto_flow": null,
       "grid_auto_rows": null,
       "grid_column": null,
       "grid_gap": null,
       "grid_row": null,
       "grid_template_areas": null,
       "grid_template_columns": null,
       "grid_template_rows": null,
       "height": null,
       "justify_content": null,
       "justify_items": null,
       "left": null,
       "margin": null,
       "max_height": null,
       "max_width": null,
       "min_height": null,
       "min_width": null,
       "object_fit": null,
       "object_position": null,
       "order": null,
       "overflow": null,
       "overflow_x": null,
       "overflow_y": null,
       "padding": null,
       "right": null,
       "top": null,
       "visibility": null,
       "width": null
      }
     },
     "6fbb2716fa0d4088bd96f1caf59763ff": {
      "model_module": "@jupyter-widgets/base",
      "model_module_version": "1.2.0",
      "model_name": "LayoutModel",
      "state": {
       "_model_module": "@jupyter-widgets/base",
       "_model_module_version": "1.2.0",
       "_model_name": "LayoutModel",
       "_view_count": null,
       "_view_module": "@jupyter-widgets/base",
       "_view_module_version": "1.2.0",
       "_view_name": "LayoutView",
       "align_content": null,
       "align_items": null,
       "align_self": null,
       "border": null,
       "bottom": null,
       "display": null,
       "flex": null,
       "flex_flow": null,
       "grid_area": null,
       "grid_auto_columns": null,
       "grid_auto_flow": null,
       "grid_auto_rows": null,
       "grid_column": null,
       "grid_gap": null,
       "grid_row": null,
       "grid_template_areas": null,
       "grid_template_columns": null,
       "grid_template_rows": null,
       "height": null,
       "justify_content": null,
       "justify_items": null,
       "left": null,
       "margin": null,
       "max_height": null,
       "max_width": null,
       "min_height": null,
       "min_width": null,
       "object_fit": null,
       "object_position": null,
       "order": null,
       "overflow": null,
       "overflow_x": null,
       "overflow_y": null,
       "padding": null,
       "right": null,
       "top": null,
       "visibility": null,
       "width": null
      }
     },
     "7b2fc71d2d0f4632b45c6a4c4d8a0cd1": {
      "model_module": "@jupyter-widgets/base",
      "model_module_version": "1.2.0",
      "model_name": "LayoutModel",
      "state": {
       "_model_module": "@jupyter-widgets/base",
       "_model_module_version": "1.2.0",
       "_model_name": "LayoutModel",
       "_view_count": null,
       "_view_module": "@jupyter-widgets/base",
       "_view_module_version": "1.2.0",
       "_view_name": "LayoutView",
       "align_content": null,
       "align_items": null,
       "align_self": null,
       "border": null,
       "bottom": null,
       "display": null,
       "flex": null,
       "flex_flow": null,
       "grid_area": null,
       "grid_auto_columns": null,
       "grid_auto_flow": null,
       "grid_auto_rows": null,
       "grid_column": null,
       "grid_gap": null,
       "grid_row": null,
       "grid_template_areas": null,
       "grid_template_columns": null,
       "grid_template_rows": null,
       "height": null,
       "justify_content": null,
       "justify_items": null,
       "left": null,
       "margin": null,
       "max_height": null,
       "max_width": null,
       "min_height": null,
       "min_width": null,
       "object_fit": null,
       "object_position": null,
       "order": null,
       "overflow": null,
       "overflow_x": null,
       "overflow_y": null,
       "padding": null,
       "right": null,
       "top": null,
       "visibility": null,
       "width": null
      }
     },
     "8002497f8a514e8e9232ce1c637a1ab8": {
      "model_module": "@jupyter-widgets/base",
      "model_module_version": "1.2.0",
      "model_name": "LayoutModel",
      "state": {
       "_model_module": "@jupyter-widgets/base",
       "_model_module_version": "1.2.0",
       "_model_name": "LayoutModel",
       "_view_count": null,
       "_view_module": "@jupyter-widgets/base",
       "_view_module_version": "1.2.0",
       "_view_name": "LayoutView",
       "align_content": null,
       "align_items": null,
       "align_self": null,
       "border": null,
       "bottom": null,
       "display": null,
       "flex": null,
       "flex_flow": null,
       "grid_area": null,
       "grid_auto_columns": null,
       "grid_auto_flow": null,
       "grid_auto_rows": null,
       "grid_column": null,
       "grid_gap": null,
       "grid_row": null,
       "grid_template_areas": null,
       "grid_template_columns": null,
       "grid_template_rows": null,
       "height": null,
       "justify_content": null,
       "justify_items": null,
       "left": null,
       "margin": null,
       "max_height": null,
       "max_width": null,
       "min_height": null,
       "min_width": null,
       "object_fit": null,
       "object_position": null,
       "order": null,
       "overflow": null,
       "overflow_x": null,
       "overflow_y": null,
       "padding": null,
       "right": null,
       "top": null,
       "visibility": null,
       "width": null
      }
     },
     "813fa50a10d243189d5a102ec12b96e6": {
      "model_module": "@jupyter-widgets/controls",
      "model_module_version": "1.5.0",
      "model_name": "HTMLModel",
      "state": {
       "_dom_classes": [],
       "_model_module": "@jupyter-widgets/controls",
       "_model_module_version": "1.5.0",
       "_model_name": "HTMLModel",
       "_view_count": null,
       "_view_module": "@jupyter-widgets/controls",
       "_view_module_version": "1.5.0",
       "_view_name": "HTMLView",
       "description": "",
       "description_tooltip": null,
       "layout": "IPY_MODEL_b5f76821570d4fca87ca1245be9ec7ba",
       "placeholder": "​",
       "style": "IPY_MODEL_1f5cf3d3079d46a28fed22b0fbd76710",
       "value": " 420M/420M [00:18&lt;00:00, 25.6MB/s]"
      }
     },
     "8dce2433176b4527866b261872ea2942": {
      "model_module": "@jupyter-widgets/controls",
      "model_module_version": "1.5.0",
      "model_name": "FloatProgressModel",
      "state": {
       "_dom_classes": [],
       "_model_module": "@jupyter-widgets/controls",
       "_model_module_version": "1.5.0",
       "_model_name": "FloatProgressModel",
       "_view_count": null,
       "_view_module": "@jupyter-widgets/controls",
       "_view_module_version": "1.5.0",
       "_view_name": "ProgressView",
       "bar_style": "success",
       "description": "",
       "description_tooltip": null,
       "layout": "IPY_MODEL_ffc9ecc563c24f94b3bc4f30616687a2",
       "max": 28,
       "min": 0,
       "orientation": "horizontal",
       "style": "IPY_MODEL_301fbbb9aea94189bf93eb67ce5c1224",
       "value": 28
      }
     },
     "9079367646934ec784f9053395fc6097": {
      "model_module": "@jupyter-widgets/controls",
      "model_module_version": "1.5.0",
      "model_name": "DescriptionStyleModel",
      "state": {
       "_model_module": "@jupyter-widgets/controls",
       "_model_module_version": "1.5.0",
       "_model_name": "DescriptionStyleModel",
       "_view_count": null,
       "_view_module": "@jupyter-widgets/base",
       "_view_module_version": "1.2.0",
       "_view_name": "StyleView",
       "description_width": ""
      }
     },
     "99eafcf7bfc5423fa16608f8177e27d7": {
      "model_module": "@jupyter-widgets/controls",
      "model_module_version": "1.5.0",
      "model_name": "HTMLModel",
      "state": {
       "_dom_classes": [],
       "_model_module": "@jupyter-widgets/controls",
       "_model_module_version": "1.5.0",
       "_model_name": "HTMLModel",
       "_view_count": null,
       "_view_module": "@jupyter-widgets/controls",
       "_view_module_version": "1.5.0",
       "_view_name": "HTMLView",
       "description": "",
       "description_tooltip": null,
       "layout": "IPY_MODEL_14279fae159b49d78d5f80bd11647574",
       "placeholder": "​",
       "style": "IPY_MODEL_9f2d936e93094f5292333dc89c7e10ad",
       "value": "Downloading: 100%"
      }
     },
     "9b755014ad2f4155b8af5a15506656fd": {
      "model_module": "@jupyter-widgets/base",
      "model_module_version": "1.2.0",
      "model_name": "LayoutModel",
      "state": {
       "_model_module": "@jupyter-widgets/base",
       "_model_module_version": "1.2.0",
       "_model_name": "LayoutModel",
       "_view_count": null,
       "_view_module": "@jupyter-widgets/base",
       "_view_module_version": "1.2.0",
       "_view_name": "LayoutView",
       "align_content": null,
       "align_items": null,
       "align_self": null,
       "border": null,
       "bottom": null,
       "display": null,
       "flex": null,
       "flex_flow": null,
       "grid_area": null,
       "grid_auto_columns": null,
       "grid_auto_flow": null,
       "grid_auto_rows": null,
       "grid_column": null,
       "grid_gap": null,
       "grid_row": null,
       "grid_template_areas": null,
       "grid_template_columns": null,
       "grid_template_rows": null,
       "height": null,
       "justify_content": null,
       "justify_items": null,
       "left": null,
       "margin": null,
       "max_height": null,
       "max_width": null,
       "min_height": null,
       "min_width": null,
       "object_fit": null,
       "object_position": null,
       "order": null,
       "overflow": null,
       "overflow_x": null,
       "overflow_y": null,
       "padding": null,
       "right": null,
       "top": null,
       "visibility": null,
       "width": null
      }
     },
     "9ec7c9a5669d416893fd21a19915a7f2": {
      "model_module": "@jupyter-widgets/controls",
      "model_module_version": "1.5.0",
      "model_name": "DescriptionStyleModel",
      "state": {
       "_model_module": "@jupyter-widgets/controls",
       "_model_module_version": "1.5.0",
       "_model_name": "DescriptionStyleModel",
       "_view_count": null,
       "_view_module": "@jupyter-widgets/base",
       "_view_module_version": "1.2.0",
       "_view_name": "StyleView",
       "description_width": ""
      }
     },
     "9f2d936e93094f5292333dc89c7e10ad": {
      "model_module": "@jupyter-widgets/controls",
      "model_module_version": "1.5.0",
      "model_name": "DescriptionStyleModel",
      "state": {
       "_model_module": "@jupyter-widgets/controls",
       "_model_module_version": "1.5.0",
       "_model_name": "DescriptionStyleModel",
       "_view_count": null,
       "_view_module": "@jupyter-widgets/base",
       "_view_module_version": "1.2.0",
       "_view_name": "StyleView",
       "description_width": ""
      }
     },
     "a0ec61b0e7c04ce789db602f13247089": {
      "model_module": "@jupyter-widgets/controls",
      "model_module_version": "1.5.0",
      "model_name": "ProgressStyleModel",
      "state": {
       "_model_module": "@jupyter-widgets/controls",
       "_model_module_version": "1.5.0",
       "_model_name": "ProgressStyleModel",
       "_view_count": null,
       "_view_module": "@jupyter-widgets/base",
       "_view_module_version": "1.2.0",
       "_view_name": "StyleView",
       "bar_color": null,
       "description_width": ""
      }
     },
     "a35f6635431c48b9aee88b2d88e1bd52": {
      "model_module": "@jupyter-widgets/controls",
      "model_module_version": "1.5.0",
      "model_name": "HTMLModel",
      "state": {
       "_dom_classes": [],
       "_model_module": "@jupyter-widgets/controls",
       "_model_module_version": "1.5.0",
       "_model_name": "HTMLModel",
       "_view_count": null,
       "_view_module": "@jupyter-widgets/controls",
       "_view_module_version": "1.5.0",
       "_view_name": "HTMLView",
       "description": "",
       "description_tooltip": null,
       "layout": "IPY_MODEL_388f22a3e4264d4fa94e54fcdebf03b7",
       "placeholder": "​",
       "style": "IPY_MODEL_fa461ebbe7264d129b73d9f210c35857",
       "value": " 226k/226k [00:00&lt;00:00, 664kB/s]"
      }
     },
     "a3d7778618bf468ea58b81740593485f": {
      "model_module": "@jupyter-widgets/base",
      "model_module_version": "1.2.0",
      "model_name": "LayoutModel",
      "state": {
       "_model_module": "@jupyter-widgets/base",
       "_model_module_version": "1.2.0",
       "_model_name": "LayoutModel",
       "_view_count": null,
       "_view_module": "@jupyter-widgets/base",
       "_view_module_version": "1.2.0",
       "_view_name": "LayoutView",
       "align_content": null,
       "align_items": null,
       "align_self": null,
       "border": null,
       "bottom": null,
       "display": null,
       "flex": null,
       "flex_flow": null,
       "grid_area": null,
       "grid_auto_columns": null,
       "grid_auto_flow": null,
       "grid_auto_rows": null,
       "grid_column": null,
       "grid_gap": null,
       "grid_row": null,
       "grid_template_areas": null,
       "grid_template_columns": null,
       "grid_template_rows": null,
       "height": null,
       "justify_content": null,
       "justify_items": null,
       "left": null,
       "margin": null,
       "max_height": null,
       "max_width": null,
       "min_height": null,
       "min_width": null,
       "object_fit": null,
       "object_position": null,
       "order": null,
       "overflow": null,
       "overflow_x": null,
       "overflow_y": null,
       "padding": null,
       "right": null,
       "top": null,
       "visibility": null,
       "width": null
      }
     },
     "a88a9c61de26415187603d63b49ef7e2": {
      "model_module": "@jupyter-widgets/controls",
      "model_module_version": "1.5.0",
      "model_name": "HBoxModel",
      "state": {
       "_dom_classes": [],
       "_model_module": "@jupyter-widgets/controls",
       "_model_module_version": "1.5.0",
       "_model_name": "HBoxModel",
       "_view_count": null,
       "_view_module": "@jupyter-widgets/controls",
       "_view_module_version": "1.5.0",
       "_view_name": "HBoxView",
       "box_style": "",
       "children": [
        "IPY_MODEL_3b9266f3b1de442aac9c84a92705e407",
        "IPY_MODEL_8dce2433176b4527866b261872ea2942",
        "IPY_MODEL_59d2aa4941ab481eb6d7065d980be8bc"
       ],
       "layout": "IPY_MODEL_c762fe7f8b4447f8b1af6b9f2f78d771"
      }
     },
     "b5f76821570d4fca87ca1245be9ec7ba": {
      "model_module": "@jupyter-widgets/base",
      "model_module_version": "1.2.0",
      "model_name": "LayoutModel",
      "state": {
       "_model_module": "@jupyter-widgets/base",
       "_model_module_version": "1.2.0",
       "_model_name": "LayoutModel",
       "_view_count": null,
       "_view_module": "@jupyter-widgets/base",
       "_view_module_version": "1.2.0",
       "_view_name": "LayoutView",
       "align_content": null,
       "align_items": null,
       "align_self": null,
       "border": null,
       "bottom": null,
       "display": null,
       "flex": null,
       "flex_flow": null,
       "grid_area": null,
       "grid_auto_columns": null,
       "grid_auto_flow": null,
       "grid_auto_rows": null,
       "grid_column": null,
       "grid_gap": null,
       "grid_row": null,
       "grid_template_areas": null,
       "grid_template_columns": null,
       "grid_template_rows": null,
       "height": null,
       "justify_content": null,
       "justify_items": null,
       "left": null,
       "margin": null,
       "max_height": null,
       "max_width": null,
       "min_height": null,
       "min_width": null,
       "object_fit": null,
       "object_position": null,
       "order": null,
       "overflow": null,
       "overflow_x": null,
       "overflow_y": null,
       "padding": null,
       "right": null,
       "top": null,
       "visibility": null,
       "width": null
      }
     },
     "b6587c21d20a402385099116be43eecf": {
      "model_module": "@jupyter-widgets/controls",
      "model_module_version": "1.5.0",
      "model_name": "DescriptionStyleModel",
      "state": {
       "_model_module": "@jupyter-widgets/controls",
       "_model_module_version": "1.5.0",
       "_model_name": "DescriptionStyleModel",
       "_view_count": null,
       "_view_module": "@jupyter-widgets/base",
       "_view_module_version": "1.2.0",
       "_view_name": "StyleView",
       "description_width": ""
      }
     },
     "c4c1493c64a54f2eb10d08e5a6383097": {
      "model_module": "@jupyter-widgets/controls",
      "model_module_version": "1.5.0",
      "model_name": "ProgressStyleModel",
      "state": {
       "_model_module": "@jupyter-widgets/controls",
       "_model_module_version": "1.5.0",
       "_model_name": "ProgressStyleModel",
       "_view_count": null,
       "_view_module": "@jupyter-widgets/base",
       "_view_module_version": "1.2.0",
       "_view_name": "StyleView",
       "bar_color": null,
       "description_width": ""
      }
     },
     "c762fe7f8b4447f8b1af6b9f2f78d771": {
      "model_module": "@jupyter-widgets/base",
      "model_module_version": "1.2.0",
      "model_name": "LayoutModel",
      "state": {
       "_model_module": "@jupyter-widgets/base",
       "_model_module_version": "1.2.0",
       "_model_name": "LayoutModel",
       "_view_count": null,
       "_view_module": "@jupyter-widgets/base",
       "_view_module_version": "1.2.0",
       "_view_name": "LayoutView",
       "align_content": null,
       "align_items": null,
       "align_self": null,
       "border": null,
       "bottom": null,
       "display": null,
       "flex": null,
       "flex_flow": null,
       "grid_area": null,
       "grid_auto_columns": null,
       "grid_auto_flow": null,
       "grid_auto_rows": null,
       "grid_column": null,
       "grid_gap": null,
       "grid_row": null,
       "grid_template_areas": null,
       "grid_template_columns": null,
       "grid_template_rows": null,
       "height": null,
       "justify_content": null,
       "justify_items": null,
       "left": null,
       "margin": null,
       "max_height": null,
       "max_width": null,
       "min_height": null,
       "min_width": null,
       "object_fit": null,
       "object_position": null,
       "order": null,
       "overflow": null,
       "overflow_x": null,
       "overflow_y": null,
       "padding": null,
       "right": null,
       "top": null,
       "visibility": null,
       "width": null
      }
     },
     "cd146f2686eb488398a574c673948c4b": {
      "model_module": "@jupyter-widgets/controls",
      "model_module_version": "1.5.0",
      "model_name": "HTMLModel",
      "state": {
       "_dom_classes": [],
       "_model_module": "@jupyter-widgets/controls",
       "_model_module_version": "1.5.0",
       "_model_name": "HTMLModel",
       "_view_count": null,
       "_view_module": "@jupyter-widgets/controls",
       "_view_module_version": "1.5.0",
       "_view_name": "HTMLView",
       "description": "",
       "description_tooltip": null,
       "layout": "IPY_MODEL_347de8ecbbef430daa1eea5ccf8bea72",
       "placeholder": "​",
       "style": "IPY_MODEL_9ec7c9a5669d416893fd21a19915a7f2",
       "value": "Downloading: 100%"
      }
     },
     "d4b6bdeb48934533a1d84653edca694f": {
      "model_module": "@jupyter-widgets/controls",
      "model_module_version": "1.5.0",
      "model_name": "DescriptionStyleModel",
      "state": {
       "_model_module": "@jupyter-widgets/controls",
       "_model_module_version": "1.5.0",
       "_model_name": "DescriptionStyleModel",
       "_view_count": null,
       "_view_module": "@jupyter-widgets/base",
       "_view_module_version": "1.2.0",
       "_view_name": "StyleView",
       "description_width": ""
      }
     },
     "d758ac59240c411887c4af7104cd4836": {
      "model_module": "@jupyter-widgets/controls",
      "model_module_version": "1.5.0",
      "model_name": "HBoxModel",
      "state": {
       "_dom_classes": [],
       "_model_module": "@jupyter-widgets/controls",
       "_model_module_version": "1.5.0",
       "_model_name": "HBoxModel",
       "_view_count": null,
       "_view_module": "@jupyter-widgets/controls",
       "_view_module_version": "1.5.0",
       "_view_name": "HBoxView",
       "box_style": "",
       "children": [
        "IPY_MODEL_034f2de5e7a640218410c2dca0381770",
        "IPY_MODEL_005b451d7dbd48b5a420cfc8e8eed162",
        "IPY_MODEL_813fa50a10d243189d5a102ec12b96e6"
       ],
       "layout": "IPY_MODEL_2e478e9843b1443f99d3c10eef9c7412"
      }
     },
     "d7f31e16377044949692cebbfc12c959": {
      "model_module": "@jupyter-widgets/base",
      "model_module_version": "1.2.0",
      "model_name": "LayoutModel",
      "state": {
       "_model_module": "@jupyter-widgets/base",
       "_model_module_version": "1.2.0",
       "_model_name": "LayoutModel",
       "_view_count": null,
       "_view_module": "@jupyter-widgets/base",
       "_view_module_version": "1.2.0",
       "_view_name": "LayoutView",
       "align_content": null,
       "align_items": null,
       "align_self": null,
       "border": null,
       "bottom": null,
       "display": null,
       "flex": null,
       "flex_flow": null,
       "grid_area": null,
       "grid_auto_columns": null,
       "grid_auto_flow": null,
       "grid_auto_rows": null,
       "grid_column": null,
       "grid_gap": null,
       "grid_row": null,
       "grid_template_areas": null,
       "grid_template_columns": null,
       "grid_template_rows": null,
       "height": null,
       "justify_content": null,
       "justify_items": null,
       "left": null,
       "margin": null,
       "max_height": null,
       "max_width": null,
       "min_height": null,
       "min_width": null,
       "object_fit": null,
       "object_position": null,
       "order": null,
       "overflow": null,
       "overflow_x": null,
       "overflow_y": null,
       "padding": null,
       "right": null,
       "top": null,
       "visibility": null,
       "width": null
      }
     },
     "dd29acce8691431f91602b1abf207f19": {
      "model_module": "@jupyter-widgets/base",
      "model_module_version": "1.2.0",
      "model_name": "LayoutModel",
      "state": {
       "_model_module": "@jupyter-widgets/base",
       "_model_module_version": "1.2.0",
       "_model_name": "LayoutModel",
       "_view_count": null,
       "_view_module": "@jupyter-widgets/base",
       "_view_module_version": "1.2.0",
       "_view_name": "LayoutView",
       "align_content": null,
       "align_items": null,
       "align_self": null,
       "border": null,
       "bottom": null,
       "display": null,
       "flex": null,
       "flex_flow": null,
       "grid_area": null,
       "grid_auto_columns": null,
       "grid_auto_flow": null,
       "grid_auto_rows": null,
       "grid_column": null,
       "grid_gap": null,
       "grid_row": null,
       "grid_template_areas": null,
       "grid_template_columns": null,
       "grid_template_rows": null,
       "height": null,
       "justify_content": null,
       "justify_items": null,
       "left": null,
       "margin": null,
       "max_height": null,
       "max_width": null,
       "min_height": null,
       "min_width": null,
       "object_fit": null,
       "object_position": null,
       "order": null,
       "overflow": null,
       "overflow_x": null,
       "overflow_y": null,
       "padding": null,
       "right": null,
       "top": null,
       "visibility": null,
       "width": null
      }
     },
     "e345745e9c6d4674a2d07b273c9c53c0": {
      "model_module": "@jupyter-widgets/controls",
      "model_module_version": "1.5.0",
      "model_name": "DescriptionStyleModel",
      "state": {
       "_model_module": "@jupyter-widgets/controls",
       "_model_module_version": "1.5.0",
       "_model_name": "DescriptionStyleModel",
       "_view_count": null,
       "_view_module": "@jupyter-widgets/base",
       "_view_module_version": "1.2.0",
       "_view_name": "StyleView",
       "description_width": ""
      }
     },
     "e7ca9056f29a4b30a735e812d503fe63": {
      "model_module": "@jupyter-widgets/controls",
      "model_module_version": "1.5.0",
      "model_name": "HBoxModel",
      "state": {
       "_dom_classes": [],
       "_model_module": "@jupyter-widgets/controls",
       "_model_module_version": "1.5.0",
       "_model_name": "HBoxModel",
       "_view_count": null,
       "_view_module": "@jupyter-widgets/controls",
       "_view_module_version": "1.5.0",
       "_view_name": "HBoxView",
       "box_style": "",
       "children": [
        "IPY_MODEL_cd146f2686eb488398a574c673948c4b",
        "IPY_MODEL_f2738670b1a94a278bc63fd4e3dce5b1",
        "IPY_MODEL_a35f6635431c48b9aee88b2d88e1bd52"
       ],
       "layout": "IPY_MODEL_7b2fc71d2d0f4632b45c6a4c4d8a0cd1"
      }
     },
     "ed09bce23bef4a79a378cc8e001e4756": {
      "model_module": "@jupyter-widgets/controls",
      "model_module_version": "1.5.0",
      "model_name": "HTMLModel",
      "state": {
       "_dom_classes": [],
       "_model_module": "@jupyter-widgets/controls",
       "_model_module_version": "1.5.0",
       "_model_name": "HTMLModel",
       "_view_count": null,
       "_view_module": "@jupyter-widgets/controls",
       "_view_module_version": "1.5.0",
       "_view_name": "HTMLView",
       "description": "",
       "description_tooltip": null,
       "layout": "IPY_MODEL_8002497f8a514e8e9232ce1c637a1ab8",
       "placeholder": "​",
       "style": "IPY_MODEL_e345745e9c6d4674a2d07b273c9c53c0",
       "value": " 570/570 [00:00&lt;00:00, 20.3kB/s]"
      }
     },
     "f2738670b1a94a278bc63fd4e3dce5b1": {
      "model_module": "@jupyter-widgets/controls",
      "model_module_version": "1.5.0",
      "model_name": "FloatProgressModel",
      "state": {
       "_dom_classes": [],
       "_model_module": "@jupyter-widgets/controls",
       "_model_module_version": "1.5.0",
       "_model_name": "FloatProgressModel",
       "_view_count": null,
       "_view_module": "@jupyter-widgets/controls",
       "_view_module_version": "1.5.0",
       "_view_name": "ProgressView",
       "bar_style": "success",
       "description": "",
       "description_tooltip": null,
       "layout": "IPY_MODEL_5e19360fa5124ab6b6eb5814bb4cb9cd",
       "max": 231508,
       "min": 0,
       "orientation": "horizontal",
       "style": "IPY_MODEL_c4c1493c64a54f2eb10d08e5a6383097",
       "value": 231508
      }
     },
     "fa461ebbe7264d129b73d9f210c35857": {
      "model_module": "@jupyter-widgets/controls",
      "model_module_version": "1.5.0",
      "model_name": "DescriptionStyleModel",
      "state": {
       "_model_module": "@jupyter-widgets/controls",
       "_model_module_version": "1.5.0",
       "_model_name": "DescriptionStyleModel",
       "_view_count": null,
       "_view_module": "@jupyter-widgets/base",
       "_view_module_version": "1.2.0",
       "_view_name": "StyleView",
       "description_width": ""
      }
     },
     "ff09c01e18a544c38c06967b8a8933ed": {
      "model_module": "@jupyter-widgets/controls",
      "model_module_version": "1.5.0",
      "model_name": "HBoxModel",
      "state": {
       "_dom_classes": [],
       "_model_module": "@jupyter-widgets/controls",
       "_model_module_version": "1.5.0",
       "_model_name": "HBoxModel",
       "_view_count": null,
       "_view_module": "@jupyter-widgets/controls",
       "_view_module_version": "1.5.0",
       "_view_name": "HBoxView",
       "box_style": "",
       "children": [
        "IPY_MODEL_99eafcf7bfc5423fa16608f8177e27d7",
        "IPY_MODEL_02665a65b1654994b6c6fe41ecebb755",
        "IPY_MODEL_ed09bce23bef4a79a378cc8e001e4756"
       ],
       "layout": "IPY_MODEL_dd29acce8691431f91602b1abf207f19"
      }
     },
     "ffc9ecc563c24f94b3bc4f30616687a2": {
      "model_module": "@jupyter-widgets/base",
      "model_module_version": "1.2.0",
      "model_name": "LayoutModel",
      "state": {
       "_model_module": "@jupyter-widgets/base",
       "_model_module_version": "1.2.0",
       "_model_name": "LayoutModel",
       "_view_count": null,
       "_view_module": "@jupyter-widgets/base",
       "_view_module_version": "1.2.0",
       "_view_name": "LayoutView",
       "align_content": null,
       "align_items": null,
       "align_self": null,
       "border": null,
       "bottom": null,
       "display": null,
       "flex": null,
       "flex_flow": null,
       "grid_area": null,
       "grid_auto_columns": null,
       "grid_auto_flow": null,
       "grid_auto_rows": null,
       "grid_column": null,
       "grid_gap": null,
       "grid_row": null,
       "grid_template_areas": null,
       "grid_template_columns": null,
       "grid_template_rows": null,
       "height": null,
       "justify_content": null,
       "justify_items": null,
       "left": null,
       "margin": null,
       "max_height": null,
       "max_width": null,
       "min_height": null,
       "min_width": null,
       "object_fit": null,
       "object_position": null,
       "order": null,
       "overflow": null,
       "overflow_x": null,
       "overflow_y": null,
       "padding": null,
       "right": null,
       "top": null,
       "visibility": null,
       "width": null
      }
     }
    },
    "version_major": 2,
    "version_minor": 0
   }
  }
 },
 "nbformat": 4,
 "nbformat_minor": 5
}

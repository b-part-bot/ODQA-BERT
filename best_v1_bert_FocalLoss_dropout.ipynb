{
  "cells": [
    {
      "cell_type": "code",
      "execution_count": null,
      "id": "651029d2",
      "metadata": {
        "execution": {
          "iopub.execute_input": "2022-09-13T17:51:01.418392Z",
          "iopub.status.busy": "2022-09-13T17:51:01.417232Z",
          "iopub.status.idle": "2022-09-13T17:51:01.423626Z",
          "shell.execute_reply": "2022-09-13T17:51:01.422672Z"
        },
        "id": "651029d2",
        "papermill": {
          "duration": 0.028257,
          "end_time": "2022-09-13T17:51:01.425633",
          "exception": false,
          "start_time": "2022-09-13T17:51:01.397376",
          "status": "completed"
        },
        "tags": []
      },
      "outputs": [],
      "source": [
        "# pip install transformers"
      ]
    },
    {
      "cell_type": "code",
      "execution_count": null,
      "id": "3e882b7e",
      "metadata": {
        "_cell_guid": "b1076dfc-b9ad-4769-8c92-a6c4dae69d19",
        "_uuid": "8f2839f25d086af736a60e9eeb907d3b93b6e0e5",
        "execution": {
          "iopub.execute_input": "2022-09-13T17:51:01.456446Z",
          "iopub.status.busy": "2022-09-13T17:51:01.456178Z",
          "iopub.status.idle": "2022-09-13T17:51:09.091530Z",
          "shell.execute_reply": "2022-09-13T17:51:09.090509Z"
        },
        "id": "3e882b7e",
        "papermill": {
          "duration": 7.653663,
          "end_time": "2022-09-13T17:51:09.094290",
          "exception": false,
          "start_time": "2022-09-13T17:51:01.440627",
          "status": "completed"
        },
        "tags": []
      },
      "outputs": [],
      "source": [
        "\n",
        "import requests\n",
        "import json\n",
        "import torch\n",
        "import torch.nn as nn\n",
        "import os\n",
        "from tqdm import tqdm\n",
        "from transformers import BertModel, BertTokenizerFast, AdamW\n",
        "from transformers import AutoTokenizer, AutoModelForQuestionAnswering, BertTokenizer, BertForQuestionAnswering\n",
        "from torch.utils.data import Dataset, DataLoader\n",
        "from torch.optim.lr_scheduler import ExponentialLR\n",
        "import matplotlib.pyplot as plt"
      ]
    },
    {
      "cell_type": "code",
      "source": [
        "import json\n",
        "!wget -nc https://rajpurkar.github.io/SQuAD-explorer/dataset/train-v2.0.json\n",
        "!wget -nc https://rajpurkar.github.io/SQuAD-explorer/dataset/dev-v2.0.json\n",
        "\n",
        "with open('train-v2.0.json', 'r') as f:\n",
        "    train_data = json.load(f)\n",
        "\n",
        "with open('dev-v2.0.json', 'r') as f:\n",
        "    dev_data = json.load(f)\n"
      ],
      "metadata": {
        "colab": {
          "base_uri": "https://localhost:8080/"
        },
        "id": "vJooIhcWq_aJ",
        "outputId": "3ab047a5-1f15-434e-824a-430811be56ef"
      },
      "id": "vJooIhcWq_aJ",
      "execution_count": null,
      "outputs": [
        {
          "output_type": "stream",
          "name": "stdout",
          "text": [
            "File ‘train-v2.0.json’ already there; not retrieving.\n",
            "\n",
            "File ‘dev-v2.0.json’ already there; not retrieving.\n",
            "\n"
          ]
        }
      ]
    },
    {
      "cell_type": "code",
      "execution_count": null,
      "id": "b483dee3",
      "metadata": {
        "execution": {
          "iopub.execute_input": "2022-09-13T17:51:09.126234Z",
          "iopub.status.busy": "2022-09-13T17:51:09.125698Z",
          "iopub.status.idle": "2022-09-13T17:51:09.130313Z",
          "shell.execute_reply": "2022-09-13T17:51:09.129184Z"
        },
        "id": "b483dee3",
        "papermill": {
          "duration": 0.022653,
          "end_time": "2022-09-13T17:51:09.132421",
          "exception": false,
          "start_time": "2022-09-13T17:51:09.109768",
          "status": "completed"
        },
        "tags": []
      },
      "outputs": [],
      "source": [
        "MODEL_PATH = \"bert-base-uncased\""
      ]
    },
    {
      "cell_type": "code",
      "source": [
        "with open('/content/train-v2.0.json', 'r') as f:\n",
        "    train_data = json.load(f)\n",
        "\n",
        "with open('/content/dev-v2.0.json', 'r') as f:\n",
        "    dev_data = json.load(f)"
      ],
      "metadata": {
        "id": "x1x7h2Q0q7V5"
      },
      "id": "x1x7h2Q0q7V5",
      "execution_count": null,
      "outputs": []
    },
    {
      "cell_type": "code",
      "execution_count": null,
      "id": "b6a3a765",
      "metadata": {
        "execution": {
          "iopub.execute_input": "2022-09-13T17:51:13.004224Z",
          "iopub.status.busy": "2022-09-13T17:51:13.003864Z",
          "iopub.status.idle": "2022-09-13T17:51:13.008665Z",
          "shell.execute_reply": "2022-09-13T17:51:13.007697Z"
        },
        "id": "b6a3a765",
        "papermill": {
          "duration": 0.025373,
          "end_time": "2022-09-13T17:51:13.010701",
          "exception": false,
          "start_time": "2022-09-13T17:51:12.985328",
          "status": "completed"
        },
        "tags": []
      },
      "outputs": [],
      "source": [
        "num_questions = 0\n",
        "num_posible = 0\n",
        "num_imposible = 0"
      ]
    },
    {
      "cell_type": "code",
      "execution_count": null,
      "id": "0310a19d",
      "metadata": {
        "execution": {
          "iopub.execute_input": "2022-09-13T17:51:13.043326Z",
          "iopub.status.busy": "2022-09-13T17:51:13.042626Z",
          "iopub.status.idle": "2022-09-13T17:51:13.050428Z",
          "shell.execute_reply": "2022-09-13T17:51:13.049414Z"
        },
        "id": "0310a19d",
        "papermill": {
          "duration": 0.02611,
          "end_time": "2022-09-13T17:51:13.052467",
          "exception": false,
          "start_time": "2022-09-13T17:51:13.026357",
          "status": "completed"
        },
        "tags": []
      },
      "outputs": [],
      "source": [
        "#note: below code will only return questions wich have answers (i.e. not the ones flagged as imposible to answer)\n",
        "def get_data(path):  \n",
        "    #read each file and retrieve the contexts, qustions and answers\n",
        "  with open(path, 'rb') as f:\n",
        "    raw_data = json.load(f)\n",
        "\n",
        "  contexts = []\n",
        "  questions = []\n",
        "  answers = []\n",
        "  num_q = 0\n",
        "  num_pos = 0\n",
        "  num_imp = 0\n",
        "\n",
        "  for group in raw_data['data']:\n",
        "    for paragraph in group['paragraphs']:\n",
        "      context = paragraph['context']\n",
        "      for qa in paragraph['qas']:\n",
        "        question = qa['question']\n",
        "        num_q  = num_q  +1\n",
        "        if qa['is_impossible'] == True:\n",
        "            num_imp = num_imp +1\n",
        "        else:\n",
        "            num_pos = num_pos +1\n",
        "        for answer in qa['answers']:\n",
        "          contexts.append(context.lower())\n",
        "          questions.append(question.lower())\n",
        "          answers.append(answer)\n",
        "\n",
        "  return num_q, num_pos, num_imp, contexts, questions, answers"
      ]
    },
    {
      "cell_type": "code",
      "execution_count": null,
      "id": "04c0ed17",
      "metadata": {
        "execution": {
          "iopub.execute_input": "2022-09-13T17:51:13.085582Z",
          "iopub.status.busy": "2022-09-13T17:51:13.084798Z",
          "iopub.status.idle": "2022-09-13T17:51:14.526502Z",
          "shell.execute_reply": "2022-09-13T17:51:14.525505Z"
        },
        "id": "04c0ed17",
        "papermill": {
          "duration": 1.460865,
          "end_time": "2022-09-13T17:51:14.529000",
          "exception": false,
          "start_time": "2022-09-13T17:51:13.068135",
          "status": "completed"
        },
        "tags": []
      },
      "outputs": [],
      "source": [
        "num_q, num_pos, num_imp, train_contexts, train_questions, train_answers = get_data('train-v2.0.json')\n",
        "num_questions  = num_q\n",
        "num_posible = num_pos\n",
        "num_imposible  = num_imp\n"
      ]
    },
    {
      "cell_type": "code",
      "execution_count": null,
      "id": "7e267a84",
      "metadata": {
        "execution": {
          "iopub.execute_input": "2022-09-13T17:51:14.564265Z",
          "iopub.status.busy": "2022-09-13T17:51:14.563958Z",
          "iopub.status.idle": "2022-09-13T17:51:14.569149Z",
          "shell.execute_reply": "2022-09-13T17:51:14.568193Z"
        },
        "papermill": {
          "duration": 0.024598,
          "end_time": "2022-09-13T17:51:14.571597",
          "exception": false,
          "start_time": "2022-09-13T17:51:14.546999",
          "status": "completed"
        },
        "tags": [],
        "colab": {
          "base_uri": "https://localhost:8080/"
        },
        "id": "7e267a84",
        "outputId": "6ed1b963-7610-4a3c-8b4a-b2739d01eaf3"
      },
      "outputs": [
        {
          "output_type": "stream",
          "name": "stdout",
          "text": [
            "['when did beyonce start becoming popular?', 'what areas did beyonce compete in when she was growing up?', \"when did beyonce leave destiny's child and become a solo singer?\", 'in what city and state did beyonce  grow up? ', 'in which decade did beyonce become famous?', 'in what r&b group was she the lead singer?', 'what album made her a worldwide known artist?', \"who managed the destiny's child group?\", 'when did beyoncé rise to fame?', \"what role did beyoncé have in destiny's child?\"]\n",
            "[{'text': 'in the late 1990s', 'answer_start': 269}, {'text': 'singing and dancing', 'answer_start': 207}, {'text': '2003', 'answer_start': 526}, {'text': 'Houston, Texas', 'answer_start': 166}, {'text': 'late 1990s', 'answer_start': 276}, {'text': \"Destiny's Child\", 'answer_start': 320}, {'text': 'Dangerously in Love', 'answer_start': 505}, {'text': 'Mathew Knowles', 'answer_start': 360}, {'text': 'late 1990s', 'answer_start': 276}, {'text': 'lead singer', 'answer_start': 290}]\n"
          ]
        }
      ],
      "source": [
        "print(train_questions[0:10])\n",
        "print(train_answers[0:10])"
      ]
    },
    {
      "cell_type": "code",
      "execution_count": null,
      "id": "1e551bfd",
      "metadata": {
        "execution": {
          "iopub.execute_input": "2022-09-13T17:51:14.604683Z",
          "iopub.status.busy": "2022-09-13T17:51:14.603297Z",
          "iopub.status.idle": "2022-09-13T17:51:14.889077Z",
          "shell.execute_reply": "2022-09-13T17:51:14.887147Z"
        },
        "papermill": {
          "duration": 0.304185,
          "end_time": "2022-09-13T17:51:14.891234",
          "exception": false,
          "start_time": "2022-09-13T17:51:14.587049",
          "status": "completed"
        },
        "tags": [],
        "colab": {
          "base_uri": "https://localhost:8080/"
        },
        "id": "1e551bfd",
        "outputId": "2a899082-f125-4a55-c92c-4fedeb8528e4"
      },
      "outputs": [
        {
          "output_type": "stream",
          "name": "stdout",
          "text": [
            "Total number of questions: 142192\n",
            "Total number of Answerable questions: 92749\n",
            "Total number of impossible questions: 49443\n"
          ]
        }
      ],
      "source": [
        "num_q, num_pos, num_imp, valid_contexts, valid_questions, valid_answers = get_data('dev-v2.0.json')\n",
        "num_questions  = num_questions + num_q\n",
        "num_posible = num_posible + num_pos\n",
        "num_imposible = num_imposible  + num_imp\n",
        "\n",
        "print(f\"Total number of questions: {num_questions}\")\n",
        "print(f\"Total number of Answerable questions: {num_posible}\")\n",
        "print(f\"Total number of impossible questions: {num_imposible}\")"
      ]
    },
    {
      "cell_type": "code",
      "execution_count": null,
      "id": "5acab18b",
      "metadata": {
        "execution": {
          "iopub.execute_input": "2022-09-13T17:51:14.925106Z",
          "iopub.status.busy": "2022-09-13T17:51:14.924591Z",
          "iopub.status.idle": "2022-09-13T17:51:14.930058Z",
          "shell.execute_reply": "2022-09-13T17:51:14.929105Z"
        },
        "papermill": {
          "duration": 0.025185,
          "end_time": "2022-09-13T17:51:14.932860",
          "exception": false,
          "start_time": "2022-09-13T17:51:14.907675",
          "status": "completed"
        },
        "tags": [],
        "colab": {
          "base_uri": "https://localhost:8080/"
        },
        "id": "5acab18b",
        "outputId": "882fd91b-1097-4c39-fa1a-6d05bc2215c1"
      },
      "outputs": [
        {
          "output_type": "stream",
          "name": "stdout",
          "text": [
            "['in what country is normandy located?', 'in what country is normandy located?', 'in what country is normandy located?', 'in what country is normandy located?', 'when were the normans in normandy?', 'when were the normans in normandy?', 'when were the normans in normandy?', 'when were the normans in normandy?', 'from which countries did the norse originate?', 'from which countries did the norse originate?']\n",
            "[{'text': 'France', 'answer_start': 159}, {'text': 'France', 'answer_start': 159}, {'text': 'France', 'answer_start': 159}, {'text': 'France', 'answer_start': 159}, {'text': '10th and 11th centuries', 'answer_start': 94}, {'text': 'in the 10th and 11th centuries', 'answer_start': 87}, {'text': '10th and 11th centuries', 'answer_start': 94}, {'text': '10th and 11th centuries', 'answer_start': 94}, {'text': 'Denmark, Iceland and Norway', 'answer_start': 256}, {'text': 'Denmark, Iceland and Norway', 'answer_start': 256}]\n"
          ]
        }
      ],
      "source": [
        "print(valid_questions[0:10])\n",
        "print(valid_answers[0:10])"
      ]
    },
    {
      "cell_type": "code",
      "execution_count": null,
      "id": "8523ae25",
      "metadata": {
        "execution": {
          "iopub.execute_input": "2022-09-13T17:51:14.967640Z",
          "iopub.status.busy": "2022-09-13T17:51:14.966829Z",
          "iopub.status.idle": "2022-09-13T17:51:15.040378Z",
          "shell.execute_reply": "2022-09-13T17:51:15.039454Z"
        },
        "id": "8523ae25",
        "papermill": {
          "duration": 0.092505,
          "end_time": "2022-09-13T17:51:15.042594",
          "exception": false,
          "start_time": "2022-09-13T17:51:14.950089",
          "status": "completed"
        },
        "tags": []
      },
      "outputs": [],
      "source": [
        "def add_answer_end(answers, contexts):\n",
        "  for answer, context in zip(answers, contexts):\n",
        "    answer['text'] = answer['text'].lower()\n",
        "    answer['answer_end'] = answer['answer_start'] + len(answer['text'])\n",
        "\n",
        "add_answer_end(train_answers, train_contexts)\n",
        "add_answer_end(valid_answers, valid_contexts)"
      ]
    },
    {
      "cell_type": "code",
      "execution_count": null,
      "id": "96d36e73",
      "metadata": {
        "execution": {
          "iopub.execute_input": "2022-09-13T17:51:15.076855Z",
          "iopub.status.busy": "2022-09-13T17:51:15.076541Z",
          "iopub.status.idle": "2022-09-13T17:51:15.081377Z",
          "shell.execute_reply": "2022-09-13T17:51:15.080435Z"
        },
        "id": "96d36e73",
        "outputId": "490fd57d-1feb-41a8-b9bc-766ebb230b66",
        "papermill": {
          "duration": 0.02488,
          "end_time": "2022-09-13T17:51:15.083883",
          "exception": false,
          "start_time": "2022-09-13T17:51:15.059003",
          "status": "completed"
        },
        "tags": [],
        "colab": {
          "base_uri": "https://localhost:8080/"
        }
      },
      "outputs": [
        {
          "output_type": "stream",
          "name": "stdout",
          "text": [
            "Context: beyoncé giselle knowles-carter (/biːˈjɒnseɪ/ bee-yon-say) (born september 4, 1981) is an american singer, songwriter, record producer and actress. born and raised in houston, texas, she performed in various singing and dancing competitions as a child, and rose to fame in the late 1990s as lead singer of r&b girl-group destiny's child. managed by her father, mathew knowles, the group became one of the world's best-selling girl groups of all time. their hiatus saw the release of beyoncé's debut album, dangerously in love (2003), which established her as a solo artist worldwide, earned five grammy awards and featured the billboard hot 100 number-one singles \"crazy in love\" and \"baby boy\".\n",
            "Question: when did beyonce start becoming popular?\n",
            "Answer: {'text': 'in the late 1990s', 'answer_start': 269, 'answer_end': 286}\n"
          ]
        }
      ],
      "source": [
        "print(f\"Context: {train_contexts[0]}\")\n",
        "print(f\"Question: {train_questions[0]}\")\n",
        "print(f\"Answer: {train_answers[0]}\")"
      ]
    },
    {
      "cell_type": "code",
      "execution_count": null,
      "id": "2bc32d36",
      "metadata": {
        "execution": {
          "iopub.execute_input": "2022-09-13T17:51:15.117964Z",
          "iopub.status.busy": "2022-09-13T17:51:15.117422Z",
          "iopub.status.idle": "2022-09-13T17:51:15.123498Z",
          "shell.execute_reply": "2022-09-13T17:51:15.122390Z"
        },
        "id": "2bc32d36",
        "outputId": "df57b5b5-a5f4-45e2-b541-ee13ccea4b54",
        "papermill": {
          "duration": 0.025219,
          "end_time": "2022-09-13T17:51:15.125986",
          "exception": false,
          "start_time": "2022-09-13T17:51:15.100767",
          "status": "completed"
        },
        "tags": [],
        "colab": {
          "base_uri": "https://localhost:8080/"
        }
      },
      "outputs": [
        {
          "output_type": "stream",
          "name": "stdout",
          "text": [
            "Context: the english name \"normans\" comes from the french words normans/normanz, plural of normant, modern french normand, which is itself borrowed from old low franconian nortmann \"northman\" or directly from old norse norðmaðr, latinized variously as nortmannus, normannus, or nordmannus (recorded in medieval latin, 9th century) to mean \"norseman, viking\".\n",
            "Question: what is the original meaning of the word norman?\n",
            "Answer: {'text': 'norseman, viking', 'answer_start': 331, 'answer_end': 347}\n"
          ]
        }
      ],
      "source": [
        "test_rec = 30\n",
        "print(f\"Context: {valid_contexts[test_rec]}\")\n",
        "print(f\"Question: {valid_questions[test_rec]}\")\n",
        "print(f\"Answer: {valid_answers[test_rec]}\")"
      ]
    },
    {
      "cell_type": "code",
      "execution_count": null,
      "id": "97afb068",
      "metadata": {
        "execution": {
          "iopub.execute_input": "2022-09-13T17:51:15.222180Z",
          "iopub.status.busy": "2022-09-13T17:51:15.221477Z",
          "iopub.status.idle": "2022-09-13T17:51:16.213669Z",
          "shell.execute_reply": "2022-09-13T17:51:16.212652Z"
        },
        "id": "97afb068",
        "outputId": "b7304258-416b-4e19-f1f0-913c575f9b89",
        "papermill": {
          "duration": 1.011414,
          "end_time": "2022-09-13T17:51:16.215923",
          "exception": false,
          "start_time": "2022-09-13T17:51:15.204509",
          "status": "completed"
        },
        "tags": [],
        "colab": {
          "base_uri": "https://localhost:8080/",
          "height": 489
        }
      },
      "outputs": [
        {
          "output_type": "stream",
          "name": "stdout",
          "text": [
            "653\n"
          ]
        },
        {
          "output_type": "display_data",
          "data": {
            "text/plain": [
              "<Figure size 640x480 with 1 Axes>"
            ],
            "image/png": "[encoded data removed]"
          },
          "metadata": {}
        }
      ],
      "source": [
        "#Text lengths to contextx\n",
        "token_lens = []\n",
        "\n",
        "for txt in train_contexts:\n",
        "    txt = txt.strip()  # remove leading and trailing whitespaces\n",
        "    token_lens.append(len(txt.split(' ')))\n",
        "  \n",
        "\n",
        "print(max(token_lens))\n",
        "\n",
        "plt.hist(token_lens,  bins=20)  # density=False would make counts\n",
        "plt.ylabel('Count')\n",
        "plt.xlabel('Length')\n",
        "plt.title('Distribution of Context Lengths');"
      ]
    },
    {
      "cell_type": "code",
      "execution_count": null,
      "id": "5d412822",
      "metadata": {
        "execution": {
          "iopub.execute_input": "2022-09-13T17:51:16.249937Z",
          "iopub.status.busy": "2022-09-13T17:51:16.249129Z",
          "iopub.status.idle": "2022-09-13T17:51:17.011901Z",
          "shell.execute_reply": "2022-09-13T17:51:17.010920Z"
        },
        "id": "5d412822",
        "outputId": "00e9e5a2-445d-4642-8e34-df1723ba0c47",
        "papermill": {
          "duration": 0.782627,
          "end_time": "2022-09-13T17:51:17.014867",
          "exception": false,
          "start_time": "2022-09-13T17:51:16.232240",
          "status": "completed"
        },
        "tags": [],
        "colab": {
          "base_uri": "https://localhost:8080/",
          "height": 507
        }
      },
      "outputs": [
        {
          "output_type": "stream",
          "name": "stdout",
          "text": [
            "40\n",
            "86821\n"
          ]
        },
        {
          "output_type": "display_data",
          "data": {
            "text/plain": [
              "<Figure size 640x480 with 1 Axes>"
            ],
            "image/png": "[encoded data removed]"
          },
          "metadata": {}
        }
      ],
      "source": [
        "#Test lengths of Questions\n",
        "token_lens2 = []\n",
        "\n",
        "for txt in train_questions:\n",
        "    txt = txt.strip()  # remove leading and trailing whitespaces\n",
        "    token_lens2.append(len(txt.split(' ')))\n",
        "\n",
        "\n",
        "print(max(token_lens2))\n",
        "print(len(token_lens2))\n",
        "\n",
        "plt.hist(token_lens2,  bins=20)  # density=False would make counts\n",
        "plt.ylabel('Count')\n",
        "plt.xlabel('Length')\n",
        "plt.title('Distribution of Question Lengths');"
      ]
    },
    {
      "cell_type": "code",
      "execution_count": null,
      "id": "53be559d",
      "metadata": {
        "execution": {
          "iopub.execute_input": "2022-09-13T17:51:17.065587Z",
          "iopub.status.busy": "2022-09-13T17:51:17.065107Z",
          "iopub.status.idle": "2022-09-13T17:51:17.074785Z",
          "shell.execute_reply": "2022-09-13T17:51:17.068754Z"
        },
        "id": "53be559d",
        "papermill": {
          "duration": 0.038076,
          "end_time": "2022-09-13T17:51:17.078582",
          "exception": false,
          "start_time": "2022-09-13T17:51:17.040506",
          "status": "completed"
        },
        "tags": []
      },
      "outputs": [],
      "source": [
        "MAX_LENGTH = 250  "
      ]
    },
    {
      "cell_type": "markdown",
      "id": "2875ff68",
      "metadata": {
        "id": "2875ff68",
        "papermill": {
          "duration": 0.024348,
          "end_time": "2022-09-13T17:51:17.127465",
          "exception": false,
          "start_time": "2022-09-13T17:51:17.103117",
          "status": "completed"
        },
        "tags": []
      },
      "source": [
        "### tokenize"
      ]
    },
    {
      "cell_type": "code",
      "execution_count": null,
      "id": "1a2868cd",
      "metadata": {
        "execution": {
          "iopub.execute_input": "2022-09-13T17:51:17.189886Z",
          "iopub.status.busy": "2022-09-13T17:51:17.189476Z",
          "iopub.status.idle": "2022-09-13T17:52:14.629589Z",
          "shell.execute_reply": "2022-09-13T17:52:14.628546Z"
        },
        "id": "1a2868cd",
        "outputId": "2e341c97-c533-43ca-c928-cd9c0fbf427a",
        "papermill": {
          "duration": 57.477763,
          "end_time": "2022-09-13T17:52:14.632323",
          "exception": false,
          "start_time": "2022-09-13T17:51:17.154560",
          "status": "completed"
        },
        "tags": [],
        "colab": {
          "base_uri": "https://localhost:8080/",
          "height": 145,
          "referenced_widgets": [
            "bda4c9f3f4c944b8b3e5ad99a44ee35a",
            "26b5236b8638431495afe0c8ce9adb63",
            "c092ccf9c7ab4e978f3c40e21ff03895",
            "e05934c1748f43e38a3978fed0ec3a12",
            "de1279939e574c788e713f1feb495b3c",
            "0534532f01cc4dceb37dd8f4441d54a8",
            "b15b7c7518254ebfa3a04c0d419f143d",
            "863cad844cc9498d985af516d335a042",
            "687ffb5362684683bae84a34e5c553a8",
            "f60cde6919464cc2a43c2be98a2067f5",
            "56724da23a9346dc901e71abba30bdef",
            "045185c67cf1498e9de813a85266d68d",
            "7fbeae15abad48ca88c3e26281be127a",
            "360a5b4e20a74f3ebdecb04973f75172",
            "fe68492fefc74714982a84eba92cf235",
            "16e10a92236f4d0f9b4e6e37ac38fb04",
            "091b51c78a62431991f98734a712e9fc",
            "46eb6563a56349f486204f2000742538",
            "ebd343f758d5410096573b7e0a0ff53f",
            "b56db5ed4f024a8db044b0a3e78a10e8",
            "2ed618d92cb64ba586108fe2e6b3b517",
            "061a00b21464458382bc0683aae3d193",
            "32a52ad6ef4848ccbcff930642a466ec",
            "cd840406b47646af90dc96ce90cfa846",
            "f2e2828721cd4c7abeeab76776cd49d5",
            "b4db418ddf5f430a85d1d6fce18000df",
            "1195ded63cd64d44b4625a83d8f9976f",
            "d03bc17eb6db497381e16930c04c9023",
            "f41e2adc3feb46ec9c997b622d8947ee",
            "9a820c3c1c374f339582fe4980ede3b0",
            "a5393dc086f14483938ddb54790dc8ba",
            "1d4074e901194e808730212d414e1ec2",
            "88a64bea359f49feaff9ac97679ead43",
            "db19d04b481a48d498aed7fd7ab10bee",
            "4f87d3bd5ca844e5803a4189933be346",
            "6c74103cf5604852a0f29cedf6f5d2de",
            "7586af0547dc44fcafa62d044c566aea",
            "d9de96edc8cd4914921d0bc10ae65b58",
            "ae4628c2f3a14c41af6f8295adbd5f0e",
            "35a5c127ca0c4305823003cd898d9ac6",
            "108210b9170c430a8f59ae96a3fa34dc",
            "58b50446d73c4c23890ef3c02fd98359",
            "634c044e8d34479f97665958c47bcbe3",
            "cb2aaca356164dfe84883c7e2cad0f6a"
          ]
        }
      },
      "outputs": [
        {
          "output_type": "display_data",
          "data": {
            "text/plain": [
              "Downloading (…)okenizer_config.json:   0%|          | 0.00/28.0 [00:00<?, ?B/s]"
            ],
            "application/vnd.jupyter.widget-view+json": {
              "version_major": 2,
              "version_minor": 0,
              "model_id": "bda4c9f3f4c944b8b3e5ad99a44ee35a"
            }
          },
          "metadata": {}
        },
        {
          "output_type": "display_data",
          "data": {
            "text/plain": [
              "Downloading (…)solve/main/vocab.txt:   0%|          | 0.00/232k [00:00<?, ?B/s]"
            ],
            "application/vnd.jupyter.widget-view+json": {
              "version_major": 2,
              "version_minor": 0,
              "model_id": "045185c67cf1498e9de813a85266d68d"
            }
          },
          "metadata": {}
        },
        {
          "output_type": "display_data",
          "data": {
            "text/plain": [
              "Downloading (…)/main/tokenizer.json:   0%|          | 0.00/466k [00:00<?, ?B/s]"
            ],
            "application/vnd.jupyter.widget-view+json": {
              "version_major": 2,
              "version_minor": 0,
              "model_id": "32a52ad6ef4848ccbcff930642a466ec"
            }
          },
          "metadata": {}
        },
        {
          "output_type": "display_data",
          "data": {
            "text/plain": [
              "Downloading (…)lve/main/config.json:   0%|          | 0.00/570 [00:00<?, ?B/s]"
            ],
            "application/vnd.jupyter.widget-view+json": {
              "version_major": 2,
              "version_minor": 0,
              "model_id": "db19d04b481a48d498aed7fd7ab10bee"
            }
          },
          "metadata": {}
        }
      ],
      "source": [
        "tokenizerFast = BertTokenizerFast.from_pretrained(MODEL_PATH)\n",
        "\n",
        "train_encodings_fast = tokenizerFast(train_questions, train_contexts,  max_length = MAX_LENGTH, truncation=True, padding=True)\n",
        "valid_encodings_fast = tokenizerFast(valid_questions,valid_contexts,  max_length = MAX_LENGTH, truncation=True, padding=True)\n"
      ]
    },
    {
      "cell_type": "code",
      "execution_count": null,
      "id": "54d8701e",
      "metadata": {
        "execution": {
          "iopub.execute_input": "2022-09-13T17:52:14.669804Z",
          "iopub.status.busy": "2022-09-13T17:52:14.669454Z",
          "iopub.status.idle": "2022-09-13T17:52:14.675580Z",
          "shell.execute_reply": "2022-09-13T17:52:14.674675Z"
        },
        "id": "54d8701e",
        "outputId": "56f02a24-d315-40f3-af6b-6a22f546c0b6",
        "papermill": {
          "duration": 0.02699,
          "end_time": "2022-09-13T17:52:14.677566",
          "exception": false,
          "start_time": "2022-09-13T17:52:14.650576",
          "status": "completed"
        },
        "tags": [],
        "colab": {
          "base_uri": "https://localhost:8080/"
        }
      },
      "outputs": [
        {
          "output_type": "execute_result",
          "data": {
            "text/plain": [
              "transformers.tokenization_utils_base.BatchEncoding"
            ]
          },
          "metadata": {},
          "execution_count": 47
        }
      ],
      "source": [
        "type(train_encodings_fast)"
      ]
    },
    {
      "cell_type": "code",
      "execution_count": null,
      "id": "4a67211d",
      "metadata": {
        "execution": {
          "iopub.execute_input": "2022-09-13T17:52:14.713367Z",
          "iopub.status.busy": "2022-09-13T17:52:14.713086Z",
          "iopub.status.idle": "2022-09-13T17:52:14.718521Z",
          "shell.execute_reply": "2022-09-13T17:52:14.717587Z"
        },
        "id": "4a67211d",
        "outputId": "f6ec594a-9e7c-4fb3-a457-0d62b0264ad7",
        "papermill": {
          "duration": 0.026024,
          "end_time": "2022-09-13T17:52:14.721131",
          "exception": false,
          "start_time": "2022-09-13T17:52:14.695107",
          "status": "completed"
        },
        "tags": [],
        "colab": {
          "base_uri": "https://localhost:8080/"
        }
      },
      "outputs": [
        {
          "output_type": "stream",
          "name": "stdout",
          "text": [
            "dict_keys(['input_ids', 'token_type_ids', 'attention_mask'])\n",
            "dict_keys(['input_ids', 'token_type_ids', 'attention_mask'])\n",
            "86821\n",
            "250\n"
          ]
        }
      ],
      "source": [
        "\n",
        "print(train_encodings_fast.keys())\n",
        "print(valid_encodings_fast.keys())\n",
        "print(len(train_encodings_fast['input_ids']))\n",
        "print(len(train_encodings_fast['input_ids'][0]))"
      ]
    },
    {
      "cell_type": "code",
      "execution_count": null,
      "id": "fcb34994",
      "metadata": {
        "execution": {
          "iopub.execute_input": "2022-09-13T17:52:14.757230Z",
          "iopub.status.busy": "2022-09-13T17:52:14.756421Z",
          "iopub.status.idle": "2022-09-13T17:52:14.762511Z",
          "shell.execute_reply": "2022-09-13T17:52:14.761180Z"
        },
        "id": "fcb34994",
        "outputId": "e92b6dc8-ec6d-4728-dae9-39c22c1f87af",
        "papermill": {
          "duration": 0.026212,
          "end_time": "2022-09-13T17:52:14.764426",
          "exception": false,
          "start_time": "2022-09-13T17:52:14.738214",
          "status": "completed"
        },
        "tags": [],
        "colab": {
          "base_uri": "https://localhost:8080/"
        }
      },
      "outputs": [
        {
          "output_type": "stream",
          "name": "stdout",
          "text": [
            "[101, 2043, 2106, 20773, 2707, 3352, 2759, 1029, 102, 20773, 21025, 19358, 22815, 1011, 5708, 1006, 1013, 12170, 23432, 29715, 3501, 29678, 12325, 29685, 1013, 10506, 1011, 10930, 2078, 1011, 2360, 1007, 1006, 2141, 2244, 1018, 1010, 3261, 1007, 2003, 2019, 2137, 3220, 1010, 6009, 1010, 2501, 3135, 1998, 3883, 1012, 2141, 1998, 2992, 1999, 5395, 1010, 3146, 1010, 2016, 2864, 1999, 2536, 4823, 1998, 5613, 6479, 2004, 1037, 2775, 1010, 1998, 3123, 2000, 4476, 1999, 1996, 2397, 4134, 2004, 2599, 3220, 1997, 1054, 1004, 1038, 2611, 1011, 2177, 10461, 1005, 1055, 2775, 1012, 3266, 2011, 2014, 2269, 1010, 25436, 22815, 1010, 1996, 2177, 2150, 2028, 1997, 1996, 2088, 1005, 1055, 2190, 1011, 4855, 2611, 2967, 1997, 2035, 2051, 1012, 2037, 14221, 2387, 1996, 2713, 1997, 20773, 1005, 1055, 2834, 2201, 1010, 20754, 1999, 2293, 1006, 2494, 1007, 1010, 2029, 2511, 2014, 2004, 1037, 3948, 3063, 4969, 1010, 3687, 2274, 8922, 2982, 1998, 2956, 1996, 4908, 2980, 2531, 2193, 1011, 2028, 3895, 1000, 4689, 1999, 2293, 1000, 1998, 1000, 3336, 2879, 1000, 1012, 102, 0, 0, 0, 0, 0, 0, 0, 0, 0, 0, 0, 0, 0, 0, 0, 0, 0, 0, 0, 0, 0, 0, 0, 0, 0, 0, 0, 0, 0, 0, 0, 0, 0, 0, 0, 0, 0, 0, 0, 0, 0, 0, 0, 0, 0, 0, 0, 0, 0, 0, 0, 0, 0, 0, 0, 0, 0, 0, 0, 0, 0, 0, 0, 0, 0, 0, 0, 0, 0, 0, 0, 0, 0, 0, 0, 0]\n"
          ]
        }
      ],
      "source": [
        "print(train_encodings_fast['input_ids'][0])"
      ]
    },
    {
      "cell_type": "code",
      "execution_count": null,
      "id": "f98223fd",
      "metadata": {
        "execution": {
          "iopub.execute_input": "2022-09-13T17:52:14.801751Z",
          "iopub.status.busy": "2022-09-13T17:52:14.800003Z",
          "iopub.status.idle": "2022-09-13T17:52:14.806932Z",
          "shell.execute_reply": "2022-09-13T17:52:14.806011Z"
        },
        "id": "f98223fd",
        "outputId": "6b0fd604-c544-4cc6-f76d-20222bc0c68c",
        "papermill": {
          "duration": 0.027413,
          "end_time": "2022-09-13T17:52:14.809038",
          "exception": false,
          "start_time": "2022-09-13T17:52:14.781625",
          "status": "completed"
        },
        "tags": [],
        "colab": {
          "base_uri": "https://localhost:8080/"
        }
      },
      "outputs": [
        {
          "output_type": "execute_result",
          "data": {
            "text/plain": [
              "dict_keys(['text', 'answer_start', 'answer_end'])"
            ]
          },
          "metadata": {},
          "execution_count": 50
        }
      ],
      "source": [
        "type(train_answers[0]['text'])\n",
        "train_answers[0].keys()"
      ]
    },
    {
      "cell_type": "code",
      "execution_count": null,
      "id": "f745e989",
      "metadata": {
        "execution": {
          "iopub.execute_input": "2022-09-13T17:52:14.845046Z",
          "iopub.status.busy": "2022-09-13T17:52:14.844197Z",
          "iopub.status.idle": "2022-09-13T17:52:14.848540Z",
          "shell.execute_reply": "2022-09-13T17:52:14.847678Z"
        },
        "id": "f745e989",
        "papermill": {
          "duration": 0.024296,
          "end_time": "2022-09-13T17:52:14.850502",
          "exception": false,
          "start_time": "2022-09-13T17:52:14.826206",
          "status": "completed"
        },
        "tags": []
      },
      "outputs": [],
      "source": [
        "#train_answer_encodings_fast = tokenizerFast(train_answers[0]['text'],  max_length = MAX_LENGTH, truncation=True, padding=True)\n"
      ]
    },
    {
      "cell_type": "code",
      "execution_count": null,
      "id": "a3822e6e",
      "metadata": {
        "execution": {
          "iopub.execute_input": "2022-09-13T17:52:14.886970Z",
          "iopub.status.busy": "2022-09-13T17:52:14.886318Z",
          "iopub.status.idle": "2022-09-13T17:52:14.893310Z",
          "shell.execute_reply": "2022-09-13T17:52:14.892460Z"
        },
        "id": "a3822e6e",
        "papermill": {
          "duration": 0.027238,
          "end_time": "2022-09-13T17:52:14.895262",
          "exception": false,
          "start_time": "2022-09-13T17:52:14.868024",
          "status": "completed"
        },
        "tags": []
      },
      "outputs": [],
      "source": [
        "def ret_Answer_start_and_end_train(idx):\n",
        "    ret_start = 0\n",
        "    ret_end = 0\n",
        "    answer_encoding_fast = tokenizerFast(train_answers[idx]['text'],  max_length = MAX_LENGTH, truncation=True, padding=True)\n",
        "    for a in range( len(train_encodings_fast['input_ids'][idx]) -  len(answer_encoding_fast['input_ids']) ): #len(train_encodings_fast['input_ids'][0])):\n",
        "        match = True\n",
        "        for i in range(1,len(answer_encoding_fast['input_ids']) - 1):\n",
        "            \n",
        "            if (answer_encoding_fast['input_ids'][i] != train_encodings_fast['input_ids'][idx][a + i]):\n",
        "                match = False\n",
        "                break\n",
        "        if match:\n",
        "            ret_start = a+1\n",
        "            ret_end = a+i+1\n",
        "            break\n",
        "    return(ret_start, ret_end)\n"
      ]
    },
    {
      "cell_type": "code",
      "execution_count": null,
      "id": "4d69aa6e",
      "metadata": {
        "execution": {
          "iopub.execute_input": "2022-09-13T17:52:14.932007Z",
          "iopub.status.busy": "2022-09-13T17:52:14.931692Z",
          "iopub.status.idle": "2022-09-13T17:52:16.711234Z",
          "shell.execute_reply": "2022-09-13T17:52:16.708935Z"
        },
        "id": "4d69aa6e",
        "outputId": "3e910c53-8215-487a-ad27-be1324b3aed2",
        "papermill": {
          "duration": 1.80043,
          "end_time": "2022-09-13T17:52:16.713579",
          "exception": false,
          "start_time": "2022-09-13T17:52:14.913149",
          "status": "completed"
        },
        "tags": [],
        "colab": {
          "base_uri": "https://localhost:8080/"
        }
      },
      "outputs": [
        {
          "output_type": "stream",
          "name": "stdout",
          "text": [
            "0 0\n",
            "\n",
            "split with luckett and rober\n",
            "[CLS] what event caused beyonce's depression? [SEP] letoya luckett and roberson became unhappy with mathew's managing of the band and eventually were replaced by farrah franklin and michelle williams. beyonce experienced depression following the split with luckett and roberson after being publicly blamed by the media, critics, and blogs for its cause. her long - standing boyfriend left her at this time. the depression was so severe it lasted for a couple of years, during which she occasionally kept herself in her bedroom for days and refused to eat anything. beyonce stated that she struggled to speak about her depression because destiny's child had just won their first grammy award and she feared no one would take her seriously. beyonce would later speak of her mother as the person who helped her fight it. franklin was dismissed, leaving just beyonce, rowland, and williams. [SEP] [PAD] [PAD] [PAD] [PAD] [PAD] [PAD] [PAD] [PAD] [PAD] [PAD] [PAD] [PAD] [PAD] [PAD] [PAD] [PAD] [PAD] [PAD] [PAD] [PAD] [PAD] [PAD] [PAD] [PAD] [PAD] [PAD] [PAD] [PAD] [PAD] [PAD] [PAD] [PAD] [PAD] [PAD] [PAD] [PAD] [PAD] [PAD] [PAD] [PAD] [PAD] [PAD] [PAD] [PAD] [PAD] [PAD] [PAD] [PAD] [PAD] [PAD] [PAD] [PAD] [PAD] [PAD] [PAD] [PAD] [PAD] [PAD] [PAD] [PAD] [PAD] [PAD] [PAD] [PAD] [PAD] [PAD] [PAD] [PAD] [PAD] [PAD] [PAD] [PAD] [PAD] [PAD] [PAD] [PAD] [PAD] [PAD] [PAD] [PAD]\n"
          ]
        }
      ],
      "source": [
        "test_rec=92\n",
        "\n",
        "z,x = ret_Answer_start_and_end_train(test_rec)\n",
        "print(z, x)\n",
        "\n",
        "predict_answer_tokens = train_encodings_fast.input_ids[test_rec][z : x]\n",
        "print(tokenizerFast.decode(predict_answer_tokens))\n",
        "print(train_answers[test_rec]['text'])\n",
        "print(tokenizerFast.decode(train_encodings_fast['input_ids'][test_rec]))"
      ]
    },
    {
      "cell_type": "code",
      "execution_count": null,
      "id": "41fe18e3",
      "metadata": {
        "execution": {
          "iopub.execute_input": "2022-09-13T17:52:16.751030Z",
          "iopub.status.busy": "2022-09-13T17:52:16.750385Z",
          "iopub.status.idle": "2022-09-13T17:52:16.756301Z",
          "shell.execute_reply": "2022-09-13T17:52:16.755202Z"
        },
        "id": "41fe18e3",
        "outputId": "7873f7c4-8243-4d9c-ac9b-da6aa5b1100d",
        "papermill": {
          "duration": 0.028507,
          "end_time": "2022-09-13T17:52:16.760262",
          "exception": false,
          "start_time": "2022-09-13T17:52:16.731755",
          "status": "completed"
        },
        "tags": [],
        "colab": {
          "base_uri": "https://localhost:8080/"
        }
      },
      "outputs": [
        {
          "output_type": "stream",
          "name": "stdout",
          "text": [
            "dict_keys(['input_ids', 'token_type_ids', 'attention_mask'])\n",
            "dict_keys(['input_ids', 'token_type_ids', 'attention_mask'])\n",
            "86821\n"
          ]
        }
      ],
      "source": [
        "print(train_encodings_fast.keys())\n",
        "print(valid_encodings_fast.keys())\n",
        "print(len(train_encodings_fast['input_ids']))"
      ]
    },
    {
      "cell_type": "code",
      "execution_count": null,
      "id": "49af14ce",
      "metadata": {
        "execution": {
          "iopub.execute_input": "2022-09-13T17:52:16.797225Z",
          "iopub.status.busy": "2022-09-13T17:52:16.796725Z",
          "iopub.status.idle": "2022-09-13T17:52:37.931234Z",
          "shell.execute_reply": "2022-09-13T17:52:37.930224Z"
        },
        "id": "49af14ce",
        "outputId": "75ee50d5-8207-4860-b103-767aea48ae29",
        "papermill": {
          "duration": 21.156085,
          "end_time": "2022-09-13T17:52:37.934572",
          "exception": false,
          "start_time": "2022-09-13T17:52:16.778487",
          "status": "completed"
        },
        "tags": [],
        "colab": {
          "base_uri": "https://localhost:8080/"
        }
      },
      "outputs": [
        {
          "output_type": "stream",
          "name": "stdout",
          "text": [
            "1190\n"
          ]
        }
      ],
      "source": [
        "start_positions = []\n",
        "end_positions = []\n",
        "ctr = 0\n",
        "for h in range(len(train_encodings_fast['input_ids'])):\n",
        "    #print(h)\n",
        "    s, e = ret_Answer_start_and_end_train(h)\n",
        "    start_positions.append(s)\n",
        "    end_positions.append(e)\n",
        "    if s==0:\n",
        "        ctr = ctr + 1\n",
        "\n",
        "    \n",
        "train_encodings_fast.update({'start_positions': start_positions, 'end_positions': end_positions})\n",
        "print(ctr)"
      ]
    },
    {
      "cell_type": "code",
      "execution_count": null,
      "id": "dbeb96c0",
      "metadata": {
        "execution": {
          "iopub.execute_input": "2022-09-13T17:52:37.972041Z",
          "iopub.status.busy": "2022-09-13T17:52:37.971730Z",
          "iopub.status.idle": "2022-09-13T17:52:37.977273Z",
          "shell.execute_reply": "2022-09-13T17:52:37.976229Z"
        },
        "id": "dbeb96c0",
        "outputId": "7411cbbf-83f7-44f0-fa59-bad96821f997",
        "papermill": {
          "duration": 0.02805,
          "end_time": "2022-09-13T17:52:37.981228",
          "exception": false,
          "start_time": "2022-09-13T17:52:37.953178",
          "status": "completed"
        },
        "tags": [],
        "colab": {
          "base_uri": "https://localhost:8080/"
        }
      },
      "outputs": [
        {
          "output_type": "stream",
          "name": "stdout",
          "text": [
            "dict_keys(['input_ids', 'token_type_ids', 'attention_mask', 'start_positions', 'end_positions'])\n",
            "dict_keys(['input_ids', 'token_type_ids', 'attention_mask'])\n",
            "86821\n"
          ]
        }
      ],
      "source": [
        "print(train_encodings_fast.keys())\n",
        "print(valid_encodings_fast.keys())\n",
        "print(len(train_encodings_fast['input_ids']))"
      ]
    },
    {
      "cell_type": "code",
      "execution_count": null,
      "id": "de1f63d3",
      "metadata": {
        "execution": {
          "iopub.execute_input": "2022-09-13T17:52:38.020115Z",
          "iopub.status.busy": "2022-09-13T17:52:38.019314Z",
          "iopub.status.idle": "2022-09-13T17:52:38.027923Z",
          "shell.execute_reply": "2022-09-13T17:52:38.026548Z"
        },
        "id": "de1f63d3",
        "outputId": "cc21d931-af64-42d3-8bf3-49a54c6db7b7",
        "papermill": {
          "duration": 0.029748,
          "end_time": "2022-09-13T17:52:38.030037",
          "exception": false,
          "start_time": "2022-09-13T17:52:38.000289",
          "status": "completed"
        },
        "tags": [],
        "colab": {
          "base_uri": "https://localhost:8080/"
        }
      },
      "outputs": [
        {
          "output_type": "stream",
          "name": "stdout",
          "text": [
            "68\n",
            "71\n",
            "singing and dancing\n",
            "singing and dancing\n",
            "[CLS] what areas did beyonce compete in when she was growing up? [SEP] beyonce giselle knowles - carter ( / biːˈjɒnseɪ / bee - yon - say ) ( born september 4, 1981 ) is an american singer, songwriter, record producer and actress. born and raised in houston, texas, she performed in various singing and dancing competitions as a child, and rose to fame in the late 1990s as lead singer of r & b girl - group destiny's child. managed by her father, mathew knowles, the group became one of the world's best - selling girl groups of all time. their hiatus saw the release of beyonce's debut album, dangerously in love ( 2003 ), which established her as a solo artist worldwide, earned five grammy awards and featured the billboard hot 100 number - one singles \" crazy in love \" and \" baby boy \". [SEP] [PAD] [PAD] [PAD] [PAD] [PAD] [PAD] [PAD] [PAD] [PAD] [PAD] [PAD] [PAD] [PAD] [PAD] [PAD] [PAD] [PAD] [PAD] [PAD] [PAD] [PAD] [PAD] [PAD] [PAD] [PAD] [PAD] [PAD] [PAD] [PAD] [PAD] [PAD] [PAD] [PAD] [PAD] [PAD] [PAD] [PAD] [PAD] [PAD] [PAD] [PAD] [PAD] [PAD] [PAD] [PAD] [PAD] [PAD] [PAD] [PAD] [PAD] [PAD] [PAD] [PAD] [PAD] [PAD] [PAD] [PAD] [PAD] [PAD] [PAD] [PAD] [PAD] [PAD] [PAD] [PAD] [PAD] [PAD] [PAD] [PAD] [PAD] [PAD]\n"
          ]
        }
      ],
      "source": [
        "test_rec = 1\n",
        "print(train_encodings_fast['start_positions'][test_rec])\n",
        "print(train_encodings_fast['end_positions'][test_rec])\n",
        "predict_answer_tokens = train_encodings_fast.input_ids[test_rec][train_encodings_fast['start_positions'][test_rec] : train_encodings_fast['end_positions'][test_rec]]\n",
        "print(tokenizerFast.decode(predict_answer_tokens))\n",
        "print(train_answers[test_rec]['text'])\n",
        "print(tokenizerFast.decode(train_encodings_fast['input_ids'][test_rec]))"
      ]
    },
    {
      "cell_type": "code",
      "execution_count": null,
      "id": "055b95bd",
      "metadata": {
        "execution": {
          "iopub.execute_input": "2022-09-13T17:52:38.066298Z",
          "iopub.status.busy": "2022-09-13T17:52:38.066030Z",
          "iopub.status.idle": "2022-09-13T17:52:38.072738Z",
          "shell.execute_reply": "2022-09-13T17:52:38.071704Z"
        },
        "id": "055b95bd",
        "papermill": {
          "duration": 0.026951,
          "end_time": "2022-09-13T17:52:38.074706",
          "exception": false,
          "start_time": "2022-09-13T17:52:38.047755",
          "status": "completed"
        },
        "tags": []
      },
      "outputs": [],
      "source": [
        "def ret_Answer_start_and_end_valid(idx):\n",
        "    ret_start = 0\n",
        "    ret_end = 0\n",
        "    answer_encoding_fast = tokenizerFast(valid_answers[idx]['text'],  max_length = MAX_LENGTH, truncation=True, padding=True)\n",
        "    for a in range( len(valid_encodings_fast['input_ids'][idx])  -  len(answer_encoding_fast['input_ids'])   ): #len(train_encodings_fast['input_ids'][0])):\n",
        "        match = True\n",
        "        for i in range(1,len(answer_encoding_fast['input_ids']) - 1):\n",
        "            if (answer_encoding_fast['input_ids'][i] != valid_encodings_fast['input_ids'][idx][a + i]):\n",
        "                match = False\n",
        "                break\n",
        "        if match:\n",
        "            ret_start = a+1\n",
        "            ret_end = a+i+1\n",
        "            break\n",
        "    return(ret_start, ret_end)"
      ]
    },
    {
      "cell_type": "code",
      "execution_count": null,
      "id": "52fc3dd4",
      "metadata": {
        "execution": {
          "iopub.execute_input": "2022-09-13T17:52:38.111161Z",
          "iopub.status.busy": "2022-09-13T17:52:38.110405Z",
          "iopub.status.idle": "2022-09-13T17:52:43.105974Z",
          "shell.execute_reply": "2022-09-13T17:52:43.104266Z"
        },
        "id": "52fc3dd4",
        "outputId": "946abb27-c957-4627-d31e-0e1eb0a24212",
        "papermill": {
          "duration": 5.017022,
          "end_time": "2022-09-13T17:52:43.109091",
          "exception": false,
          "start_time": "2022-09-13T17:52:38.092069",
          "status": "completed"
        },
        "tags": [],
        "colab": {
          "base_uri": "https://localhost:8080/"
        }
      },
      "outputs": [
        {
          "output_type": "stream",
          "name": "stdout",
          "text": [
            "393\n"
          ]
        }
      ],
      "source": [
        "start_positions = []\n",
        "end_positions = []\n",
        "ctr = 0\n",
        "for h in range(len(valid_encodings_fast['input_ids']) ):\n",
        "    #print(h)\n",
        "    s, e = ret_Answer_start_and_end_valid(h)\n",
        "    start_positions.append(s)\n",
        "    end_positions.append(e)\n",
        "    if s==0:\n",
        "        ctr = ctr + 1\n",
        "\n",
        "    \n",
        "valid_encodings_fast.update({'start_positions': start_positions, 'end_positions': end_positions})\n",
        "print(ctr)"
      ]
    },
    {
      "cell_type": "code",
      "execution_count": null,
      "id": "63500a13",
      "metadata": {
        "execution": {
          "iopub.execute_input": "2022-09-13T17:52:43.148681Z",
          "iopub.status.busy": "2022-09-13T17:52:43.148385Z",
          "iopub.status.idle": "2022-09-13T17:52:43.157142Z",
          "shell.execute_reply": "2022-09-13T17:52:43.155560Z"
        },
        "id": "63500a13",
        "outputId": "f046822a-ac66-4b51-85d8-c9f518b3aabf",
        "papermill": {
          "duration": 0.032138,
          "end_time": "2022-09-13T17:52:43.160595",
          "exception": false,
          "start_time": "2022-09-13T17:52:43.128457",
          "status": "completed"
        },
        "tags": [],
        "colab": {
          "base_uri": "https://localhost:8080/"
        }
      },
      "outputs": [
        {
          "output_type": "stream",
          "name": "stdout",
          "text": [
            "france\n",
            "france\n",
            "[CLS] in what country is normandy located? [SEP] the normans ( norman : nourmands ; french : normands ; latin : normanni ) were the people who in the 10th and 11th centuries gave their name to normandy, a region in france. they were descended from norse ( \" norman \" comes from \" norseman \" ) raiders and pirates from denmark, iceland and norway who, under their leader rollo, agreed to swear fealty to king charles iii of west francia. through generations of assimilation and mixing with the native frankish and roman - gaulish populations, their descendants would gradually merge with the carolingian - based cultures of west francia. the distinct cultural and ethnic identity of the normans emerged initially in the first half of the 10th century, and it continued to evolve over the succeeding centuries. [SEP] [PAD] [PAD] [PAD] [PAD] [PAD] [PAD] [PAD] [PAD] [PAD] [PAD] [PAD] [PAD] [PAD] [PAD] [PAD] [PAD] [PAD] [PAD] [PAD] [PAD] [PAD] [PAD] [PAD] [PAD] [PAD] [PAD] [PAD] [PAD] [PAD] [PAD] [PAD] [PAD] [PAD] [PAD] [PAD] [PAD] [PAD] [PAD] [PAD] [PAD] [PAD] [PAD] [PAD] [PAD] [PAD] [PAD] [PAD] [PAD] [PAD] [PAD] [PAD] [PAD] [PAD] [PAD] [PAD] [PAD] [PAD] [PAD] [PAD] [PAD] [PAD] [PAD] [PAD] [PAD] [PAD] [PAD] [PAD] [PAD] [PAD] [PAD] [PAD] [PAD] [PAD] [PAD] [PAD] [PAD] [PAD] [PAD] [PAD] [PAD] [PAD] [PAD] [PAD] [PAD]\n"
          ]
        }
      ],
      "source": [
        "test_rec=2\n",
        "\n",
        "z,x = ret_Answer_start_and_end_valid(test_rec)\n",
        "\n",
        "predict_answer_tokens = valid_encodings_fast.input_ids[test_rec][z : x]\n",
        "print(tokenizerFast.decode(predict_answer_tokens))\n",
        "print(valid_answers[test_rec]['text'])\n",
        "print(tokenizerFast.decode(valid_encodings_fast['input_ids'][test_rec]))"
      ]
    },
    {
      "cell_type": "code",
      "execution_count": null,
      "id": "ba282814",
      "metadata": {
        "execution": {
          "iopub.execute_input": "2022-09-13T17:52:43.197815Z",
          "iopub.status.busy": "2022-09-13T17:52:43.196770Z",
          "iopub.status.idle": "2022-09-13T17:52:43.204025Z",
          "shell.execute_reply": "2022-09-13T17:52:43.202984Z"
        },
        "id": "ba282814",
        "outputId": "80b88418-c66f-45f3-b452-164be7d976f5",
        "papermill": {
          "duration": 0.028306,
          "end_time": "2022-09-13T17:52:43.206662",
          "exception": false,
          "start_time": "2022-09-13T17:52:43.178356",
          "status": "completed"
        },
        "tags": [],
        "colab": {
          "base_uri": "https://localhost:8080/"
        }
      },
      "outputs": [
        {
          "output_type": "stream",
          "name": "stdout",
          "text": [
            "dict_keys(['input_ids', 'token_type_ids', 'attention_mask', 'start_positions', 'end_positions'])\n",
            "dict_keys(['input_ids', 'token_type_ids', 'attention_mask', 'start_positions', 'end_positions'])\n",
            "86821\n",
            "86821\n",
            "86821\n",
            "20302\n",
            "20302\n",
            "20302\n"
          ]
        }
      ],
      "source": [
        "print(train_encodings_fast.keys())\n",
        "print(valid_encodings_fast.keys())\n",
        "print(len(train_encodings_fast['input_ids']))\n",
        "print(len(train_encodings_fast['start_positions']))\n",
        "print(len(train_encodings_fast['end_positions']))\n",
        "print(len(valid_encodings_fast['input_ids']))\n",
        "print(len(valid_encodings_fast['start_positions']))\n",
        "print(len(valid_encodings_fast['end_positions']))"
      ]
    },
    {
      "cell_type": "code",
      "execution_count": null,
      "id": "22826cc2",
      "metadata": {
        "execution": {
          "iopub.execute_input": "2022-09-13T17:52:43.244119Z",
          "iopub.status.busy": "2022-09-13T17:52:43.243564Z",
          "iopub.status.idle": "2022-09-13T17:52:43.248086Z",
          "shell.execute_reply": "2022-09-13T17:52:43.247228Z"
        },
        "id": "22826cc2",
        "papermill": {
          "duration": 0.024757,
          "end_time": "2022-09-13T17:52:43.249892",
          "exception": false,
          "start_time": "2022-09-13T17:52:43.225135",
          "status": "completed"
        },
        "tags": []
      },
      "outputs": [],
      "source": [
        "#tokenizerFast.decode(train_encodings_fast['input_ids'][0])"
      ]
    },
    {
      "cell_type": "code",
      "execution_count": null,
      "id": "391395d2",
      "metadata": {
        "execution": {
          "iopub.execute_input": "2022-09-13T17:52:43.287084Z",
          "iopub.status.busy": "2022-09-13T17:52:43.286314Z",
          "iopub.status.idle": "2022-09-13T17:52:43.293808Z",
          "shell.execute_reply": "2022-09-13T17:52:43.292830Z"
        },
        "id": "391395d2",
        "outputId": "0840b8d3-8290-4cea-dac7-9742072ad0ba",
        "papermill": {
          "duration": 0.027906,
          "end_time": "2022-09-13T17:52:43.295758",
          "exception": false,
          "start_time": "2022-09-13T17:52:43.267852",
          "status": "completed"
        },
        "tags": [],
        "colab": {
          "base_uri": "https://localhost:8080/",
          "height": 191
        }
      },
      "outputs": [
        {
          "output_type": "execute_result",
          "data": {
            "text/plain": [
              "'[CLS] when did beyonce start becoming popular? [SEP] beyonce giselle knowles - carter ( / biːˈjɒnseɪ / bee - yon - say ) ( born september 4, 1981 ) is an american singer, songwriter, record producer and actress. born and raised in houston, texas, she performed in various singing and dancing competitions as a child, and rose to fame in the late 1990s as lead singer of r & b girl - group destiny\\'s child. managed by her father, mathew knowles, the group became one of the world\\'s best - selling girl groups of all time. their hiatus saw the release of beyonce\\'s debut album, dangerously in love ( 2003 ), which established her as a solo artist worldwide, earned five grammy awards and featured the billboard hot 100 number - one singles \" crazy in love \" and \" baby boy \". [SEP] [PAD] [PAD] [PAD] [PAD] [PAD] [PAD] [PAD] [PAD] [PAD] [PAD] [PAD] [PAD] [PAD] [PAD] [PAD] [PAD] [PAD] [PAD] [PAD] [PAD] [PAD] [PAD] [PAD] [PAD] [PAD] [PAD] [PAD] [PAD] [PAD] [PAD] [PAD] [PAD] [PAD] [PAD] [PAD] [PAD] [PAD] [PAD] [PAD] [PAD] [PAD] [PAD] [PAD] [PAD] [PAD] [PAD] [PAD] [PAD] [PAD] [PAD] [PAD] [PAD] [PAD] [PAD] [PAD] [PAD] [PAD] [PAD] [PAD] [PAD] [PAD] [PAD] [PAD] [PAD] [PAD] [PAD] [PAD] [PAD] [PAD] [PAD] [PAD] [PAD] [PAD] [PAD] [PAD] [PAD]'"
            ],
            "application/vnd.google.colaboratory.intrinsic+json": {
              "type": "string"
            }
          },
          "metadata": {},
          "execution_count": 63
        }
      ],
      "source": [
        "tokenizerFast.decode(train_encodings_fast['input_ids'][0])"
      ]
    },
    {
      "cell_type": "code",
      "execution_count": null,
      "id": "4224a1b0",
      "metadata": {
        "execution": {
          "iopub.execute_input": "2022-09-13T17:52:43.333031Z",
          "iopub.status.busy": "2022-09-13T17:52:43.332259Z",
          "iopub.status.idle": "2022-09-13T17:52:43.337883Z",
          "shell.execute_reply": "2022-09-13T17:52:43.336800Z"
        },
        "id": "4224a1b0",
        "outputId": "8bdd0bf8-9b78-45b5-95fa-3a09b3ce0bc8",
        "papermill": {
          "duration": 0.026504,
          "end_time": "2022-09-13T17:52:43.340181",
          "exception": false,
          "start_time": "2022-09-13T17:52:43.313677",
          "status": "completed"
        },
        "tags": [],
        "colab": {
          "base_uri": "https://localhost:8080/"
        }
      },
      "outputs": [
        {
          "output_type": "stream",
          "name": "stdout",
          "text": [
            "in the late 1990s\n"
          ]
        }
      ],
      "source": [
        "test_row= 0\n",
        "print(train_contexts[test_row][train_answers[test_row]['answer_start']:train_answers[test_row]['answer_end']])"
      ]
    },
    {
      "cell_type": "code",
      "execution_count": null,
      "id": "2b8bde7e",
      "metadata": {
        "execution": {
          "iopub.execute_input": "2022-09-13T17:52:43.377604Z",
          "iopub.status.busy": "2022-09-13T17:52:43.376698Z",
          "iopub.status.idle": "2022-09-13T17:52:43.383675Z",
          "shell.execute_reply": "2022-09-13T17:52:43.382671Z"
        },
        "id": "2b8bde7e",
        "outputId": "a299827e-baf1-4b59-a503-951505f2e5d2",
        "papermill": {
          "duration": 0.027471,
          "end_time": "2022-09-13T17:52:43.385759",
          "exception": false,
          "start_time": "2022-09-13T17:52:43.358288",
          "status": "completed"
        },
        "tags": [],
        "colab": {
          "base_uri": "https://localhost:8080/",
          "height": 35
        }
      },
      "outputs": [
        {
          "output_type": "execute_result",
          "data": {
            "text/plain": [
              "'in the late 1990s'"
            ],
            "application/vnd.google.colaboratory.intrinsic+json": {
              "type": "string"
            }
          },
          "metadata": {},
          "execution_count": 65
        }
      ],
      "source": [
        "\n",
        "answer_start_index = 75\n",
        "answer_end_index = 79\n",
        "\n",
        "predict_answer_tokens = train_encodings_fast.input_ids[0][answer_start_index : answer_end_index]\n",
        "tokenizerFast.decode(predict_answer_tokens)"
      ]
    },
    {
      "cell_type": "markdown",
      "id": "9f4b557b",
      "metadata": {
        "id": "9f4b557b"
      },
      "source": [
        "I am testing using a pretrained model"
      ]
    },
    {
      "cell_type": "code",
      "execution_count": null,
      "id": "653392be",
      "metadata": {
        "execution": {
          "iopub.execute_input": "2022-09-13T17:52:43.457298Z",
          "iopub.status.busy": "2022-09-13T17:52:43.457043Z",
          "iopub.status.idle": "2022-09-13T17:52:43.461025Z",
          "shell.execute_reply": "2022-09-13T17:52:43.460013Z"
        },
        "id": "653392be",
        "papermill": {
          "duration": 0.024709,
          "end_time": "2022-09-13T17:52:43.463350",
          "exception": false,
          "start_time": "2022-09-13T17:52:43.438641",
          "status": "completed"
        },
        "tags": [],
        "colab": {
          "base_uri": "https://localhost:8080/",
          "height": 177,
          "referenced_widgets": [
            "e354ad429a6e4528ad95b3de737e509a",
            "2fbf24cb9b5c4248b3206c81d6413327",
            "d83907c0ae6844e28da986e93a0d8ab7",
            "47fe30af70c64d7187aa4093f2e657ed",
            "f5150b44a5524e74b957e276b67ca1a1",
            "2f9af685f5fe44598b7f8c56396072f4",
            "36276e82363f4873a788dc6ceab33e84",
            "deabb39808a24df9bfe70cc77642dc45",
            "e5f68fcbf93e4830b16b9a5f45e6f968",
            "c88615d315f844b59051f7cd546db455",
            "d53b536c657b472186bea74020ba8df6",
            "9c39372b6f3a4552b6607da5e46884c4",
            "93d86ec9b3a24d7ba5dd9e6788c07575",
            "1748bf6ffc0742409fdbf1f01e02ca70",
            "453bcbf76a524613ae0ae24395d480c9",
            "e988f1ef661c4032bda0ee4b4bb43859",
            "455a6d28d0b443e38e058268f0320675",
            "49839ab48a544f99a3bdd6135e319d93",
            "062afa029cb7452fa5807081e073e46d",
            "e2c0721cd5cc44c7a5a38e42b79b01dd",
            "3c5db1f1a4a649bb8fb1620ed9d737e5",
            "2049358396024966b48e8739e59dc305",
            "01973b62138c4fe9842a5e0e5d0d8fe8",
            "c45d73ff11cf4018af4f3547b306b64e",
            "da327270ebc7444582376658fc6f90e6",
            "1278f563923045d79a8794a391c2f84b",
            "2aff02c0c8764da5ab2ca379840d2edb",
            "85bd4cd1803b413f98856ceac8bda2a2",
            "079b2c406ee94a05995dadfaf791eb5c",
            "2300bd5d99cd4349887914b542d3c95e",
            "a45aea2418904315b71466a0fc9ac29a",
            "91fc24084a834f5e955b6ac54b0f2520",
            "6fa4e63fc7ed49a4997b85c9162bcf70",
            "58f77cc60e0d407bb77ac766686675bc",
            "834ef3be2aab42d8b44c4432d2a5c901",
            "aef387a7fee54764b5d446f47949d13b",
            "5a4dad0c1e1b474a96204033f8aa32e8",
            "71308d14c1a04f39be85f90522c9d870",
            "80332136b4ba4342a719073c1f8918e0",
            "981fa33c36b94589a378bfc4ccc9a821",
            "8bb33817c5614aa68bb60426858548ce",
            "07b1b1e7c4344ffd92e8a044c4e3f8b2",
            "901841dd647040da8e7d87bd45b88194",
            "e85b990933af46c4a71d558e85603254",
            "24abcd5c76324898a52e6c20e2d27108",
            "ebae19e704764f08b2a75d1229f44ac6",
            "323ff42c3d8a44f8aa7657411f061b47",
            "a1849767e2d74659a4e3f2e82bb134fd",
            "fa1f1ccb18df427aa60413334356d698",
            "cd99f234b24a4c7c91818f6c4eb59f52",
            "8a413613fe4d4cdeaf36c175eaae89b6",
            "4a1fa7b8a06b4c2881b11d4a83d718f6",
            "b52205df99e945f7a177ff70f4480a24",
            "89eba696ada04dc79a20ac80efcbf2d8",
            "83f9fd7ff0b14bb6a4e2b351f291385b"
          ]
        },
        "outputId": "a1dd40b3-1e58-42d5-8234-bb8f1dc98a2e"
      },
      "outputs": [
        {
          "output_type": "display_data",
          "data": {
            "text/plain": [
              "Downloading (…)solve/main/vocab.txt:   0%|          | 0.00/213k [00:00<?, ?B/s]"
            ],
            "application/vnd.jupyter.widget-view+json": {
              "version_major": 2,
              "version_minor": 0,
              "model_id": "e354ad429a6e4528ad95b3de737e509a"
            }
          },
          "metadata": {}
        },
        {
          "output_type": "display_data",
          "data": {
            "text/plain": [
              "Downloading (…)cial_tokens_map.json:   0%|          | 0.00/112 [00:00<?, ?B/s]"
            ],
            "application/vnd.jupyter.widget-view+json": {
              "version_major": 2,
              "version_minor": 0,
              "model_id": "9c39372b6f3a4552b6607da5e46884c4"
            }
          },
          "metadata": {}
        },
        {
          "output_type": "display_data",
          "data": {
            "text/plain": [
              "Downloading (…)okenizer_config.json:   0%|          | 0.00/152 [00:00<?, ?B/s]"
            ],
            "application/vnd.jupyter.widget-view+json": {
              "version_major": 2,
              "version_minor": 0,
              "model_id": "01973b62138c4fe9842a5e0e5d0d8fe8"
            }
          },
          "metadata": {}
        },
        {
          "output_type": "display_data",
          "data": {
            "text/plain": [
              "Downloading (…)lve/main/config.json:   0%|          | 0.00/508 [00:00<?, ?B/s]"
            ],
            "application/vnd.jupyter.widget-view+json": {
              "version_major": 2,
              "version_minor": 0,
              "model_id": "58f77cc60e0d407bb77ac766686675bc"
            }
          },
          "metadata": {}
        },
        {
          "output_type": "display_data",
          "data": {
            "text/plain": [
              "Downloading pytorch_model.bin:   0%|          | 0.00/433M [00:00<?, ?B/s]"
            ],
            "application/vnd.jupyter.widget-view+json": {
              "version_major": 2,
              "version_minor": 0,
              "model_id": "24abcd5c76324898a52e6c20e2d27108"
            }
          },
          "metadata": {}
        }
      ],
      "source": [
        "tokenizer2 = BertTokenizer.from_pretrained(\"deepset/bert-base-cased-squad2\")\n",
        "model2 = BertForQuestionAnswering.from_pretrained(\"deepset/bert-base-cased-squad2\")"
      ]
    },
    {
      "cell_type": "code",
      "execution_count": null,
      "id": "8aaf4564",
      "metadata": {
        "execution": {
          "iopub.execute_input": "2022-09-13T17:52:43.499938Z",
          "iopub.status.busy": "2022-09-13T17:52:43.499643Z",
          "iopub.status.idle": "2022-09-13T17:52:43.504244Z",
          "shell.execute_reply": "2022-09-13T17:52:43.502750Z"
        },
        "id": "8aaf4564",
        "papermill": {
          "duration": 0.025259,
          "end_time": "2022-09-13T17:52:43.506291",
          "exception": false,
          "start_time": "2022-09-13T17:52:43.481032",
          "status": "completed"
        },
        "tags": [],
        "colab": {
          "base_uri": "https://localhost:8080/"
        },
        "outputId": "10fff9c8-e41a-4674-fa4c-fdea4e36641a"
      },
      "outputs": [
        {
          "output_type": "stream",
          "name": "stdout",
          "text": [
            "when did beyonce start becoming popular?\n",
            "beyoncé giselle knowles-carter (/biːˈjɒnseɪ/ bee-yon-say) (born september 4, 1981) is an american singer, songwriter, record producer and actress. born and raised in houston, texas, she performed in various singing and dancing competitions as a child, and rose to fame in the late 1990s as lead singer of r&b girl-group destiny's child. managed by her father, mathew knowles, the group became one of the world's best-selling girl groups of all time. their hiatus saw the release of beyoncé's debut album, dangerously in love (2003), which established her as a solo artist worldwide, earned five grammy awards and featured the billboard hot 100 number-one singles \"crazy in love\" and \"baby boy\".\n"
          ]
        }
      ],
      "source": [
        "question= train_questions[0]\n",
        "text = train_contexts[0]\n",
        "\n",
        "print(question)\n",
        "print(text)\n"
      ]
    },
    {
      "cell_type": "code",
      "execution_count": null,
      "id": "def0e8f5",
      "metadata": {
        "execution": {
          "iopub.execute_input": "2022-09-13T17:52:43.542998Z",
          "iopub.status.busy": "2022-09-13T17:52:43.542689Z",
          "iopub.status.idle": "2022-09-13T17:52:43.546579Z",
          "shell.execute_reply": "2022-09-13T17:52:43.545564Z"
        },
        "id": "def0e8f5",
        "papermill": {
          "duration": 0.02452,
          "end_time": "2022-09-13T17:52:43.548889",
          "exception": false,
          "start_time": "2022-09-13T17:52:43.524369",
          "status": "completed"
        },
        "tags": []
      },
      "outputs": [],
      "source": [
        "inputs = tokenizer2(question, text, return_tensors=\"pt\")\n",
        "with torch.no_grad():\n",
        "   outputs = model2(**inputs)"
      ]
    },
    {
      "cell_type": "code",
      "execution_count": null,
      "id": "ae31ef47",
      "metadata": {
        "execution": {
          "iopub.execute_input": "2022-09-13T17:52:43.586077Z",
          "iopub.status.busy": "2022-09-13T17:52:43.585820Z",
          "iopub.status.idle": "2022-09-13T17:52:43.589670Z",
          "shell.execute_reply": "2022-09-13T17:52:43.588707Z"
        },
        "id": "ae31ef47",
        "papermill": {
          "duration": 0.024894,
          "end_time": "2022-09-13T17:52:43.591658",
          "exception": false,
          "start_time": "2022-09-13T17:52:43.566764",
          "status": "completed"
        },
        "tags": [],
        "colab": {
          "base_uri": "https://localhost:8080/"
        },
        "outputId": "98d861e3-6fb5-4ceb-bf37-f4919d2c66a6"
      },
      "outputs": [
        {
          "output_type": "stream",
          "name": "stdout",
          "text": [
            "tensor(86)\n",
            "tensor(87)\n"
          ]
        }
      ],
      "source": [
        "answer_start_index = outputs.start_logits.argmax()\n",
        "answer_end_index = outputs.end_logits.argmax()\n",
        "print(answer_start_index)\n",
        "print(answer_end_index)\n",
        "\n"
      ]
    },
    {
      "cell_type": "code",
      "execution_count": null,
      "id": "d0999f35",
      "metadata": {
        "execution": {
          "iopub.execute_input": "2022-09-13T17:52:43.629116Z",
          "iopub.status.busy": "2022-09-13T17:52:43.628358Z",
          "iopub.status.idle": "2022-09-13T17:52:43.632498Z",
          "shell.execute_reply": "2022-09-13T17:52:43.631659Z"
        },
        "id": "d0999f35",
        "papermill": {
          "duration": 0.025134,
          "end_time": "2022-09-13T17:52:43.634301",
          "exception": false,
          "start_time": "2022-09-13T17:52:43.609167",
          "status": "completed"
        },
        "tags": [],
        "colab": {
          "base_uri": "https://localhost:8080/",
          "height": 35
        },
        "outputId": "706de258-1217-4f63-c158-c7ee32e8dc44"
      },
      "outputs": [
        {
          "output_type": "execute_result",
          "data": {
            "text/plain": [
              "'late 1990s'"
            ],
            "application/vnd.google.colaboratory.intrinsic+json": {
              "type": "string"
            }
          },
          "metadata": {},
          "execution_count": 70
        }
      ],
      "source": [
        "predict_answer_tokens = inputs.input_ids[0, answer_start_index : answer_end_index + 1]\n",
        "tokenizer2.decode(predict_answer_tokens)"
      ]
    },
    {
      "cell_type": "code",
      "execution_count": null,
      "id": "9055a511",
      "metadata": {
        "execution": {
          "iopub.execute_input": "2022-09-13T17:52:43.708019Z",
          "iopub.status.busy": "2022-09-13T17:52:43.707213Z",
          "iopub.status.idle": "2022-09-13T17:52:43.715420Z",
          "shell.execute_reply": "2022-09-13T17:52:43.714595Z"
        },
        "id": "9055a511",
        "papermill": {
          "duration": 0.029545,
          "end_time": "2022-09-13T17:52:43.717406",
          "exception": false,
          "start_time": "2022-09-13T17:52:43.687861",
          "status": "completed"
        },
        "tags": []
      },
      "outputs": [],
      "source": [
        "class InputDataset(Dataset):\n",
        "    def __init__(self, encodings):\n",
        "        self.encodings = encodings\n",
        "    def __getitem__(self, i):\n",
        "        return {\n",
        "            'input_ids': torch.tensor(self.encodings['input_ids'][i]),\n",
        "            'token_type_ids': torch.tensor(self.encodings['token_type_ids'][i]),\n",
        "            'attention_mask': torch.tensor(self.encodings['attention_mask'][i]),\n",
        "            'start_positions': torch.tensor(self.encodings['start_positions'][i]),\n",
        "            'end_positions': torch.tensor(self.encodings['end_positions'][i])\n",
        "        }\n",
        "    def __len__(self):\n",
        "        return len(self.encodings['input_ids'])"
      ]
    },
    {
      "cell_type": "code",
      "execution_count": null,
      "id": "f2216bf8",
      "metadata": {
        "execution": {
          "iopub.execute_input": "2022-09-13T17:52:43.755255Z",
          "iopub.status.busy": "2022-09-13T17:52:43.753616Z",
          "iopub.status.idle": "2022-09-13T17:52:43.758542Z",
          "shell.execute_reply": "2022-09-13T17:52:43.757659Z"
        },
        "id": "f2216bf8",
        "papermill": {
          "duration": 0.025558,
          "end_time": "2022-09-13T17:52:43.760555",
          "exception": false,
          "start_time": "2022-09-13T17:52:43.734997",
          "status": "completed"
        },
        "tags": []
      },
      "outputs": [],
      "source": [
        "train_dataset = InputDataset(train_encodings_fast)\n",
        "valid_dataset = InputDataset(valid_encodings_fast)"
      ]
    },
    {
      "cell_type": "code",
      "execution_count": null,
      "id": "4ed206be",
      "metadata": {
        "execution": {
          "iopub.execute_input": "2022-09-13T17:52:43.798507Z",
          "iopub.status.busy": "2022-09-13T17:52:43.797755Z",
          "iopub.status.idle": "2022-09-13T17:52:43.803945Z",
          "shell.execute_reply": "2022-09-13T17:52:43.802916Z"
        },
        "id": "4ed206be",
        "outputId": "a319a297-e61f-44ce-8424-13c9dcea8aeb",
        "papermill": {
          "duration": 0.027381,
          "end_time": "2022-09-13T17:52:43.805954",
          "exception": false,
          "start_time": "2022-09-13T17:52:43.778573",
          "status": "completed"
        },
        "tags": [],
        "colab": {
          "base_uri": "https://localhost:8080/"
        }
      },
      "outputs": [
        {
          "output_type": "stream",
          "name": "stdout",
          "text": [
            "86821\n",
            "dict_keys(['input_ids', 'token_type_ids', 'attention_mask', 'start_positions', 'end_positions'])\n"
          ]
        }
      ],
      "source": [
        "print(len(train_dataset))\n",
        "print(train_dataset[0].keys())"
      ]
    },
    {
      "cell_type": "code",
      "execution_count": null,
      "id": "eff891ab",
      "metadata": {
        "execution": {
          "iopub.execute_input": "2022-09-13T17:52:43.845111Z",
          "iopub.status.busy": "2022-09-13T17:52:43.844232Z",
          "iopub.status.idle": "2022-09-13T17:52:43.849581Z",
          "shell.execute_reply": "2022-09-13T17:52:43.848637Z"
        },
        "id": "eff891ab",
        "papermill": {
          "duration": 0.027392,
          "end_time": "2022-09-13T17:52:43.851587",
          "exception": false,
          "start_time": "2022-09-13T17:52:43.824195",
          "status": "completed"
        },
        "tags": []
      },
      "outputs": [],
      "source": [
        "train_data_loader = DataLoader(train_dataset, batch_size=16, shuffle=True)\n",
        "valid_data_loader = DataLoader(valid_dataset, batch_size=32)"
      ]
    },
    {
      "cell_type": "markdown",
      "id": "fc6005ff",
      "metadata": {
        "id": "fc6005ff",
        "papermill": {
          "duration": 0.018386,
          "end_time": "2022-09-13T17:52:43.932892",
          "exception": false,
          "start_time": "2022-09-13T17:52:43.914506",
          "status": "completed"
        },
        "tags": []
      },
      "source": [
        "#Model creatiion\n"
      ]
    },
    {
      "cell_type": "code",
      "execution_count": null,
      "id": "8d7cabde",
      "metadata": {
        "execution": {
          "iopub.execute_input": "2022-09-13T17:52:43.970269Z",
          "iopub.status.busy": "2022-09-13T17:52:43.970000Z",
          "iopub.status.idle": "2022-09-13T17:52:43.974113Z",
          "shell.execute_reply": "2022-09-13T17:52:43.973131Z"
        },
        "id": "8d7cabde",
        "papermill": {
          "duration": 0.025366,
          "end_time": "2022-09-13T17:52:43.976047",
          "exception": false,
          "start_time": "2022-09-13T17:52:43.950681",
          "status": "completed"
        },
        "tags": [],
        "colab": {
          "base_uri": "https://localhost:8080/",
          "height": 156,
          "referenced_widgets": [
            "6adba40fb7a849518bfcdbd50537050a",
            "fc83f53290b3401da0142a169ff77b82",
            "863950f6f8ec476f9eb995999527d55f",
            "9fdd3a67f239474e857c79e3461737ef",
            "85474a6eb4bb41bc844ffe53497fb7bb",
            "9f6c8cbba0674b70a8524c3c3682d8bb",
            "c1db1e52061e47df964ffab57c5d864d",
            "86eaf141629c44f8b594152f8e8fdb84",
            "fa60dada06e64101803739556d7291f4",
            "770637c0e3954f5aa9444a8d8df2a234",
            "b8b651dc38ca4f40a68fea18cf610267"
          ]
        },
        "outputId": "3e6df969-0a6a-4d45-d05d-5f296fb806c0"
      },
      "outputs": [
        {
          "output_type": "display_data",
          "data": {
            "text/plain": [
              "Downloading pytorch_model.bin:   0%|          | 0.00/440M [00:00<?, ?B/s]"
            ],
            "application/vnd.jupyter.widget-view+json": {
              "version_major": 2,
              "version_minor": 0,
              "model_id": "6adba40fb7a849518bfcdbd50537050a"
            }
          },
          "metadata": {}
        },
        {
          "output_type": "stream",
          "name": "stderr",
          "text": [
            "Some weights of the model checkpoint at bert-base-uncased were not used when initializing BertForQuestionAnswering: ['cls.seq_relationship.bias', 'cls.predictions.transform.LayerNorm.weight', 'cls.predictions.transform.dense.weight', 'cls.predictions.bias', 'cls.predictions.decoder.weight', 'cls.seq_relationship.weight', 'cls.predictions.transform.dense.bias', 'cls.predictions.transform.LayerNorm.bias']\n",
            "- This IS expected if you are initializing BertForQuestionAnswering from the checkpoint of a model trained on another task or with another architecture (e.g. initializing a BertForSequenceClassification model from a BertForPreTraining model).\n",
            "- This IS NOT expected if you are initializing BertForQuestionAnswering from the checkpoint of a model that you expect to be exactly identical (initializing a BertForSequenceClassification model from a BertForSequenceClassification model).\n",
            "Some weights of BertForQuestionAnswering were not initialized from the model checkpoint at bert-base-uncased and are newly initialized: ['qa_outputs.weight', 'qa_outputs.bias']\n",
            "You should probably TRAIN this model on a down-stream task to be able to use it for predictions and inference.\n"
          ]
        }
      ],
      "source": [
        "model = BertForQuestionAnswering.from_pretrained(MODEL_PATH)"
      ]
    },
    {
      "cell_type": "code",
      "execution_count": null,
      "id": "3e5165db",
      "metadata": {
        "execution": {
          "iopub.execute_input": "2022-09-13T17:52:44.013921Z",
          "iopub.status.busy": "2022-09-13T17:52:44.013641Z",
          "iopub.status.idle": "2022-09-13T17:53:05.580969Z",
          "shell.execute_reply": "2022-09-13T17:53:05.579130Z"
        },
        "id": "3e5165db",
        "outputId": "24d00586-9294-4938-d281-5d6c74533544",
        "papermill": {
          "duration": 21.589239,
          "end_time": "2022-09-13T17:53:05.583468",
          "exception": false,
          "start_time": "2022-09-13T17:52:43.994229",
          "status": "completed"
        },
        "tags": [],
        "colab": {
          "base_uri": "https://localhost:8080/"
        }
      },
      "outputs": [
        {
          "output_type": "stream",
          "name": "stderr",
          "text": [
            "Some weights of the model checkpoint at bert-base-uncased were not used when initializing BertModel: ['cls.seq_relationship.bias', 'cls.predictions.transform.LayerNorm.weight', 'cls.predictions.transform.dense.weight', 'cls.predictions.bias', 'cls.predictions.decoder.weight', 'cls.seq_relationship.weight', 'cls.predictions.transform.dense.bias', 'cls.predictions.transform.LayerNorm.bias']\n",
            "- This IS expected if you are initializing BertModel from the checkpoint of a model trained on another task or with another architecture (e.g. initializing a BertForSequenceClassification model from a BertForPreTraining model).\n",
            "- This IS NOT expected if you are initializing BertModel from the checkpoint of a model that you expect to be exactly identical (initializing a BertForSequenceClassification model from a BertForSequenceClassification model).\n"
          ]
        }
      ],
      "source": [
        "bert_model = BertModel.from_pretrained(MODEL_PATH)  #MODEL_PATH = \"bert-base-uncased\"\n",
        "\n",
        "class QAModel(nn.Module):\n",
        "    def __init__(self):\n",
        "        super(QAModel, self).__init__()\n",
        "        self.bert = bert_model\n",
        "        self.drop_out = nn.Dropout(0.1)\n",
        "        self.l1 = nn.Linear(768 * 2, 768 * 2)\n",
        "        self.l2 = nn.Linear(768 * 2, 2)\n",
        "        self.linear_relu_stack = nn.Sequential(\n",
        "            self.drop_out,\n",
        "            self.l1,\n",
        "            nn.LeakyReLU(),\n",
        "            self.l2 \n",
        "        )\n",
        "        \n",
        "    def forward(self, input_ids, attention_mask, token_type_ids):\n",
        "        model_output = self.bert(input_ids, attention_mask=attention_mask, token_type_ids=token_type_ids, output_hidden_states=True)\n",
        "        hidden_states = model_output[2]\n",
        "        out = torch.cat((hidden_states[-1], hidden_states[-3]), dim=-1)  # taking Start logits from last BERT layer, End Logits from third to last layer\n",
        "        logits = self.linear_relu_stack(out)\n",
        "        \n",
        "        start_logits, end_logits = logits.split(1, dim=-1)\n",
        "        \n",
        "        start_logits = start_logits.squeeze(-1)\n",
        "        end_logits = end_logits.squeeze(-1)\n",
        "\n",
        "        return start_logits, end_logits"
      ]
    },
    {
      "cell_type": "code",
      "execution_count": null,
      "id": "07f94622",
      "metadata": {
        "execution": {
          "iopub.execute_input": "2022-09-13T17:53:05.622613Z",
          "iopub.status.busy": "2022-09-13T17:53:05.622291Z",
          "iopub.status.idle": "2022-09-13T17:53:05.651434Z",
          "shell.execute_reply": "2022-09-13T17:53:05.650549Z"
        },
        "id": "07f94622",
        "papermill": {
          "duration": 0.050654,
          "end_time": "2022-09-13T17:53:05.653648",
          "exception": false,
          "start_time": "2022-09-13T17:53:05.602994",
          "status": "completed"
        },
        "tags": []
      },
      "outputs": [],
      "source": [
        "model = QAModel()"
      ]
    },
    {
      "cell_type": "code",
      "execution_count": null,
      "id": "61c0f3c1",
      "metadata": {
        "execution": {
          "iopub.execute_input": "2022-09-13T17:53:05.692439Z",
          "iopub.status.busy": "2022-09-13T17:53:05.692121Z",
          "iopub.status.idle": "2022-09-13T17:53:05.765497Z",
          "shell.execute_reply": "2022-09-13T17:53:05.764340Z"
        },
        "id": "61c0f3c1",
        "outputId": "12fa1946-2256-4b32-be46-b80b7b7132dc",
        "papermill": {
          "duration": 0.095583,
          "end_time": "2022-09-13T17:53:05.767971",
          "exception": false,
          "start_time": "2022-09-13T17:53:05.672388",
          "status": "completed"
        },
        "tags": [],
        "colab": {
          "base_uri": "https://localhost:8080/"
        }
      },
      "outputs": [
        {
          "output_type": "stream",
          "name": "stdout",
          "text": [
            "cuda\n"
          ]
        }
      ],
      "source": [
        "device = torch.device('cuda') if torch.cuda.is_available() else torch.device('cpu')\n",
        "print(device)"
      ]
    },
    {
      "cell_type": "code",
      "execution_count": null,
      "id": "d22d837d",
      "metadata": {
        "execution": {
          "iopub.execute_input": "2022-09-13T17:53:05.842769Z",
          "iopub.status.busy": "2022-09-13T17:53:05.842039Z",
          "iopub.status.idle": "2022-09-13T17:53:05.847739Z",
          "shell.execute_reply": "2022-09-13T17:53:05.846865Z"
        },
        "id": "d22d837d",
        "papermill": {
          "duration": 0.027175,
          "end_time": "2022-09-13T17:53:05.849792",
          "exception": false,
          "start_time": "2022-09-13T17:53:05.822617",
          "status": "completed"
        },
        "tags": []
      },
      "outputs": [],
      "source": [
        "# manually calculate Cross Entropy Loss\n",
        "def loss_fn(start_logits, end_logits, start_positions, end_positions):\n",
        "    loss_fct = nn.CrossEntropyLoss()\n",
        "    start_loss = loss_fct(start_logits, start_positions)\n",
        "    end_loss = loss_fct(end_logits, end_positions)\n",
        "    total_loss = (start_loss + end_loss)/2\n",
        "    return total_loss"
      ]
    },
    {
      "cell_type": "code",
      "execution_count": null,
      "id": "bf98fa5c",
      "metadata": {
        "execution": {
          "iopub.execute_input": "2022-09-13T17:53:05.887629Z",
          "iopub.status.busy": "2022-09-13T17:53:05.886837Z",
          "iopub.status.idle": "2022-09-13T17:53:05.894129Z",
          "shell.execute_reply": "2022-09-13T17:53:05.893219Z"
        },
        "id": "bf98fa5c",
        "papermill": {
          "duration": 0.028303,
          "end_time": "2022-09-13T17:53:05.896174",
          "exception": false,
          "start_time": "2022-09-13T17:53:05.867871",
          "status": "completed"
        },
        "tags": []
      },
      "outputs": [],
      "source": [
        "\n",
        "\n",
        "def focal_loss_fn(start_logits, end_logits, start_positions, end_positions, gamma):\n",
        "    \n",
        "    #calculate Probabilities by applying Softmax to the Start and End Logits. Then get 1 - probabilities\n",
        "    smax = nn.Softmax(dim=1)\n",
        "    probs_start = smax(start_logits)\n",
        "    inv_probs_start = 1 - probs_start\n",
        "    probs_end = smax(end_logits)\n",
        "    inv_probs_end = 1 - probs_end\n",
        "    \n",
        "    #get log of probabilities. Note: NLLLoss required log probabilities. This is the Natural Log (Log base e)\n",
        "    lsmax = nn.LogSoftmax(dim=1)\n",
        "    log_probs_start = lsmax(start_logits)\n",
        "    log_probs_end = lsmax(end_logits)\n",
        "    \n",
        "    nll = nn.NLLLoss()\n",
        "    \n",
        "    fl_start = nll(torch.pow(inv_probs_start, gamma)* log_probs_start, start_positions)\n",
        "    fl_end = nll(torch.pow(inv_probs_end, gamma)*log_probs_end, end_positions)\n",
        "    \n",
        "    #return mean of the Loss for the start and end logits\n",
        "    return ((fl_start + fl_end)/2)"
      ]
    },
    {
      "cell_type": "code",
      "execution_count": null,
      "id": "1aeb1fc2",
      "metadata": {
        "id": "1aeb1fc2"
      },
      "outputs": [],
      "source": []
    },
    {
      "cell_type": "code",
      "execution_count": null,
      "id": "ab21be98",
      "metadata": {
        "execution": {
          "iopub.execute_input": "2022-09-13T17:53:05.971866Z",
          "iopub.status.busy": "2022-09-13T17:53:05.971537Z",
          "iopub.status.idle": "2022-09-13T17:53:05.975651Z",
          "shell.execute_reply": "2022-09-13T17:53:05.974735Z"
        },
        "id": "ab21be98",
        "papermill": {
          "duration": 0.026227,
          "end_time": "2022-09-13T17:53:05.977746",
          "exception": false,
          "start_time": "2022-09-13T17:53:05.951519",
          "status": "completed"
        },
        "tags": [],
        "colab": {
          "base_uri": "https://localhost:8080/"
        },
        "outputId": "0848993d-0834-4c04-d7e0-3dad93e812c1"
      },
      "outputs": [
        {
          "output_type": "execute_result",
          "data": {
            "text/plain": [
              "dict_keys(['input_ids', 'token_type_ids', 'attention_mask', 'start_positions', 'end_positions'])"
            ]
          },
          "metadata": {},
          "execution_count": 81
        }
      ],
      "source": [
        "data = next(iter(train_data_loader))\n",
        "data.keys()"
      ]
    },
    {
      "cell_type": "code",
      "execution_count": null,
      "id": "32ed13dc",
      "metadata": {
        "execution": {
          "iopub.execute_input": "2022-09-13T17:53:06.017135Z",
          "iopub.status.busy": "2022-09-13T17:53:06.016318Z",
          "iopub.status.idle": "2022-09-13T17:53:06.020743Z",
          "shell.execute_reply": "2022-09-13T17:53:06.019821Z"
        },
        "id": "32ed13dc",
        "papermill": {
          "duration": 0.02602,
          "end_time": "2022-09-13T17:53:06.022649",
          "exception": false,
          "start_time": "2022-09-13T17:53:05.996629",
          "status": "completed"
        },
        "tags": [],
        "colab": {
          "base_uri": "https://localhost:8080/"
        },
        "outputId": "99d29dc2-ea61-4a8d-87fc-6cedccf950ca"
      },
      "outputs": [
        {
          "output_type": "stream",
          "name": "stdout",
          "text": [
            "torch.Size([16, 250])\n",
            "torch.Size([16, 250])\n"
          ]
        }
      ],
      "source": [
        "print(data['input_ids'].shape)\n",
        "print(data['attention_mask'].shape)"
      ]
    },
    {
      "cell_type": "code",
      "execution_count": null,
      "id": "f5c6b64d",
      "metadata": {
        "execution": {
          "iopub.execute_input": "2022-09-13T17:53:06.062777Z",
          "iopub.status.busy": "2022-09-13T17:53:06.062478Z",
          "iopub.status.idle": "2022-09-13T17:53:06.066748Z",
          "shell.execute_reply": "2022-09-13T17:53:06.065680Z"
        },
        "id": "f5c6b64d",
        "papermill": {
          "duration": 0.026562,
          "end_time": "2022-09-13T17:53:06.068834",
          "exception": false,
          "start_time": "2022-09-13T17:53:06.042272",
          "status": "completed"
        },
        "tags": []
      },
      "outputs": [],
      "source": [
        "#run one row\n",
        "model.to(device)\n",
        "model.train()\n",
        "input_ids = data['input_ids'][0].unsqueeze(0).to(device)\n",
        "attention_mask = data['attention_mask'][0].unsqueeze(0).to(device)\n",
        "start_positions = data['start_positions'][0].unsqueeze(0).to(device)\n",
        "end_positions = data['end_positions'][0].unsqueeze(0).to(device)"
      ]
    },
    {
      "cell_type": "code",
      "execution_count": null,
      "id": "a7728678",
      "metadata": {
        "execution": {
          "iopub.execute_input": "2022-09-13T17:53:06.106617Z",
          "iopub.status.busy": "2022-09-13T17:53:06.106334Z",
          "iopub.status.idle": "2022-09-13T17:53:06.110670Z",
          "shell.execute_reply": "2022-09-13T17:53:06.109648Z"
        },
        "id": "a7728678",
        "papermill": {
          "duration": 0.025851,
          "end_time": "2022-09-13T17:53:06.112728",
          "exception": false,
          "start_time": "2022-09-13T17:53:06.086877",
          "status": "completed"
        },
        "tags": []
      },
      "outputs": [],
      "source": [
        "#out_start, out_end = model(input_ids=input_ids, attention_mask=attention_mask, token_type_ids=token_type_ids)"
      ]
    },
    {
      "cell_type": "code",
      "execution_count": null,
      "id": "32d431d8",
      "metadata": {
        "execution": {
          "iopub.execute_input": "2022-09-13T17:53:06.151207Z",
          "iopub.status.busy": "2022-09-13T17:53:06.150896Z",
          "iopub.status.idle": "2022-09-13T17:53:06.154919Z",
          "shell.execute_reply": "2022-09-13T17:53:06.154057Z"
        },
        "id": "32d431d8",
        "papermill": {
          "duration": 0.0257,
          "end_time": "2022-09-13T17:53:06.157008",
          "exception": false,
          "start_time": "2022-09-13T17:53:06.131308",
          "status": "completed"
        },
        "tags": []
      },
      "outputs": [],
      "source": [
        "#print(f\"start logits shape: {out_start.shape}\")\n",
        "#print(f\"end logits shape: {out_end.shape}\")"
      ]
    },
    {
      "cell_type": "code",
      "execution_count": null,
      "id": "163a9311",
      "metadata": {
        "execution": {
          "iopub.execute_input": "2022-09-13T17:53:06.194557Z",
          "iopub.status.busy": "2022-09-13T17:53:06.193818Z",
          "iopub.status.idle": "2022-09-13T17:53:06.198013Z",
          "shell.execute_reply": "2022-09-13T17:53:06.197196Z"
        },
        "id": "163a9311",
        "papermill": {
          "duration": 0.024827,
          "end_time": "2022-09-13T17:53:06.199941",
          "exception": false,
          "start_time": "2022-09-13T17:53:06.175114",
          "status": "completed"
        },
        "tags": []
      },
      "outputs": [],
      "source": [
        "#answer_start_index = out_start.argmax()\n",
        "#answer_end_index = out_end.argmax()\n",
        "#print(answer_start_index)\n",
        "#print(answer_end_index)"
      ]
    },
    {
      "cell_type": "markdown",
      "id": "2e3d2e73",
      "metadata": {
        "id": "2e3d2e73",
        "papermill": {
          "duration": 0.018092,
          "end_time": "2022-09-13T17:53:06.236852",
          "exception": false,
          "start_time": "2022-09-13T17:53:06.218760",
          "status": "completed"
        },
        "tags": []
      },
      "source": [
        "## Training loops\\\n"
      ]
    },
    {
      "cell_type": "code",
      "execution_count": null,
      "id": "1a469fcf",
      "metadata": {
        "execution": {
          "iopub.execute_input": "2022-09-13T17:53:06.275093Z",
          "iopub.status.busy": "2022-09-13T17:53:06.274166Z",
          "iopub.status.idle": "2022-09-13T17:53:06.286098Z",
          "shell.execute_reply": "2022-09-13T17:53:06.285060Z"
        },
        "id": "1a469fcf",
        "outputId": "563964a3-acb8-44ec-a394-a3c1b234a977",
        "papermill": {
          "duration": 0.033748,
          "end_time": "2022-09-13T17:53:06.288541",
          "exception": false,
          "start_time": "2022-09-13T17:53:06.254793",
          "status": "completed"
        },
        "tags": [],
        "colab": {
          "base_uri": "https://localhost:8080/"
        }
      },
      "outputs": [
        {
          "output_type": "stream",
          "name": "stderr",
          "text": [
            "/usr/local/lib/python3.10/dist-packages/transformers/optimization.py:407: FutureWarning: This implementation of AdamW is deprecated and will be removed in a future version. Use the PyTorch implementation torch.optim.AdamW instead, or set `no_deprecation_warning=True` to disable this warning\n",
            "  warnings.warn(\n"
          ]
        }
      ],
      "source": [
        "optim = AdamW(model.parameters(), lr=2e-5, weight_decay=2e-2)\n",
        "scheduler = ExponentialLR(optim, gamma=0.9)\n",
        "total_acc = []\n",
        "total_loss = []"
      ]
    },
    {
      "cell_type": "code",
      "execution_count": null,
      "id": "f15490cc",
      "metadata": {
        "execution": {
          "iopub.execute_input": "2022-09-13T17:53:06.327729Z",
          "iopub.status.busy": "2022-09-13T17:53:06.326909Z",
          "iopub.status.idle": "2022-09-13T17:53:06.343269Z",
          "shell.execute_reply": "2022-09-13T17:53:06.342305Z"
        },
        "id": "f15490cc",
        "papermill": {
          "duration": 0.037945,
          "end_time": "2022-09-13T17:53:06.345345",
          "exception": false,
          "start_time": "2022-09-13T17:53:06.307400",
          "status": "completed"
        },
        "tags": []
      },
      "outputs": [],
      "source": [
        "def train_epoch(model, dataloader, epoch):\n",
        "    model = model.train()\n",
        "    losses = []\n",
        "    acc = []\n",
        "    ctr = 0\n",
        "    batch_tracker = 0\n",
        "    for batch in tqdm(dataloader, desc = 'Running Epoch '):\n",
        "        optim.zero_grad()\n",
        "        input_ids = batch['input_ids'].to(device)\n",
        "        attention_mask = batch['attention_mask'].to(device)\n",
        "        token_type_ids = batch['token_type_ids'].to(device)\n",
        "        start_positions = batch['start_positions'].to(device)\n",
        "        end_positions = batch['end_positions'].to(device)\n",
        "        out_start, out_end = model(input_ids=input_ids, \n",
        "                attention_mask=attention_mask,\n",
        "                token_type_ids=token_type_ids)\n",
        "        #loss = loss_fn(out_start, out_end, start_positions, end_positions)  # <---BASELINE.  Cross Entropy Loss is returned by Default\n",
        "        loss = focal_loss_fn(out_start, out_end, start_positions, end_positions,1) #using gamma = 1\n",
        "        losses.append(loss.item())\n",
        "        loss.backward()\n",
        "        optim.step()\n",
        "        \n",
        "        start_pred = torch.argmax(out_start, dim=1)\n",
        "        end_pred = torch.argmax(out_end, dim=1)\n",
        "            \n",
        "        acc.append(((start_pred == start_positions).sum()/len(start_pred)).item())\n",
        "        acc.append(((end_pred == end_positions).sum()/len(end_pred)).item())\n",
        "        #ctr = ctr +1\n",
        "        #if ctr==50:\n",
        "        #    break\n",
        "        batch_tracker = batch_tracker + 1\n",
        "        if batch_tracker==250 and epoch==1:\n",
        "            total_acc.append(sum(acc)/len(acc))\n",
        "            loss_avg = sum(losses)/len(losses)\n",
        "            total_loss.append(loss_avg)\n",
        "            batch_tracker = 0\n",
        "    scheduler.step()\n",
        "    ret_acc = sum(acc)/len(acc)\n",
        "    ret_loss = sum(losses)/len(losses)\n",
        "    return(ret_acc, ret_loss)"
      ]
    },
    {
      "cell_type": "code",
      "execution_count": null,
      "id": "0e4a37de",
      "metadata": {
        "execution": {
          "iopub.execute_input": "2022-09-13T17:53:06.383101Z",
          "iopub.status.busy": "2022-09-13T17:53:06.382327Z",
          "iopub.status.idle": "2022-09-13T17:53:06.390933Z",
          "shell.execute_reply": "2022-09-13T17:53:06.390073Z"
        },
        "id": "0e4a37de",
        "papermill": {
          "duration": 0.029443,
          "end_time": "2022-09-13T17:53:06.392918",
          "exception": false,
          "start_time": "2022-09-13T17:53:06.363475",
          "status": "completed"
        },
        "tags": []
      },
      "outputs": [],
      "source": [
        "def eval_model(model, dataloader):\n",
        "    model = model.eval()\n",
        "    losses = []\n",
        "    acc = []\n",
        "    ctr = 0\n",
        "    with torch.no_grad():\n",
        "        for batch in tqdm(dataloader, desc = 'Running Evaluation'):\n",
        "            input_ids = batch['input_ids'].to(device)\n",
        "            attention_mask = batch['attention_mask'].to(device)\n",
        "            token_type_ids = batch['token_type_ids'].to(device)\n",
        "            start_true = batch['start_positions'].to(device)\n",
        "            end_true = batch['end_positions'].to(device)\n",
        "            \n",
        "            out_start, out_end = model(input_ids=input_ids, \n",
        "                attention_mask=attention_mask,\n",
        "                token_type_ids=token_type_ids)\n",
        "            \n",
        "            start_pred = torch.argmax(out_start, dim=1)\n",
        "            end_pred = torch.argmax(out_end, dim=1)\n",
        "            \n",
        "            acc.append(((start_pred == start_true).sum()/len(start_pred)).item())\n",
        "            acc.append(((end_pred == end_true).sum()/len(end_pred)).item())\n",
        "            #ctr = ctr +1\n",
        "            #if ctr==50:\n",
        "            #    break\n",
        "        ret_acc = sum(acc)/len(acc)\n",
        "        ret_loss = 0\n",
        "        #ret_loss = sum(losses)/len(losses)\n",
        "    return(ret_acc)"
      ]
    },
    {
      "cell_type": "code",
      "execution_count": null,
      "id": "730f8a01",
      "metadata": {
        "execution": {
          "iopub.execute_input": "2022-09-13T17:53:06.430657Z",
          "iopub.status.busy": "2022-09-13T17:53:06.430404Z",
          "iopub.status.idle": "2022-09-13T20:26:54.773502Z",
          "shell.execute_reply": "2022-09-13T20:26:54.772461Z"
        },
        "id": "730f8a01",
        "outputId": "653ba307-be1c-49fb-c681-52eb344ad7ef",
        "papermill": {
          "duration": 9228.364669,
          "end_time": "2022-09-13T20:26:54.775665",
          "exception": false,
          "start_time": "2022-09-13T17:53:06.410996",
          "status": "completed"
        },
        "tags": [],
        "colab": {
          "base_uri": "https://localhost:8080/"
        }
      },
      "outputs": [
        {
          "output_type": "stream",
          "name": "stderr",
          "text": [
            "Running Epoch : 100%|██████████| 5427/5427 [1:06:18<00:00,  1.36it/s]\n"
          ]
        },
        {
          "output_type": "stream",
          "name": "stdout",
          "text": [
            "Train Accuracy: 0.610857748298305      Train Loss: 1.1958582082906437\n"
          ]
        },
        {
          "output_type": "stream",
          "name": "stderr",
          "text": [
            "Running Evaluation: 100%|██████████| 635/635 [05:05<00:00,  2.08it/s]\n"
          ]
        },
        {
          "output_type": "stream",
          "name": "stdout",
          "text": [
            "Validation Accuracy: 0.6592625140733137\n"
          ]
        },
        {
          "output_type": "stream",
          "name": "stderr",
          "text": [
            "Running Epoch : 100%|██████████| 5427/5427 [1:06:14<00:00,  1.37it/s]\n"
          ]
        },
        {
          "output_type": "stream",
          "name": "stdout",
          "text": [
            "Train Accuracy: 0.7334841993746012      Train Loss: 0.6674618558556265\n"
          ]
        },
        {
          "output_type": "stream",
          "name": "stderr",
          "text": [
            "Running Evaluation: 100%|██████████| 635/635 [05:04<00:00,  2.09it/s]"
          ]
        },
        {
          "output_type": "stream",
          "name": "stdout",
          "text": [
            "Validation Accuracy: 0.6640361361205578\n"
          ]
        },
        {
          "output_type": "stream",
          "name": "stderr",
          "text": [
            "\n"
          ]
        }
      ],
      "source": [
        "EPOCHS = 2\n",
        "\n",
        "model.to(device)\n",
        "\n",
        "for epoch in range(EPOCHS):\n",
        "    train_acc, train_loss = train_epoch(model, train_data_loader, epoch+1)\n",
        "    print(f\"Train Accuracy: {train_acc}      Train Loss: {train_loss}\")\n",
        "    val_acc = eval_model(model, valid_data_loader)\n",
        "    print(f\"Validation Accuracy: {val_acc}\")\n",
        "    \n",
        "#val_acc, val_loss = eval_model(model, valid_data_loader)\n",
        "#print(f\"Validation Accuracy: {val_acc}   Validation Loss: {val_loss}\")\n",
        "  "
      ]
    },
    {
      "cell_type": "markdown",
      "source": [],
      "metadata": {
        "id": "dny6n-WLvOLQ"
      },
      "id": "dny6n-WLvOLQ"
    },
    {
      "cell_type": "code",
      "source": [
        "scheduler.get_last_lr()"
      ],
      "metadata": {
        "colab": {
          "base_uri": "https://localhost:8080/"
        },
        "id": "OATshpbfvSYB",
        "outputId": "b85c287e-921a-4d69-f486-8405e3986e79"
      },
      "id": "OATshpbfvSYB",
      "execution_count": null,
      "outputs": [
        {
          "output_type": "execute_result",
          "data": {
            "text/plain": [
              "[1.62e-05]"
            ]
          },
          "metadata": {},
          "execution_count": 91
        }
      ]
    },
    {
      "cell_type": "code",
      "source": [
        "# plot Accuracy\n",
        "plt.plot(total_acc, color='blue')\n",
        "plt.ylabel('Accuracy')\n",
        "plt.xlabel('Runs->')\n",
        "plt.title(\"Total Train Accuracy over time\");\n",
        "# plot Loss\n"
      ],
      "metadata": {
        "colab": {
          "base_uri": "https://localhost:8080/",
          "height": 472
        },
        "id": "nGpGrkq08bN0",
        "outputId": "5ce201e6-dbca-413a-8e7f-b791453e3354"
      },
      "id": "nGpGrkq08bN0",
      "execution_count": null,
      "outputs": [
        {
          "output_type": "display_data",
          "data": {
            "text/plain": [
              "<Figure size 640x480 with 1 Axes>"
            ],
            "image/png": "[encoded data removed]"
          },
          "metadata": {}
        }
      ]
    },
    {
      "cell_type": "code",
      "source": [
        "plt.plot(total_loss, color='red')\n",
        "plt.ylabel('Loss')\n",
        "plt.xlabel('Runs->')\n",
        "plt.title(\"Total Train Loss over time\");"
      ],
      "metadata": {
        "colab": {
          "base_uri": "https://localhost:8080/",
          "height": 472
        },
        "id": "GweHJG3TNPu1",
        "outputId": "9fcbcc3b-3d14-43c3-c28b-8e14620fc6b7"
      },
      "id": "GweHJG3TNPu1",
      "execution_count": null,
      "outputs": [
        {
          "output_type": "display_data",
          "data": {
            "text/plain": [
              "<Figure size 640x480 with 1 Axes>"
            ],
            "image/png": "[encoded data removed]"
          },
          "metadata": {}
        }
      ]
    },
    {
      "cell_type": "code",
      "source": [
        "file_path = \"C:/Users/bhara/OneDrive - scu.edu/Code Projects/models/best\"\n",
        "os.makedirs(os.path.dirname(file_path), exist_ok=True)\n",
        "\n",
        "torch.save(model.state_dict(), file_path)"
      ],
      "metadata": {
        "id": "uH5L6KW08f9O"
      },
      "id": "uH5L6KW08f9O",
      "execution_count": 105,
      "outputs": []
    }
  ],
  "metadata": {
    "kernelspec": {
      "display_name": "Python 3",
      "name": "python3"
    },
    "language_info": {
      "codemirror_mode": {
        "name": "ipython",
        "version": 3
      },
      "file_extension": ".py",
      "mimetype": "text/x-python",
      "name": "python",
      "nbconvert_exporter": "python",
      "pygments_lexer": "ipython3",
      "version": "3.11.1"
    },
    "papermill": {
      "default_parameters": {},
      "duration": 9398.247084,
      "end_time": "2022-09-13T20:27:31.674971",
      "environment_variables": {},
      "exception": null,
      "input_path": "__notebook__.ipynb",
      "output_path": "__notebook__.ipynb",
      "parameters": {},
      "start_time": "2022-09-13T17:50:53.427887",
      "version": "2.3.4"
    },
    "widgets": {
      "application/vnd.jupyter.widget-state+json": {
        "bda4c9f3f4c944b8b3e5ad99a44ee35a": {
          "model_module": "@jupyter-widgets/controls",
          "model_name": "HBoxModel",
          "model_module_version": "1.5.0",
          "state": {
            "_dom_classes": [],
            "_model_module": "@jupyter-widgets/controls",
            "_model_module_version": "1.5.0",
            "_model_name": "HBoxModel",
            "_view_count": null,
            "_view_module": "@jupyter-widgets/controls",
            "_view_module_version": "1.5.0",
            "_view_name": "HBoxView",
            "box_style": "",
            "children": [
              "IPY_MODEL_26b5236b8638431495afe0c8ce9adb63",
              "IPY_MODEL_c092ccf9c7ab4e978f3c40e21ff03895",
              "IPY_MODEL_e05934c1748f43e38a3978fed0ec3a12"
            ],
            "layout": "IPY_MODEL_de1279939e574c788e713f1feb495b3c"
          }
        },
        "26b5236b8638431495afe0c8ce9adb63": {
          "model_module": "@jupyter-widgets/controls",
          "model_name": "HTMLModel",
          "model_module_version": "1.5.0",
          "state": {
            "_dom_classes": [],
            "_model_module": "@jupyter-widgets/controls",
            "_model_module_version": "1.5.0",
            "_model_name": "HTMLModel",
            "_view_count": null,
            "_view_module": "@jupyter-widgets/controls",
            "_view_module_version": "1.5.0",
            "_view_name": "HTMLView",
            "description": "",
            "description_tooltip": null,
            "layout": "IPY_MODEL_0534532f01cc4dceb37dd8f4441d54a8",
            "placeholder": "​",
            "style": "IPY_MODEL_b15b7c7518254ebfa3a04c0d419f143d",
            "value": "Downloading (…)okenizer_config.json: 100%"
          }
        },
        "c092ccf9c7ab4e978f3c40e21ff03895": {
          "model_module": "@jupyter-widgets/controls",
          "model_name": "FloatProgressModel",
          "model_module_version": "1.5.0",
          "state": {
            "_dom_classes": [],
            "_model_module": "@jupyter-widgets/controls",
            "_model_module_version": "1.5.0",
            "_model_name": "FloatProgressModel",
            "_view_count": null,
            "_view_module": "@jupyter-widgets/controls",
            "_view_module_version": "1.5.0",
            "_view_name": "ProgressView",
            "bar_style": "success",
            "description": "",
            "description_tooltip": null,
            "layout": "IPY_MODEL_863cad844cc9498d985af516d335a042",
            "max": 28,
            "min": 0,
            "orientation": "horizontal",
            "style": "IPY_MODEL_687ffb5362684683bae84a34e5c553a8",
            "value": 28
          }
        },
        "e05934c1748f43e38a3978fed0ec3a12": {
          "model_module": "@jupyter-widgets/controls",
          "model_name": "HTMLModel",
          "model_module_version": "1.5.0",
          "state": {
            "_dom_classes": [],
            "_model_module": "@jupyter-widgets/controls",
            "_model_module_version": "1.5.0",
            "_model_name": "HTMLModel",
            "_view_count": null,
            "_view_module": "@jupyter-widgets/controls",
            "_view_module_version": "1.5.0",
            "_view_name": "HTMLView",
            "description": "",
            "description_tooltip": null,
            "layout": "IPY_MODEL_f60cde6919464cc2a43c2be98a2067f5",
            "placeholder": "​",
            "style": "IPY_MODEL_56724da23a9346dc901e71abba30bdef",
            "value": " 28.0/28.0 [00:00&lt;00:00, 1.85kB/s]"
          }
        },
        "de1279939e574c788e713f1feb495b3c": {
          "model_module": "@jupyter-widgets/base",
          "model_name": "LayoutModel",
          "model_module_version": "1.2.0",
          "state": {
            "_model_module": "@jupyter-widgets/base",
            "_model_module_version": "1.2.0",
            "_model_name": "LayoutModel",
            "_view_count": null,
            "_view_module": "@jupyter-widgets/base",
            "_view_module_version": "1.2.0",
            "_view_name": "LayoutView",
            "align_content": null,
            "align_items": null,
            "align_self": null,
            "border": null,
            "bottom": null,
            "display": null,
            "flex": null,
            "flex_flow": null,
            "grid_area": null,
            "grid_auto_columns": null,
            "grid_auto_flow": null,
            "grid_auto_rows": null,
            "grid_column": null,
            "grid_gap": null,
            "grid_row": null,
            "grid_template_areas": null,
            "grid_template_columns": null,
            "grid_template_rows": null,
            "height": null,
            "justify_content": null,
            "justify_items": null,
            "left": null,
            "margin": null,
            "max_height": null,
            "max_width": null,
            "min_height": null,
            "min_width": null,
            "object_fit": null,
            "object_position": null,
            "order": null,
            "overflow": null,
            "overflow_x": null,
            "overflow_y": null,
            "padding": null,
            "right": null,
            "top": null,
            "visibility": null,
            "width": null
          }
        },
        "0534532f01cc4dceb37dd8f4441d54a8": {
          "model_module": "@jupyter-widgets/base",
          "model_name": "LayoutModel",
          "model_module_version": "1.2.0",
          "state": {
            "_model_module": "@jupyter-widgets/base",
            "_model_module_version": "1.2.0",
            "_model_name": "LayoutModel",
            "_view_count": null,
            "_view_module": "@jupyter-widgets/base",
            "_view_module_version": "1.2.0",
            "_view_name": "LayoutView",
            "align_content": null,
            "align_items": null,
            "align_self": null,
            "border": null,
            "bottom": null,
            "display": null,
            "flex": null,
            "flex_flow": null,
            "grid_area": null,
            "grid_auto_columns": null,
            "grid_auto_flow": null,
            "grid_auto_rows": null,
            "grid_column": null,
            "grid_gap": null,
            "grid_row": null,
            "grid_template_areas": null,
            "grid_template_columns": null,
            "grid_template_rows": null,
            "height": null,
            "justify_content": null,
            "justify_items": null,
            "left": null,
            "margin": null,
            "max_height": null,
            "max_width": null,
            "min_height": null,
            "min_width": null,
            "object_fit": null,
            "object_position": null,
            "order": null,
            "overflow": null,
            "overflow_x": null,
            "overflow_y": null,
            "padding": null,
            "right": null,
            "top": null,
            "visibility": null,
            "width": null
          }
        },
        "b15b7c7518254ebfa3a04c0d419f143d": {
          "model_module": "@jupyter-widgets/controls",
          "model_name": "DescriptionStyleModel",
          "model_module_version": "1.5.0",
          "state": {
            "_model_module": "@jupyter-widgets/controls",
            "_model_module_version": "1.5.0",
            "_model_name": "DescriptionStyleModel",
            "_view_count": null,
            "_view_module": "@jupyter-widgets/base",
            "_view_module_version": "1.2.0",
            "_view_name": "StyleView",
            "description_width": ""
          }
        },
        "863cad844cc9498d985af516d335a042": {
          "model_module": "@jupyter-widgets/base",
          "model_name": "LayoutModel",
          "model_module_version": "1.2.0",
          "state": {
            "_model_module": "@jupyter-widgets/base",
            "_model_module_version": "1.2.0",
            "_model_name": "LayoutModel",
            "_view_count": null,
            "_view_module": "@jupyter-widgets/base",
            "_view_module_version": "1.2.0",
            "_view_name": "LayoutView",
            "align_content": null,
            "align_items": null,
            "align_self": null,
            "border": null,
            "bottom": null,
            "display": null,
            "flex": null,
            "flex_flow": null,
            "grid_area": null,
            "grid_auto_columns": null,
            "grid_auto_flow": null,
            "grid_auto_rows": null,
            "grid_column": null,
            "grid_gap": null,
            "grid_row": null,
            "grid_template_areas": null,
            "grid_template_columns": null,
            "grid_template_rows": null,
            "height": null,
            "justify_content": null,
            "justify_items": null,
            "left": null,
            "margin": null,
            "max_height": null,
            "max_width": null,
            "min_height": null,
            "min_width": null,
            "object_fit": null,
            "object_position": null,
            "order": null,
            "overflow": null,
            "overflow_x": null,
            "overflow_y": null,
            "padding": null,
            "right": null,
            "top": null,
            "visibility": null,
            "width": null
          }
        },
        "687ffb5362684683bae84a34e5c553a8": {
          "model_module": "@jupyter-widgets/controls",
          "model_name": "ProgressStyleModel",
          "model_module_version": "1.5.0",
          "state": {
            "_model_module": "@jupyter-widgets/controls",
            "_model_module_version": "1.5.0",
            "_model_name": "ProgressStyleModel",
            "_view_count": null,
            "_view_module": "@jupyter-widgets/base",
            "_view_module_version": "1.2.0",
            "_view_name": "StyleView",
            "bar_color": null,
            "description_width": ""
          }
        },
        "f60cde6919464cc2a43c2be98a2067f5": {
          "model_module": "@jupyter-widgets/base",
          "model_name": "LayoutModel",
          "model_module_version": "1.2.0",
          "state": {
            "_model_module": "@jupyter-widgets/base",
            "_model_module_version": "1.2.0",
            "_model_name": "LayoutModel",
            "_view_count": null,
            "_view_module": "@jupyter-widgets/base",
            "_view_module_version": "1.2.0",
            "_view_name": "LayoutView",
            "align_content": null,
            "align_items": null,
            "align_self": null,
            "border": null,
            "bottom": null,
            "display": null,
            "flex": null,
            "flex_flow": null,
            "grid_area": null,
            "grid_auto_columns": null,
            "grid_auto_flow": null,
            "grid_auto_rows": null,
            "grid_column": null,
            "grid_gap": null,
            "grid_row": null,
            "grid_template_areas": null,
            "grid_template_columns": null,
            "grid_template_rows": null,
            "height": null,
            "justify_content": null,
            "justify_items": null,
            "left": null,
            "margin": null,
            "max_height": null,
            "max_width": null,
            "min_height": null,
            "min_width": null,
            "object_fit": null,
            "object_position": null,
            "order": null,
            "overflow": null,
            "overflow_x": null,
            "overflow_y": null,
            "padding": null,
            "right": null,
            "top": null,
            "visibility": null,
            "width": null
          }
        },
        "56724da23a9346dc901e71abba30bdef": {
          "model_module": "@jupyter-widgets/controls",
          "model_name": "DescriptionStyleModel",
          "model_module_version": "1.5.0",
          "state": {
            "_model_module": "@jupyter-widgets/controls",
            "_model_module_version": "1.5.0",
            "_model_name": "DescriptionStyleModel",
            "_view_count": null,
            "_view_module": "@jupyter-widgets/base",
            "_view_module_version": "1.2.0",
            "_view_name": "StyleView",
            "description_width": ""
          }
        },
        "045185c67cf1498e9de813a85266d68d": {
          "model_module": "@jupyter-widgets/controls",
          "model_name": "HBoxModel",
          "model_module_version": "1.5.0",
          "state": {
            "_dom_classes": [],
            "_model_module": "@jupyter-widgets/controls",
            "_model_module_version": "1.5.0",
            "_model_name": "HBoxModel",
            "_view_count": null,
            "_view_module": "@jupyter-widgets/controls",
            "_view_module_version": "1.5.0",
            "_view_name": "HBoxView",
            "box_style": "",
            "children": [
              "IPY_MODEL_7fbeae15abad48ca88c3e26281be127a",
              "IPY_MODEL_360a5b4e20a74f3ebdecb04973f75172",
              "IPY_MODEL_fe68492fefc74714982a84eba92cf235"
            ],
            "layout": "IPY_MODEL_16e10a92236f4d0f9b4e6e37ac38fb04"
          }
        },
        "7fbeae15abad48ca88c3e26281be127a": {
          "model_module": "@jupyter-widgets/controls",
          "model_name": "HTMLModel",
          "model_module_version": "1.5.0",
          "state": {
            "_dom_classes": [],
            "_model_module": "@jupyter-widgets/controls",
            "_model_module_version": "1.5.0",
            "_model_name": "HTMLModel",
            "_view_count": null,
            "_view_module": "@jupyter-widgets/controls",
            "_view_module_version": "1.5.0",
            "_view_name": "HTMLView",
            "description": "",
            "description_tooltip": null,
            "layout": "IPY_MODEL_091b51c78a62431991f98734a712e9fc",
            "placeholder": "​",
            "style": "IPY_MODEL_46eb6563a56349f486204f2000742538",
            "value": "Downloading (…)solve/main/vocab.txt: 100%"
          }
        },
        "360a5b4e20a74f3ebdecb04973f75172": {
          "model_module": "@jupyter-widgets/controls",
          "model_name": "FloatProgressModel",
          "model_module_version": "1.5.0",
          "state": {
            "_dom_classes": [],
            "_model_module": "@jupyter-widgets/controls",
            "_model_module_version": "1.5.0",
            "_model_name": "FloatProgressModel",
            "_view_count": null,
            "_view_module": "@jupyter-widgets/controls",
            "_view_module_version": "1.5.0",
            "_view_name": "ProgressView",
            "bar_style": "success",
            "description": "",
            "description_tooltip": null,
            "layout": "IPY_MODEL_ebd343f758d5410096573b7e0a0ff53f",
            "max": 231508,
            "min": 0,
            "orientation": "horizontal",
            "style": "IPY_MODEL_b56db5ed4f024a8db044b0a3e78a10e8",
            "value": 231508
          }
        },
        "fe68492fefc74714982a84eba92cf235": {
          "model_module": "@jupyter-widgets/controls",
          "model_name": "HTMLModel",
          "model_module_version": "1.5.0",
          "state": {
            "_dom_classes": [],
            "_model_module": "@jupyter-widgets/controls",
            "_model_module_version": "1.5.0",
            "_model_name": "HTMLModel",
            "_view_count": null,
            "_view_module": "@jupyter-widgets/controls",
            "_view_module_version": "1.5.0",
            "_view_name": "HTMLView",
            "description": "",
            "description_tooltip": null,
            "layout": "IPY_MODEL_2ed618d92cb64ba586108fe2e6b3b517",
            "placeholder": "​",
            "style": "IPY_MODEL_061a00b21464458382bc0683aae3d193",
            "value": " 232k/232k [00:00&lt;00:00, 559kB/s]"
          }
        },
        "16e10a92236f4d0f9b4e6e37ac38fb04": {
          "model_module": "@jupyter-widgets/base",
          "model_name": "LayoutModel",
          "model_module_version": "1.2.0",
          "state": {
            "_model_module": "@jupyter-widgets/base",
            "_model_module_version": "1.2.0",
            "_model_name": "LayoutModel",
            "_view_count": null,
            "_view_module": "@jupyter-widgets/base",
            "_view_module_version": "1.2.0",
            "_view_name": "LayoutView",
            "align_content": null,
            "align_items": null,
            "align_self": null,
            "border": null,
            "bottom": null,
            "display": null,
            "flex": null,
            "flex_flow": null,
            "grid_area": null,
            "grid_auto_columns": null,
            "grid_auto_flow": null,
            "grid_auto_rows": null,
            "grid_column": null,
            "grid_gap": null,
            "grid_row": null,
            "grid_template_areas": null,
            "grid_template_columns": null,
            "grid_template_rows": null,
            "height": null,
            "justify_content": null,
            "justify_items": null,
            "left": null,
            "margin": null,
            "max_height": null,
            "max_width": null,
            "min_height": null,
            "min_width": null,
            "object_fit": null,
            "object_position": null,
            "order": null,
            "overflow": null,
            "overflow_x": null,
            "overflow_y": null,
            "padding": null,
            "right": null,
            "top": null,
            "visibility": null,
            "width": null
          }
        },
        "091b51c78a62431991f98734a712e9fc": {
          "model_module": "@jupyter-widgets/base",
          "model_name": "LayoutModel",
          "model_module_version": "1.2.0",
          "state": {
            "_model_module": "@jupyter-widgets/base",
            "_model_module_version": "1.2.0",
            "_model_name": "LayoutModel",
            "_view_count": null,
            "_view_module": "@jupyter-widgets/base",
            "_view_module_version": "1.2.0",
            "_view_name": "LayoutView",
            "align_content": null,
            "align_items": null,
            "align_self": null,
            "border": null,
            "bottom": null,
            "display": null,
            "flex": null,
            "flex_flow": null,
            "grid_area": null,
            "grid_auto_columns": null,
            "grid_auto_flow": null,
            "grid_auto_rows": null,
            "grid_column": null,
            "grid_gap": null,
            "grid_row": null,
            "grid_template_areas": null,
            "grid_template_columns": null,
            "grid_template_rows": null,
            "height": null,
            "justify_content": null,
            "justify_items": null,
            "left": null,
            "margin": null,
            "max_height": null,
            "max_width": null,
            "min_height": null,
            "min_width": null,
            "object_fit": null,
            "object_position": null,
            "order": null,
            "overflow": null,
            "overflow_x": null,
            "overflow_y": null,
            "padding": null,
            "right": null,
            "top": null,
            "visibility": null,
            "width": null
          }
        },
        "46eb6563a56349f486204f2000742538": {
          "model_module": "@jupyter-widgets/controls",
          "model_name": "DescriptionStyleModel",
          "model_module_version": "1.5.0",
          "state": {
            "_model_module": "@jupyter-widgets/controls",
            "_model_module_version": "1.5.0",
            "_model_name": "DescriptionStyleModel",
            "_view_count": null,
            "_view_module": "@jupyter-widgets/base",
            "_view_module_version": "1.2.0",
            "_view_name": "StyleView",
            "description_width": ""
          }
        },
        "ebd343f758d5410096573b7e0a0ff53f": {
          "model_module": "@jupyter-widgets/base",
          "model_name": "LayoutModel",
          "model_module_version": "1.2.0",
          "state": {
            "_model_module": "@jupyter-widgets/base",
            "_model_module_version": "1.2.0",
            "_model_name": "LayoutModel",
            "_view_count": null,
            "_view_module": "@jupyter-widgets/base",
            "_view_module_version": "1.2.0",
            "_view_name": "LayoutView",
            "align_content": null,
            "align_items": null,
            "align_self": null,
            "border": null,
            "bottom": null,
            "display": null,
            "flex": null,
            "flex_flow": null,
            "grid_area": null,
            "grid_auto_columns": null,
            "grid_auto_flow": null,
            "grid_auto_rows": null,
            "grid_column": null,
            "grid_gap": null,
            "grid_row": null,
            "grid_template_areas": null,
            "grid_template_columns": null,
            "grid_template_rows": null,
            "height": null,
            "justify_content": null,
            "justify_items": null,
            "left": null,
            "margin": null,
            "max_height": null,
            "max_width": null,
            "min_height": null,
            "min_width": null,
            "object_fit": null,
            "object_position": null,
            "order": null,
            "overflow": null,
            "overflow_x": null,
            "overflow_y": null,
            "padding": null,
            "right": null,
            "top": null,
            "visibility": null,
            "width": null
          }
        },
        "b56db5ed4f024a8db044b0a3e78a10e8": {
          "model_module": "@jupyter-widgets/controls",
          "model_name": "ProgressStyleModel",
          "model_module_version": "1.5.0",
          "state": {
            "_model_module": "@jupyter-widgets/controls",
            "_model_module_version": "1.5.0",
            "_model_name": "ProgressStyleModel",
            "_view_count": null,
            "_view_module": "@jupyter-widgets/base",
            "_view_module_version": "1.2.0",
            "_view_name": "StyleView",
            "bar_color": null,
            "description_width": ""
          }
        },
        "2ed618d92cb64ba586108fe2e6b3b517": {
          "model_module": "@jupyter-widgets/base",
          "model_name": "LayoutModel",
          "model_module_version": "1.2.0",
          "state": {
            "_model_module": "@jupyter-widgets/base",
            "_model_module_version": "1.2.0",
            "_model_name": "LayoutModel",
            "_view_count": null,
            "_view_module": "@jupyter-widgets/base",
            "_view_module_version": "1.2.0",
            "_view_name": "LayoutView",
            "align_content": null,
            "align_items": null,
            "align_self": null,
            "border": null,
            "bottom": null,
            "display": null,
            "flex": null,
            "flex_flow": null,
            "grid_area": null,
            "grid_auto_columns": null,
            "grid_auto_flow": null,
            "grid_auto_rows": null,
            "grid_column": null,
            "grid_gap": null,
            "grid_row": null,
            "grid_template_areas": null,
            "grid_template_columns": null,
            "grid_template_rows": null,
            "height": null,
            "justify_content": null,
            "justify_items": null,
            "left": null,
            "margin": null,
            "max_height": null,
            "max_width": null,
            "min_height": null,
            "min_width": null,
            "object_fit": null,
            "object_position": null,
            "order": null,
            "overflow": null,
            "overflow_x": null,
            "overflow_y": null,
            "padding": null,
            "right": null,
            "top": null,
            "visibility": null,
            "width": null
          }
        },
        "061a00b21464458382bc0683aae3d193": {
          "model_module": "@jupyter-widgets/controls",
          "model_name": "DescriptionStyleModel",
          "model_module_version": "1.5.0",
          "state": {
            "_model_module": "@jupyter-widgets/controls",
            "_model_module_version": "1.5.0",
            "_model_name": "DescriptionStyleModel",
            "_view_count": null,
            "_view_module": "@jupyter-widgets/base",
            "_view_module_version": "1.2.0",
            "_view_name": "StyleView",
            "description_width": ""
          }
        },
        "32a52ad6ef4848ccbcff930642a466ec": {
          "model_module": "@jupyter-widgets/controls",
          "model_name": "HBoxModel",
          "model_module_version": "1.5.0",
          "state": {
            "_dom_classes": [],
            "_model_module": "@jupyter-widgets/controls",
            "_model_module_version": "1.5.0",
            "_model_name": "HBoxModel",
            "_view_count": null,
            "_view_module": "@jupyter-widgets/controls",
            "_view_module_version": "1.5.0",
            "_view_name": "HBoxView",
            "box_style": "",
            "children": [
              "IPY_MODEL_cd840406b47646af90dc96ce90cfa846",
              "IPY_MODEL_f2e2828721cd4c7abeeab76776cd49d5",
              "IPY_MODEL_b4db418ddf5f430a85d1d6fce18000df"
            ],
            "layout": "IPY_MODEL_1195ded63cd64d44b4625a83d8f9976f"
          }
        },
        "cd840406b47646af90dc96ce90cfa846": {
          "model_module": "@jupyter-widgets/controls",
          "model_name": "HTMLModel",
          "model_module_version": "1.5.0",
          "state": {
            "_dom_classes": [],
            "_model_module": "@jupyter-widgets/controls",
            "_model_module_version": "1.5.0",
            "_model_name": "HTMLModel",
            "_view_count": null,
            "_view_module": "@jupyter-widgets/controls",
            "_view_module_version": "1.5.0",
            "_view_name": "HTMLView",
            "description": "",
            "description_tooltip": null,
            "layout": "IPY_MODEL_d03bc17eb6db497381e16930c04c9023",
            "placeholder": "​",
            "style": "IPY_MODEL_f41e2adc3feb46ec9c997b622d8947ee",
            "value": "Downloading (…)/main/tokenizer.json: 100%"
          }
        },
        "f2e2828721cd4c7abeeab76776cd49d5": {
          "model_module": "@jupyter-widgets/controls",
          "model_name": "FloatProgressModel",
          "model_module_version": "1.5.0",
          "state": {
            "_dom_classes": [],
            "_model_module": "@jupyter-widgets/controls",
            "_model_module_version": "1.5.0",
            "_model_name": "FloatProgressModel",
            "_view_count": null,
            "_view_module": "@jupyter-widgets/controls",
            "_view_module_version": "1.5.0",
            "_view_name": "ProgressView",
            "bar_style": "success",
            "description": "",
            "description_tooltip": null,
            "layout": "IPY_MODEL_9a820c3c1c374f339582fe4980ede3b0",
            "max": 466062,
            "min": 0,
            "orientation": "horizontal",
            "style": "IPY_MODEL_a5393dc086f14483938ddb54790dc8ba",
            "value": 466062
          }
        },
        "b4db418ddf5f430a85d1d6fce18000df": {
          "model_module": "@jupyter-widgets/controls",
          "model_name": "HTMLModel",
          "model_module_version": "1.5.0",
          "state": {
            "_dom_classes": [],
            "_model_module": "@jupyter-widgets/controls",
            "_model_module_version": "1.5.0",
            "_model_name": "HTMLModel",
            "_view_count": null,
            "_view_module": "@jupyter-widgets/controls",
            "_view_module_version": "1.5.0",
            "_view_name": "HTMLView",
            "description": "",
            "description_tooltip": null,
            "layout": "IPY_MODEL_1d4074e901194e808730212d414e1ec2",
            "placeholder": "​",
            "style": "IPY_MODEL_88a64bea359f49feaff9ac97679ead43",
            "value": " 466k/466k [00:00&lt;00:00, 1.13MB/s]"
          }
        },
        "1195ded63cd64d44b4625a83d8f9976f": {
          "model_module": "@jupyter-widgets/base",
          "model_name": "LayoutModel",
          "model_module_version": "1.2.0",
          "state": {
            "_model_module": "@jupyter-widgets/base",
            "_model_module_version": "1.2.0",
            "_model_name": "LayoutModel",
            "_view_count": null,
            "_view_module": "@jupyter-widgets/base",
            "_view_module_version": "1.2.0",
            "_view_name": "LayoutView",
            "align_content": null,
            "align_items": null,
            "align_self": null,
            "border": null,
            "bottom": null,
            "display": null,
            "flex": null,
            "flex_flow": null,
            "grid_area": null,
            "grid_auto_columns": null,
            "grid_auto_flow": null,
            "grid_auto_rows": null,
            "grid_column": null,
            "grid_gap": null,
            "grid_row": null,
            "grid_template_areas": null,
            "grid_template_columns": null,
            "grid_template_rows": null,
            "height": null,
            "justify_content": null,
            "justify_items": null,
            "left": null,
            "margin": null,
            "max_height": null,
            "max_width": null,
            "min_height": null,
            "min_width": null,
            "object_fit": null,
            "object_position": null,
            "order": null,
            "overflow": null,
            "overflow_x": null,
            "overflow_y": null,
            "padding": null,
            "right": null,
            "top": null,
            "visibility": null,
            "width": null
          }
        },
        "d03bc17eb6db497381e16930c04c9023": {
          "model_module": "@jupyter-widgets/base",
          "model_name": "LayoutModel",
          "model_module_version": "1.2.0",
          "state": {
            "_model_module": "@jupyter-widgets/base",
            "_model_module_version": "1.2.0",
            "_model_name": "LayoutModel",
            "_view_count": null,
            "_view_module": "@jupyter-widgets/base",
            "_view_module_version": "1.2.0",
            "_view_name": "LayoutView",
            "align_content": null,
            "align_items": null,
            "align_self": null,
            "border": null,
            "bottom": null,
            "display": null,
            "flex": null,
            "flex_flow": null,
            "grid_area": null,
            "grid_auto_columns": null,
            "grid_auto_flow": null,
            "grid_auto_rows": null,
            "grid_column": null,
            "grid_gap": null,
            "grid_row": null,
            "grid_template_areas": null,
            "grid_template_columns": null,
            "grid_template_rows": null,
            "height": null,
            "justify_content": null,
            "justify_items": null,
            "left": null,
            "margin": null,
            "max_height": null,
            "max_width": null,
            "min_height": null,
            "min_width": null,
            "object_fit": null,
            "object_position": null,
            "order": null,
            "overflow": null,
            "overflow_x": null,
            "overflow_y": null,
            "padding": null,
            "right": null,
            "top": null,
            "visibility": null,
            "width": null
          }
        },
        "f41e2adc3feb46ec9c997b622d8947ee": {
          "model_module": "@jupyter-widgets/controls",
          "model_name": "DescriptionStyleModel",
          "model_module_version": "1.5.0",
          "state": {
            "_model_module": "@jupyter-widgets/controls",
            "_model_module_version": "1.5.0",
            "_model_name": "DescriptionStyleModel",
            "_view_count": null,
            "_view_module": "@jupyter-widgets/base",
            "_view_module_version": "1.2.0",
            "_view_name": "StyleView",
            "description_width": ""
          }
        },
        "9a820c3c1c374f339582fe4980ede3b0": {
          "model_module": "@jupyter-widgets/base",
          "model_name": "LayoutModel",
          "model_module_version": "1.2.0",
          "state": {
            "_model_module": "@jupyter-widgets/base",
            "_model_module_version": "1.2.0",
            "_model_name": "LayoutModel",
            "_view_count": null,
            "_view_module": "@jupyter-widgets/base",
            "_view_module_version": "1.2.0",
            "_view_name": "LayoutView",
            "align_content": null,
            "align_items": null,
            "align_self": null,
            "border": null,
            "bottom": null,
            "display": null,
            "flex": null,
            "flex_flow": null,
            "grid_area": null,
            "grid_auto_columns": null,
            "grid_auto_flow": null,
            "grid_auto_rows": null,
            "grid_column": null,
            "grid_gap": null,
            "grid_row": null,
            "grid_template_areas": null,
            "grid_template_columns": null,
            "grid_template_rows": null,
            "height": null,
            "justify_content": null,
            "justify_items": null,
            "left": null,
            "margin": null,
            "max_height": null,
            "max_width": null,
            "min_height": null,
            "min_width": null,
            "object_fit": null,
            "object_position": null,
            "order": null,
            "overflow": null,
            "overflow_x": null,
            "overflow_y": null,
            "padding": null,
            "right": null,
            "top": null,
            "visibility": null,
            "width": null
          }
        },
        "a5393dc086f14483938ddb54790dc8ba": {
          "model_module": "@jupyter-widgets/controls",
          "model_name": "ProgressStyleModel",
          "model_module_version": "1.5.0",
          "state": {
            "_model_module": "@jupyter-widgets/controls",
            "_model_module_version": "1.5.0",
            "_model_name": "ProgressStyleModel",
            "_view_count": null,
            "_view_module": "@jupyter-widgets/base",
            "_view_module_version": "1.2.0",
            "_view_name": "StyleView",
            "bar_color": null,
            "description_width": ""
          }
        },
        "1d4074e901194e808730212d414e1ec2": {
          "model_module": "@jupyter-widgets/base",
          "model_name": "LayoutModel",
          "model_module_version": "1.2.0",
          "state": {
            "_model_module": "@jupyter-widgets/base",
            "_model_module_version": "1.2.0",
            "_model_name": "LayoutModel",
            "_view_count": null,
            "_view_module": "@jupyter-widgets/base",
            "_view_module_version": "1.2.0",
            "_view_name": "LayoutView",
            "align_content": null,
            "align_items": null,
            "align_self": null,
            "border": null,
            "bottom": null,
            "display": null,
            "flex": null,
            "flex_flow": null,
            "grid_area": null,
            "grid_auto_columns": null,
            "grid_auto_flow": null,
            "grid_auto_rows": null,
            "grid_column": null,
            "grid_gap": null,
            "grid_row": null,
            "grid_template_areas": null,
            "grid_template_columns": null,
            "grid_template_rows": null,
            "height": null,
            "justify_content": null,
            "justify_items": null,
            "left": null,
            "margin": null,
            "max_height": null,
            "max_width": null,
            "min_height": null,
            "min_width": null,
            "object_fit": null,
            "object_position": null,
            "order": null,
            "overflow": null,
            "overflow_x": null,
            "overflow_y": null,
            "padding": null,
            "right": null,
            "top": null,
            "visibility": null,
            "width": null
          }
        },
        "88a64bea359f49feaff9ac97679ead43": {
          "model_module": "@jupyter-widgets/controls",
          "model_name": "DescriptionStyleModel",
          "model_module_version": "1.5.0",
          "state": {
            "_model_module": "@jupyter-widgets/controls",
            "_model_module_version": "1.5.0",
            "_model_name": "DescriptionStyleModel",
            "_view_count": null,
            "_view_module": "@jupyter-widgets/base",
            "_view_module_version": "1.2.0",
            "_view_name": "StyleView",
            "description_width": ""
          }
        },
        "db19d04b481a48d498aed7fd7ab10bee": {
          "model_module": "@jupyter-widgets/controls",
          "model_name": "HBoxModel",
          "model_module_version": "1.5.0",
          "state": {
            "_dom_classes": [],
            "_model_module": "@jupyter-widgets/controls",
            "_model_module_version": "1.5.0",
            "_model_name": "HBoxModel",
            "_view_count": null,
            "_view_module": "@jupyter-widgets/controls",
            "_view_module_version": "1.5.0",
            "_view_name": "HBoxView",
            "box_style": "",
            "children": [
              "IPY_MODEL_4f87d3bd5ca844e5803a4189933be346",
              "IPY_MODEL_6c74103cf5604852a0f29cedf6f5d2de",
              "IPY_MODEL_7586af0547dc44fcafa62d044c566aea"
            ],
            "layout": "IPY_MODEL_d9de96edc8cd4914921d0bc10ae65b58"
          }
        },
        "4f87d3bd5ca844e5803a4189933be346": {
          "model_module": "@jupyter-widgets/controls",
          "model_name": "HTMLModel",
          "model_module_version": "1.5.0",
          "state": {
            "_dom_classes": [],
            "_model_module": "@jupyter-widgets/controls",
            "_model_module_version": "1.5.0",
            "_model_name": "HTMLModel",
            "_view_count": null,
            "_view_module": "@jupyter-widgets/controls",
            "_view_module_version": "1.5.0",
            "_view_name": "HTMLView",
            "description": "",
            "description_tooltip": null,
            "layout": "IPY_MODEL_ae4628c2f3a14c41af6f8295adbd5f0e",
            "placeholder": "​",
            "style": "IPY_MODEL_35a5c127ca0c4305823003cd898d9ac6",
            "value": "Downloading (…)lve/main/config.json: 100%"
          }
        },
        "6c74103cf5604852a0f29cedf6f5d2de": {
          "model_module": "@jupyter-widgets/controls",
          "model_name": "FloatProgressModel",
          "model_module_version": "1.5.0",
          "state": {
            "_dom_classes": [],
            "_model_module": "@jupyter-widgets/controls",
            "_model_module_version": "1.5.0",
            "_model_name": "FloatProgressModel",
            "_view_count": null,
            "_view_module": "@jupyter-widgets/controls",
            "_view_module_version": "1.5.0",
            "_view_name": "ProgressView",
            "bar_style": "success",
            "description": "",
            "description_tooltip": null,
            "layout": "IPY_MODEL_108210b9170c430a8f59ae96a3fa34dc",
            "max": 570,
            "min": 0,
            "orientation": "horizontal",
            "style": "IPY_MODEL_58b50446d73c4c23890ef3c02fd98359",
            "value": 570
          }
        },
        "7586af0547dc44fcafa62d044c566aea": {
          "model_module": "@jupyter-widgets/controls",
          "model_name": "HTMLModel",
          "model_module_version": "1.5.0",
          "state": {
            "_dom_classes": [],
            "_model_module": "@jupyter-widgets/controls",
            "_model_module_version": "1.5.0",
            "_model_name": "HTMLModel",
            "_view_count": null,
            "_view_module": "@jupyter-widgets/controls",
            "_view_module_version": "1.5.0",
            "_view_name": "HTMLView",
            "description": "",
            "description_tooltip": null,
            "layout": "IPY_MODEL_634c044e8d34479f97665958c47bcbe3",
            "placeholder": "​",
            "style": "IPY_MODEL_cb2aaca356164dfe84883c7e2cad0f6a",
            "value": " 570/570 [00:00&lt;00:00, 38.6kB/s]"
          }
        },
        "d9de96edc8cd4914921d0bc10ae65b58": {
          "model_module": "@jupyter-widgets/base",
          "model_name": "LayoutModel",
          "model_module_version": "1.2.0",
          "state": {
            "_model_module": "@jupyter-widgets/base",
            "_model_module_version": "1.2.0",
            "_model_name": "LayoutModel",
            "_view_count": null,
            "_view_module": "@jupyter-widgets/base",
            "_view_module_version": "1.2.0",
            "_view_name": "LayoutView",
            "align_content": null,
            "align_items": null,
            "align_self": null,
            "border": null,
            "bottom": null,
            "display": null,
            "flex": null,
            "flex_flow": null,
            "grid_area": null,
            "grid_auto_columns": null,
            "grid_auto_flow": null,
            "grid_auto_rows": null,
            "grid_column": null,
            "grid_gap": null,
            "grid_row": null,
            "grid_template_areas": null,
            "grid_template_columns": null,
            "grid_template_rows": null,
            "height": null,
            "justify_content": null,
            "justify_items": null,
            "left": null,
            "margin": null,
            "max_height": null,
            "max_width": null,
            "min_height": null,
            "min_width": null,
            "object_fit": null,
            "object_position": null,
            "order": null,
            "overflow": null,
            "overflow_x": null,
            "overflow_y": null,
            "padding": null,
            "right": null,
            "top": null,
            "visibility": null,
            "width": null
          }
        },
        "ae4628c2f3a14c41af6f8295adbd5f0e": {
          "model_module": "@jupyter-widgets/base",
          "model_name": "LayoutModel",
          "model_module_version": "1.2.0",
          "state": {
            "_model_module": "@jupyter-widgets/base",
            "_model_module_version": "1.2.0",
            "_model_name": "LayoutModel",
            "_view_count": null,
            "_view_module": "@jupyter-widgets/base",
            "_view_module_version": "1.2.0",
            "_view_name": "LayoutView",
            "align_content": null,
            "align_items": null,
            "align_self": null,
            "border": null,
            "bottom": null,
            "display": null,
            "flex": null,
            "flex_flow": null,
            "grid_area": null,
            "grid_auto_columns": null,
            "grid_auto_flow": null,
            "grid_auto_rows": null,
            "grid_column": null,
            "grid_gap": null,
            "grid_row": null,
            "grid_template_areas": null,
            "grid_template_columns": null,
            "grid_template_rows": null,
            "height": null,
            "justify_content": null,
            "justify_items": null,
            "left": null,
            "margin": null,
            "max_height": null,
            "max_width": null,
            "min_height": null,
            "min_width": null,
            "object_fit": null,
            "object_position": null,
            "order": null,
            "overflow": null,
            "overflow_x": null,
            "overflow_y": null,
            "padding": null,
            "right": null,
            "top": null,
            "visibility": null,
            "width": null
          }
        },
        "35a5c127ca0c4305823003cd898d9ac6": {
          "model_module": "@jupyter-widgets/controls",
          "model_name": "DescriptionStyleModel",
          "model_module_version": "1.5.0",
          "state": {
            "_model_module": "@jupyter-widgets/controls",
            "_model_module_version": "1.5.0",
            "_model_name": "DescriptionStyleModel",
            "_view_count": null,
            "_view_module": "@jupyter-widgets/base",
            "_view_module_version": "1.2.0",
            "_view_name": "StyleView",
            "description_width": ""
          }
        },
        "108210b9170c430a8f59ae96a3fa34dc": {
          "model_module": "@jupyter-widgets/base",
          "model_name": "LayoutModel",
          "model_module_version": "1.2.0",
          "state": {
            "_model_module": "@jupyter-widgets/base",
            "_model_module_version": "1.2.0",
            "_model_name": "LayoutModel",
            "_view_count": null,
            "_view_module": "@jupyter-widgets/base",
            "_view_module_version": "1.2.0",
            "_view_name": "LayoutView",
            "align_content": null,
            "align_items": null,
            "align_self": null,
            "border": null,
            "bottom": null,
            "display": null,
            "flex": null,
            "flex_flow": null,
            "grid_area": null,
            "grid_auto_columns": null,
            "grid_auto_flow": null,
            "grid_auto_rows": null,
            "grid_column": null,
            "grid_gap": null,
            "grid_row": null,
            "grid_template_areas": null,
            "grid_template_columns": null,
            "grid_template_rows": null,
            "height": null,
            "justify_content": null,
            "justify_items": null,
            "left": null,
            "margin": null,
            "max_height": null,
            "max_width": null,
            "min_height": null,
            "min_width": null,
            "object_fit": null,
            "object_position": null,
            "order": null,
            "overflow": null,
            "overflow_x": null,
            "overflow_y": null,
            "padding": null,
            "right": null,
            "top": null,
            "visibility": null,
            "width": null
          }
        },
        "58b50446d73c4c23890ef3c02fd98359": {
          "model_module": "@jupyter-widgets/controls",
          "model_name": "ProgressStyleModel",
          "model_module_version": "1.5.0",
          "state": {
            "_model_module": "@jupyter-widgets/controls",
            "_model_module_version": "1.5.0",
            "_model_name": "ProgressStyleModel",
            "_view_count": null,
            "_view_module": "@jupyter-widgets/base",
            "_view_module_version": "1.2.0",
            "_view_name": "StyleView",
            "bar_color": null,
            "description_width": ""
          }
        },
        "634c044e8d34479f97665958c47bcbe3": {
          "model_module": "@jupyter-widgets/base",
          "model_name": "LayoutModel",
          "model_module_version": "1.2.0",
          "state": {
            "_model_module": "@jupyter-widgets/base",
            "_model_module_version": "1.2.0",
            "_model_name": "LayoutModel",
            "_view_count": null,
            "_view_module": "@jupyter-widgets/base",
            "_view_module_version": "1.2.0",
            "_view_name": "LayoutView",
            "align_content": null,
            "align_items": null,
            "align_self": null,
            "border": null,
            "bottom": null,
            "display": null,
            "flex": null,
            "flex_flow": null,
            "grid_area": null,
            "grid_auto_columns": null,
            "grid_auto_flow": null,
            "grid_auto_rows": null,
            "grid_column": null,
            "grid_gap": null,
            "grid_row": null,
            "grid_template_areas": null,
            "grid_template_columns": null,
            "grid_template_rows": null,
            "height": null,
            "justify_content": null,
            "justify_items": null,
            "left": null,
            "margin": null,
            "max_height": null,
            "max_width": null,
            "min_height": null,
            "min_width": null,
            "object_fit": null,
            "object_position": null,
            "order": null,
            "overflow": null,
            "overflow_x": null,
            "overflow_y": null,
            "padding": null,
            "right": null,
            "top": null,
            "visibility": null,
            "width": null
          }
        },
        "cb2aaca356164dfe84883c7e2cad0f6a": {
          "model_module": "@jupyter-widgets/controls",
          "model_name": "DescriptionStyleModel",
          "model_module_version": "1.5.0",
          "state": {
            "_model_module": "@jupyter-widgets/controls",
            "_model_module_version": "1.5.0",
            "_model_name": "DescriptionStyleModel",
            "_view_count": null,
            "_view_module": "@jupyter-widgets/base",
            "_view_module_version": "1.2.0",
            "_view_name": "StyleView",
            "description_width": ""
          }
        },
        "e354ad429a6e4528ad95b3de737e509a": {
          "model_module": "@jupyter-widgets/controls",
          "model_name": "HBoxModel",
          "model_module_version": "1.5.0",
          "state": {
            "_dom_classes": [],
            "_model_module": "@jupyter-widgets/controls",
            "_model_module_version": "1.5.0",
            "_model_name": "HBoxModel",
            "_view_count": null,
            "_view_module": "@jupyter-widgets/controls",
            "_view_module_version": "1.5.0",
            "_view_name": "HBoxView",
            "box_style": "",
            "children": [
              "IPY_MODEL_2fbf24cb9b5c4248b3206c81d6413327",
              "IPY_MODEL_d83907c0ae6844e28da986e93a0d8ab7",
              "IPY_MODEL_47fe30af70c64d7187aa4093f2e657ed"
            ],
            "layout": "IPY_MODEL_f5150b44a5524e74b957e276b67ca1a1"
          }
        },
        "2fbf24cb9b5c4248b3206c81d6413327": {
          "model_module": "@jupyter-widgets/controls",
          "model_name": "HTMLModel",
          "model_module_version": "1.5.0",
          "state": {
            "_dom_classes": [],
            "_model_module": "@jupyter-widgets/controls",
            "_model_module_version": "1.5.0",
            "_model_name": "HTMLModel",
            "_view_count": null,
            "_view_module": "@jupyter-widgets/controls",
            "_view_module_version": "1.5.0",
            "_view_name": "HTMLView",
            "description": "",
            "description_tooltip": null,
            "layout": "IPY_MODEL_2f9af685f5fe44598b7f8c56396072f4",
            "placeholder": "​",
            "style": "IPY_MODEL_36276e82363f4873a788dc6ceab33e84",
            "value": "Downloading (…)solve/main/vocab.txt: 100%"
          }
        },
        "d83907c0ae6844e28da986e93a0d8ab7": {
          "model_module": "@jupyter-widgets/controls",
          "model_name": "FloatProgressModel",
          "model_module_version": "1.5.0",
          "state": {
            "_dom_classes": [],
            "_model_module": "@jupyter-widgets/controls",
            "_model_module_version": "1.5.0",
            "_model_name": "FloatProgressModel",
            "_view_count": null,
            "_view_module": "@jupyter-widgets/controls",
            "_view_module_version": "1.5.0",
            "_view_name": "ProgressView",
            "bar_style": "success",
            "description": "",
            "description_tooltip": null,
            "layout": "IPY_MODEL_deabb39808a24df9bfe70cc77642dc45",
            "max": 213450,
            "min": 0,
            "orientation": "horizontal",
            "style": "IPY_MODEL_e5f68fcbf93e4830b16b9a5f45e6f968",
            "value": 213450
          }
        },
        "47fe30af70c64d7187aa4093f2e657ed": {
          "model_module": "@jupyter-widgets/controls",
          "model_name": "HTMLModel",
          "model_module_version": "1.5.0",
          "state": {
            "_dom_classes": [],
            "_model_module": "@jupyter-widgets/controls",
            "_model_module_version": "1.5.0",
            "_model_name": "HTMLModel",
            "_view_count": null,
            "_view_module": "@jupyter-widgets/controls",
            "_view_module_version": "1.5.0",
            "_view_name": "HTMLView",
            "description": "",
            "description_tooltip": null,
            "layout": "IPY_MODEL_c88615d315f844b59051f7cd546db455",
            "placeholder": "​",
            "style": "IPY_MODEL_d53b536c657b472186bea74020ba8df6",
            "value": " 213k/213k [00:00&lt;00:00, 9.42MB/s]"
          }
        },
        "f5150b44a5524e74b957e276b67ca1a1": {
          "model_module": "@jupyter-widgets/base",
          "model_name": "LayoutModel",
          "model_module_version": "1.2.0",
          "state": {
            "_model_module": "@jupyter-widgets/base",
            "_model_module_version": "1.2.0",
            "_model_name": "LayoutModel",
            "_view_count": null,
            "_view_module": "@jupyter-widgets/base",
            "_view_module_version": "1.2.0",
            "_view_name": "LayoutView",
            "align_content": null,
            "align_items": null,
            "align_self": null,
            "border": null,
            "bottom": null,
            "display": null,
            "flex": null,
            "flex_flow": null,
            "grid_area": null,
            "grid_auto_columns": null,
            "grid_auto_flow": null,
            "grid_auto_rows": null,
            "grid_column": null,
            "grid_gap": null,
            "grid_row": null,
            "grid_template_areas": null,
            "grid_template_columns": null,
            "grid_template_rows": null,
            "height": null,
            "justify_content": null,
            "justify_items": null,
            "left": null,
            "margin": null,
            "max_height": null,
            "max_width": null,
            "min_height": null,
            "min_width": null,
            "object_fit": null,
            "object_position": null,
            "order": null,
            "overflow": null,
            "overflow_x": null,
            "overflow_y": null,
            "padding": null,
            "right": null,
            "top": null,
            "visibility": null,
            "width": null
          }
        },
        "2f9af685f5fe44598b7f8c56396072f4": {
          "model_module": "@jupyter-widgets/base",
          "model_name": "LayoutModel",
          "model_module_version": "1.2.0",
          "state": {
            "_model_module": "@jupyter-widgets/base",
            "_model_module_version": "1.2.0",
            "_model_name": "LayoutModel",
            "_view_count": null,
            "_view_module": "@jupyter-widgets/base",
            "_view_module_version": "1.2.0",
            "_view_name": "LayoutView",
            "align_content": null,
            "align_items": null,
            "align_self": null,
            "border": null,
            "bottom": null,
            "display": null,
            "flex": null,
            "flex_flow": null,
            "grid_area": null,
            "grid_auto_columns": null,
            "grid_auto_flow": null,
            "grid_auto_rows": null,
            "grid_column": null,
            "grid_gap": null,
            "grid_row": null,
            "grid_template_areas": null,
            "grid_template_columns": null,
            "grid_template_rows": null,
            "height": null,
            "justify_content": null,
            "justify_items": null,
            "left": null,
            "margin": null,
            "max_height": null,
            "max_width": null,
            "min_height": null,
            "min_width": null,
            "object_fit": null,
            "object_position": null,
            "order": null,
            "overflow": null,
            "overflow_x": null,
            "overflow_y": null,
            "padding": null,
            "right": null,
            "top": null,
            "visibility": null,
            "width": null
          }
        },
        "36276e82363f4873a788dc6ceab33e84": {
          "model_module": "@jupyter-widgets/controls",
          "model_name": "DescriptionStyleModel",
          "model_module_version": "1.5.0",
          "state": {
            "_model_module": "@jupyter-widgets/controls",
            "_model_module_version": "1.5.0",
            "_model_name": "DescriptionStyleModel",
            "_view_count": null,
            "_view_module": "@jupyter-widgets/base",
            "_view_module_version": "1.2.0",
            "_view_name": "StyleView",
            "description_width": ""
          }
        },
        "deabb39808a24df9bfe70cc77642dc45": {
          "model_module": "@jupyter-widgets/base",
          "model_name": "LayoutModel",
          "model_module_version": "1.2.0",
          "state": {
            "_model_module": "@jupyter-widgets/base",
            "_model_module_version": "1.2.0",
            "_model_name": "LayoutModel",
            "_view_count": null,
            "_view_module": "@jupyter-widgets/base",
            "_view_module_version": "1.2.0",
            "_view_name": "LayoutView",
            "align_content": null,
            "align_items": null,
            "align_self": null,
            "border": null,
            "bottom": null,
            "display": null,
            "flex": null,
            "flex_flow": null,
            "grid_area": null,
            "grid_auto_columns": null,
            "grid_auto_flow": null,
            "grid_auto_rows": null,
            "grid_column": null,
            "grid_gap": null,
            "grid_row": null,
            "grid_template_areas": null,
            "grid_template_columns": null,
            "grid_template_rows": null,
            "height": null,
            "justify_content": null,
            "justify_items": null,
            "left": null,
            "margin": null,
            "max_height": null,
            "max_width": null,
            "min_height": null,
            "min_width": null,
            "object_fit": null,
            "object_position": null,
            "order": null,
            "overflow": null,
            "overflow_x": null,
            "overflow_y": null,
            "padding": null,
            "right": null,
            "top": null,
            "visibility": null,
            "width": null
          }
        },
        "e5f68fcbf93e4830b16b9a5f45e6f968": {
          "model_module": "@jupyter-widgets/controls",
          "model_name": "ProgressStyleModel",
          "model_module_version": "1.5.0",
          "state": {
            "_model_module": "@jupyter-widgets/controls",
            "_model_module_version": "1.5.0",
            "_model_name": "ProgressStyleModel",
            "_view_count": null,
            "_view_module": "@jupyter-widgets/base",
            "_view_module_version": "1.2.0",
            "_view_name": "StyleView",
            "bar_color": null,
            "description_width": ""
          }
        },
        "c88615d315f844b59051f7cd546db455": {
          "model_module": "@jupyter-widgets/base",
          "model_name": "LayoutModel",
          "model_module_version": "1.2.0",
          "state": {
            "_model_module": "@jupyter-widgets/base",
            "_model_module_version": "1.2.0",
            "_model_name": "LayoutModel",
            "_view_count": null,
            "_view_module": "@jupyter-widgets/base",
            "_view_module_version": "1.2.0",
            "_view_name": "LayoutView",
            "align_content": null,
            "align_items": null,
            "align_self": null,
            "border": null,
            "bottom": null,
            "display": null,
            "flex": null,
            "flex_flow": null,
            "grid_area": null,
            "grid_auto_columns": null,
            "grid_auto_flow": null,
            "grid_auto_rows": null,
            "grid_column": null,
            "grid_gap": null,
            "grid_row": null,
            "grid_template_areas": null,
            "grid_template_columns": null,
            "grid_template_rows": null,
            "height": null,
            "justify_content": null,
            "justify_items": null,
            "left": null,
            "margin": null,
            "max_height": null,
            "max_width": null,
            "min_height": null,
            "min_width": null,
            "object_fit": null,
            "object_position": null,
            "order": null,
            "overflow": null,
            "overflow_x": null,
            "overflow_y": null,
            "padding": null,
            "right": null,
            "top": null,
            "visibility": null,
            "width": null
          }
        },
        "d53b536c657b472186bea74020ba8df6": {
          "model_module": "@jupyter-widgets/controls",
          "model_name": "DescriptionStyleModel",
          "model_module_version": "1.5.0",
          "state": {
            "_model_module": "@jupyter-widgets/controls",
            "_model_module_version": "1.5.0",
            "_model_name": "DescriptionStyleModel",
            "_view_count": null,
            "_view_module": "@jupyter-widgets/base",
            "_view_module_version": "1.2.0",
            "_view_name": "StyleView",
            "description_width": ""
          }
        },
        "9c39372b6f3a4552b6607da5e46884c4": {
          "model_module": "@jupyter-widgets/controls",
          "model_name": "HBoxModel",
          "model_module_version": "1.5.0",
          "state": {
            "_dom_classes": [],
            "_model_module": "@jupyter-widgets/controls",
            "_model_module_version": "1.5.0",
            "_model_name": "HBoxModel",
            "_view_count": null,
            "_view_module": "@jupyter-widgets/controls",
            "_view_module_version": "1.5.0",
            "_view_name": "HBoxView",
            "box_style": "",
            "children": [
              "IPY_MODEL_93d86ec9b3a24d7ba5dd9e6788c07575",
              "IPY_MODEL_1748bf6ffc0742409fdbf1f01e02ca70",
              "IPY_MODEL_453bcbf76a524613ae0ae24395d480c9"
            ],
            "layout": "IPY_MODEL_e988f1ef661c4032bda0ee4b4bb43859"
          }
        },
        "93d86ec9b3a24d7ba5dd9e6788c07575": {
          "model_module": "@jupyter-widgets/controls",
          "model_name": "HTMLModel",
          "model_module_version": "1.5.0",
          "state": {
            "_dom_classes": [],
            "_model_module": "@jupyter-widgets/controls",
            "_model_module_version": "1.5.0",
            "_model_name": "HTMLModel",
            "_view_count": null,
            "_view_module": "@jupyter-widgets/controls",
            "_view_module_version": "1.5.0",
            "_view_name": "HTMLView",
            "description": "",
            "description_tooltip": null,
            "layout": "IPY_MODEL_455a6d28d0b443e38e058268f0320675",
            "placeholder": "​",
            "style": "IPY_MODEL_49839ab48a544f99a3bdd6135e319d93",
            "value": "Downloading (…)cial_tokens_map.json: 100%"
          }
        },
        "1748bf6ffc0742409fdbf1f01e02ca70": {
          "model_module": "@jupyter-widgets/controls",
          "model_name": "FloatProgressModel",
          "model_module_version": "1.5.0",
          "state": {
            "_dom_classes": [],
            "_model_module": "@jupyter-widgets/controls",
            "_model_module_version": "1.5.0",
            "_model_name": "FloatProgressModel",
            "_view_count": null,
            "_view_module": "@jupyter-widgets/controls",
            "_view_module_version": "1.5.0",
            "_view_name": "ProgressView",
            "bar_style": "success",
            "description": "",
            "description_tooltip": null,
            "layout": "IPY_MODEL_062afa029cb7452fa5807081e073e46d",
            "max": 112,
            "min": 0,
            "orientation": "horizontal",
            "style": "IPY_MODEL_e2c0721cd5cc44c7a5a38e42b79b01dd",
            "value": 112
          }
        },
        "453bcbf76a524613ae0ae24395d480c9": {
          "model_module": "@jupyter-widgets/controls",
          "model_name": "HTMLModel",
          "model_module_version": "1.5.0",
          "state": {
            "_dom_classes": [],
            "_model_module": "@jupyter-widgets/controls",
            "_model_module_version": "1.5.0",
            "_model_name": "HTMLModel",
            "_view_count": null,
            "_view_module": "@jupyter-widgets/controls",
            "_view_module_version": "1.5.0",
            "_view_name": "HTMLView",
            "description": "",
            "description_tooltip": null,
            "layout": "IPY_MODEL_3c5db1f1a4a649bb8fb1620ed9d737e5",
            "placeholder": "​",
            "style": "IPY_MODEL_2049358396024966b48e8739e59dc305",
            "value": " 112/112 [00:00&lt;00:00, 9.39kB/s]"
          }
        },
        "e988f1ef661c4032bda0ee4b4bb43859": {
          "model_module": "@jupyter-widgets/base",
          "model_name": "LayoutModel",
          "model_module_version": "1.2.0",
          "state": {
            "_model_module": "@jupyter-widgets/base",
            "_model_module_version": "1.2.0",
            "_model_name": "LayoutModel",
            "_view_count": null,
            "_view_module": "@jupyter-widgets/base",
            "_view_module_version": "1.2.0",
            "_view_name": "LayoutView",
            "align_content": null,
            "align_items": null,
            "align_self": null,
            "border": null,
            "bottom": null,
            "display": null,
            "flex": null,
            "flex_flow": null,
            "grid_area": null,
            "grid_auto_columns": null,
            "grid_auto_flow": null,
            "grid_auto_rows": null,
            "grid_column": null,
            "grid_gap": null,
            "grid_row": null,
            "grid_template_areas": null,
            "grid_template_columns": null,
            "grid_template_rows": null,
            "height": null,
            "justify_content": null,
            "justify_items": null,
            "left": null,
            "margin": null,
            "max_height": null,
            "max_width": null,
            "min_height": null,
            "min_width": null,
            "object_fit": null,
            "object_position": null,
            "order": null,
            "overflow": null,
            "overflow_x": null,
            "overflow_y": null,
            "padding": null,
            "right": null,
            "top": null,
            "visibility": null,
            "width": null
          }
        },
        "455a6d28d0b443e38e058268f0320675": {
          "model_module": "@jupyter-widgets/base",
          "model_name": "LayoutModel",
          "model_module_version": "1.2.0",
          "state": {
            "_model_module": "@jupyter-widgets/base",
            "_model_module_version": "1.2.0",
            "_model_name": "LayoutModel",
            "_view_count": null,
            "_view_module": "@jupyter-widgets/base",
            "_view_module_version": "1.2.0",
            "_view_name": "LayoutView",
            "align_content": null,
            "align_items": null,
            "align_self": null,
            "border": null,
            "bottom": null,
            "display": null,
            "flex": null,
            "flex_flow": null,
            "grid_area": null,
            "grid_auto_columns": null,
            "grid_auto_flow": null,
            "grid_auto_rows": null,
            "grid_column": null,
            "grid_gap": null,
            "grid_row": null,
            "grid_template_areas": null,
            "grid_template_columns": null,
            "grid_template_rows": null,
            "height": null,
            "justify_content": null,
            "justify_items": null,
            "left": null,
            "margin": null,
            "max_height": null,
            "max_width": null,
            "min_height": null,
            "min_width": null,
            "object_fit": null,
            "object_position": null,
            "order": null,
            "overflow": null,
            "overflow_x": null,
            "overflow_y": null,
            "padding": null,
            "right": null,
            "top": null,
            "visibility": null,
            "width": null
          }
        },
        "49839ab48a544f99a3bdd6135e319d93": {
          "model_module": "@jupyter-widgets/controls",
          "model_name": "DescriptionStyleModel",
          "model_module_version": "1.5.0",
          "state": {
            "_model_module": "@jupyter-widgets/controls",
            "_model_module_version": "1.5.0",
            "_model_name": "DescriptionStyleModel",
            "_view_count": null,
            "_view_module": "@jupyter-widgets/base",
            "_view_module_version": "1.2.0",
            "_view_name": "StyleView",
            "description_width": ""
          }
        },
        "062afa029cb7452fa5807081e073e46d": {
          "model_module": "@jupyter-widgets/base",
          "model_name": "LayoutModel",
          "model_module_version": "1.2.0",
          "state": {
            "_model_module": "@jupyter-widgets/base",
            "_model_module_version": "1.2.0",
            "_model_name": "LayoutModel",
            "_view_count": null,
            "_view_module": "@jupyter-widgets/base",
            "_view_module_version": "1.2.0",
            "_view_name": "LayoutView",
            "align_content": null,
            "align_items": null,
            "align_self": null,
            "border": null,
            "bottom": null,
            "display": null,
            "flex": null,
            "flex_flow": null,
            "grid_area": null,
            "grid_auto_columns": null,
            "grid_auto_flow": null,
            "grid_auto_rows": null,
            "grid_column": null,
            "grid_gap": null,
            "grid_row": null,
            "grid_template_areas": null,
            "grid_template_columns": null,
            "grid_template_rows": null,
            "height": null,
            "justify_content": null,
            "justify_items": null,
            "left": null,
            "margin": null,
            "max_height": null,
            "max_width": null,
            "min_height": null,
            "min_width": null,
            "object_fit": null,
            "object_position": null,
            "order": null,
            "overflow": null,
            "overflow_x": null,
            "overflow_y": null,
            "padding": null,
            "right": null,
            "top": null,
            "visibility": null,
            "width": null
          }
        },
        "e2c0721cd5cc44c7a5a38e42b79b01dd": {
          "model_module": "@jupyter-widgets/controls",
          "model_name": "ProgressStyleModel",
          "model_module_version": "1.5.0",
          "state": {
            "_model_module": "@jupyter-widgets/controls",
            "_model_module_version": "1.5.0",
            "_model_name": "ProgressStyleModel",
            "_view_count": null,
            "_view_module": "@jupyter-widgets/base",
            "_view_module_version": "1.2.0",
            "_view_name": "StyleView",
            "bar_color": null,
            "description_width": ""
          }
        },
        "3c5db1f1a4a649bb8fb1620ed9d737e5": {
          "model_module": "@jupyter-widgets/base",
          "model_name": "LayoutModel",
          "model_module_version": "1.2.0",
          "state": {
            "_model_module": "@jupyter-widgets/base",
            "_model_module_version": "1.2.0",
            "_model_name": "LayoutModel",
            "_view_count": null,
            "_view_module": "@jupyter-widgets/base",
            "_view_module_version": "1.2.0",
            "_view_name": "LayoutView",
            "align_content": null,
            "align_items": null,
            "align_self": null,
            "border": null,
            "bottom": null,
            "display": null,
            "flex": null,
            "flex_flow": null,
            "grid_area": null,
            "grid_auto_columns": null,
            "grid_auto_flow": null,
            "grid_auto_rows": null,
            "grid_column": null,
            "grid_gap": null,
            "grid_row": null,
            "grid_template_areas": null,
            "grid_template_columns": null,
            "grid_template_rows": null,
            "height": null,
            "justify_content": null,
            "justify_items": null,
            "left": null,
            "margin": null,
            "max_height": null,
            "max_width": null,
            "min_height": null,
            "min_width": null,
            "object_fit": null,
            "object_position": null,
            "order": null,
            "overflow": null,
            "overflow_x": null,
            "overflow_y": null,
            "padding": null,
            "right": null,
            "top": null,
            "visibility": null,
            "width": null
          }
        },
        "2049358396024966b48e8739e59dc305": {
          "model_module": "@jupyter-widgets/controls",
          "model_name": "DescriptionStyleModel",
          "model_module_version": "1.5.0",
          "state": {
            "_model_module": "@jupyter-widgets/controls",
            "_model_module_version": "1.5.0",
            "_model_name": "DescriptionStyleModel",
            "_view_count": null,
            "_view_module": "@jupyter-widgets/base",
            "_view_module_version": "1.2.0",
            "_view_name": "StyleView",
            "description_width": ""
          }
        },
        "01973b62138c4fe9842a5e0e5d0d8fe8": {
          "model_module": "@jupyter-widgets/controls",
          "model_name": "HBoxModel",
          "model_module_version": "1.5.0",
          "state": {
            "_dom_classes": [],
            "_model_module": "@jupyter-widgets/controls",
            "_model_module_version": "1.5.0",
            "_model_name": "HBoxModel",
            "_view_count": null,
            "_view_module": "@jupyter-widgets/controls",
            "_view_module_version": "1.5.0",
            "_view_name": "HBoxView",
            "box_style": "",
            "children": [
              "IPY_MODEL_c45d73ff11cf4018af4f3547b306b64e",
              "IPY_MODEL_da327270ebc7444582376658fc6f90e6",
              "IPY_MODEL_1278f563923045d79a8794a391c2f84b"
            ],
            "layout": "IPY_MODEL_2aff02c0c8764da5ab2ca379840d2edb"
          }
        },
        "c45d73ff11cf4018af4f3547b306b64e": {
          "model_module": "@jupyter-widgets/controls",
          "model_name": "HTMLModel",
          "model_module_version": "1.5.0",
          "state": {
            "_dom_classes": [],
            "_model_module": "@jupyter-widgets/controls",
            "_model_module_version": "1.5.0",
            "_model_name": "HTMLModel",
            "_view_count": null,
            "_view_module": "@jupyter-widgets/controls",
            "_view_module_version": "1.5.0",
            "_view_name": "HTMLView",
            "description": "",
            "description_tooltip": null,
            "layout": "IPY_MODEL_85bd4cd1803b413f98856ceac8bda2a2",
            "placeholder": "​",
            "style": "IPY_MODEL_079b2c406ee94a05995dadfaf791eb5c",
            "value": "Downloading (…)okenizer_config.json: 100%"
          }
        },
        "da327270ebc7444582376658fc6f90e6": {
          "model_module": "@jupyter-widgets/controls",
          "model_name": "FloatProgressModel",
          "model_module_version": "1.5.0",
          "state": {
            "_dom_classes": [],
            "_model_module": "@jupyter-widgets/controls",
            "_model_module_version": "1.5.0",
            "_model_name": "FloatProgressModel",
            "_view_count": null,
            "_view_module": "@jupyter-widgets/controls",
            "_view_module_version": "1.5.0",
            "_view_name": "ProgressView",
            "bar_style": "success",
            "description": "",
            "description_tooltip": null,
            "layout": "IPY_MODEL_2300bd5d99cd4349887914b542d3c95e",
            "max": 152,
            "min": 0,
            "orientation": "horizontal",
            "style": "IPY_MODEL_a45aea2418904315b71466a0fc9ac29a",
            "value": 152
          }
        },
        "1278f563923045d79a8794a391c2f84b": {
          "model_module": "@jupyter-widgets/controls",
          "model_name": "HTMLModel",
          "model_module_version": "1.5.0",
          "state": {
            "_dom_classes": [],
            "_model_module": "@jupyter-widgets/controls",
            "_model_module_version": "1.5.0",
            "_model_name": "HTMLModel",
            "_view_count": null,
            "_view_module": "@jupyter-widgets/controls",
            "_view_module_version": "1.5.0",
            "_view_name": "HTMLView",
            "description": "",
            "description_tooltip": null,
            "layout": "IPY_MODEL_91fc24084a834f5e955b6ac54b0f2520",
            "placeholder": "​",
            "style": "IPY_MODEL_6fa4e63fc7ed49a4997b85c9162bcf70",
            "value": " 152/152 [00:00&lt;00:00, 11.7kB/s]"
          }
        },
        "2aff02c0c8764da5ab2ca379840d2edb": {
          "model_module": "@jupyter-widgets/base",
          "model_name": "LayoutModel",
          "model_module_version": "1.2.0",
          "state": {
            "_model_module": "@jupyter-widgets/base",
            "_model_module_version": "1.2.0",
            "_model_name": "LayoutModel",
            "_view_count": null,
            "_view_module": "@jupyter-widgets/base",
            "_view_module_version": "1.2.0",
            "_view_name": "LayoutView",
            "align_content": null,
            "align_items": null,
            "align_self": null,
            "border": null,
            "bottom": null,
            "display": null,
            "flex": null,
            "flex_flow": null,
            "grid_area": null,
            "grid_auto_columns": null,
            "grid_auto_flow": null,
            "grid_auto_rows": null,
            "grid_column": null,
            "grid_gap": null,
            "grid_row": null,
            "grid_template_areas": null,
            "grid_template_columns": null,
            "grid_template_rows": null,
            "height": null,
            "justify_content": null,
            "justify_items": null,
            "left": null,
            "margin": null,
            "max_height": null,
            "max_width": null,
            "min_height": null,
            "min_width": null,
            "object_fit": null,
            "object_position": null,
            "order": null,
            "overflow": null,
            "overflow_x": null,
            "overflow_y": null,
            "padding": null,
            "right": null,
            "top": null,
            "visibility": null,
            "width": null
          }
        },
        "85bd4cd1803b413f98856ceac8bda2a2": {
          "model_module": "@jupyter-widgets/base",
          "model_name": "LayoutModel",
          "model_module_version": "1.2.0",
          "state": {
            "_model_module": "@jupyter-widgets/base",
            "_model_module_version": "1.2.0",
            "_model_name": "LayoutModel",
            "_view_count": null,
            "_view_module": "@jupyter-widgets/base",
            "_view_module_version": "1.2.0",
            "_view_name": "LayoutView",
            "align_content": null,
            "align_items": null,
            "align_self": null,
            "border": null,
            "bottom": null,
            "display": null,
            "flex": null,
            "flex_flow": null,
            "grid_area": null,
            "grid_auto_columns": null,
            "grid_auto_flow": null,
            "grid_auto_rows": null,
            "grid_column": null,
            "grid_gap": null,
            "grid_row": null,
            "grid_template_areas": null,
            "grid_template_columns": null,
            "grid_template_rows": null,
            "height": null,
            "justify_content": null,
            "justify_items": null,
            "left": null,
            "margin": null,
            "max_height": null,
            "max_width": null,
            "min_height": null,
            "min_width": null,
            "object_fit": null,
            "object_position": null,
            "order": null,
            "overflow": null,
            "overflow_x": null,
            "overflow_y": null,
            "padding": null,
            "right": null,
            "top": null,
            "visibility": null,
            "width": null
          }
        },
        "079b2c406ee94a05995dadfaf791eb5c": {
          "model_module": "@jupyter-widgets/controls",
          "model_name": "DescriptionStyleModel",
          "model_module_version": "1.5.0",
          "state": {
            "_model_module": "@jupyter-widgets/controls",
            "_model_module_version": "1.5.0",
            "_model_name": "DescriptionStyleModel",
            "_view_count": null,
            "_view_module": "@jupyter-widgets/base",
            "_view_module_version": "1.2.0",
            "_view_name": "StyleView",
            "description_width": ""
          }
        },
        "2300bd5d99cd4349887914b542d3c95e": {
          "model_module": "@jupyter-widgets/base",
          "model_name": "LayoutModel",
          "model_module_version": "1.2.0",
          "state": {
            "_model_module": "@jupyter-widgets/base",
            "_model_module_version": "1.2.0",
            "_model_name": "LayoutModel",
            "_view_count": null,
            "_view_module": "@jupyter-widgets/base",
            "_view_module_version": "1.2.0",
            "_view_name": "LayoutView",
            "align_content": null,
            "align_items": null,
            "align_self": null,
            "border": null,
            "bottom": null,
            "display": null,
            "flex": null,
            "flex_flow": null,
            "grid_area": null,
            "grid_auto_columns": null,
            "grid_auto_flow": null,
            "grid_auto_rows": null,
            "grid_column": null,
            "grid_gap": null,
            "grid_row": null,
            "grid_template_areas": null,
            "grid_template_columns": null,
            "grid_template_rows": null,
            "height": null,
            "justify_content": null,
            "justify_items": null,
            "left": null,
            "margin": null,
            "max_height": null,
            "max_width": null,
            "min_height": null,
            "min_width": null,
            "object_fit": null,
            "object_position": null,
            "order": null,
            "overflow": null,
            "overflow_x": null,
            "overflow_y": null,
            "padding": null,
            "right": null,
            "top": null,
            "visibility": null,
            "width": null
          }
        },
        "a45aea2418904315b71466a0fc9ac29a": {
          "model_module": "@jupyter-widgets/controls",
          "model_name": "ProgressStyleModel",
          "model_module_version": "1.5.0",
          "state": {
            "_model_module": "@jupyter-widgets/controls",
            "_model_module_version": "1.5.0",
            "_model_name": "ProgressStyleModel",
            "_view_count": null,
            "_view_module": "@jupyter-widgets/base",
            "_view_module_version": "1.2.0",
            "_view_name": "StyleView",
            "bar_color": null,
            "description_width": ""
          }
        },
        "91fc24084a834f5e955b6ac54b0f2520": {
          "model_module": "@jupyter-widgets/base",
          "model_name": "LayoutModel",
          "model_module_version": "1.2.0",
          "state": {
            "_model_module": "@jupyter-widgets/base",
            "_model_module_version": "1.2.0",
            "_model_name": "LayoutModel",
            "_view_count": null,
            "_view_module": "@jupyter-widgets/base",
            "_view_module_version": "1.2.0",
            "_view_name": "LayoutView",
            "align_content": null,
            "align_items": null,
            "align_self": null,
            "border": null,
            "bottom": null,
            "display": null,
            "flex": null,
            "flex_flow": null,
            "grid_area": null,
            "grid_auto_columns": null,
            "grid_auto_flow": null,
            "grid_auto_rows": null,
            "grid_column": null,
            "grid_gap": null,
            "grid_row": null,
            "grid_template_areas": null,
            "grid_template_columns": null,
            "grid_template_rows": null,
            "height": null,
            "justify_content": null,
            "justify_items": null,
            "left": null,
            "margin": null,
            "max_height": null,
            "max_width": null,
            "min_height": null,
            "min_width": null,
            "object_fit": null,
            "object_position": null,
            "order": null,
            "overflow": null,
            "overflow_x": null,
            "overflow_y": null,
            "padding": null,
            "right": null,
            "top": null,
            "visibility": null,
            "width": null
          }
        },
        "6fa4e63fc7ed49a4997b85c9162bcf70": {
          "model_module": "@jupyter-widgets/controls",
          "model_name": "DescriptionStyleModel",
          "model_module_version": "1.5.0",
          "state": {
            "_model_module": "@jupyter-widgets/controls",
            "_model_module_version": "1.5.0",
            "_model_name": "DescriptionStyleModel",
            "_view_count": null,
            "_view_module": "@jupyter-widgets/base",
            "_view_module_version": "1.2.0",
            "_view_name": "StyleView",
            "description_width": ""
          }
        },
        "58f77cc60e0d407bb77ac766686675bc": {
          "model_module": "@jupyter-widgets/controls",
          "model_name": "HBoxModel",
          "model_module_version": "1.5.0",
          "state": {
            "_dom_classes": [],
            "_model_module": "@jupyter-widgets/controls",
            "_model_module_version": "1.5.0",
            "_model_name": "HBoxModel",
            "_view_count": null,
            "_view_module": "@jupyter-widgets/controls",
            "_view_module_version": "1.5.0",
            "_view_name": "HBoxView",
            "box_style": "",
            "children": [
              "IPY_MODEL_834ef3be2aab42d8b44c4432d2a5c901",
              "IPY_MODEL_aef387a7fee54764b5d446f47949d13b",
              "IPY_MODEL_5a4dad0c1e1b474a96204033f8aa32e8"
            ],
            "layout": "IPY_MODEL_71308d14c1a04f39be85f90522c9d870"
          }
        },
        "834ef3be2aab42d8b44c4432d2a5c901": {
          "model_module": "@jupyter-widgets/controls",
          "model_name": "HTMLModel",
          "model_module_version": "1.5.0",
          "state": {
            "_dom_classes": [],
            "_model_module": "@jupyter-widgets/controls",
            "_model_module_version": "1.5.0",
            "_model_name": "HTMLModel",
            "_view_count": null,
            "_view_module": "@jupyter-widgets/controls",
            "_view_module_version": "1.5.0",
            "_view_name": "HTMLView",
            "description": "",
            "description_tooltip": null,
            "layout": "IPY_MODEL_80332136b4ba4342a719073c1f8918e0",
            "placeholder": "​",
            "style": "IPY_MODEL_981fa33c36b94589a378bfc4ccc9a821",
            "value": "Downloading (…)lve/main/config.json: 100%"
          }
        },
        "aef387a7fee54764b5d446f47949d13b": {
          "model_module": "@jupyter-widgets/controls",
          "model_name": "FloatProgressModel",
          "model_module_version": "1.5.0",
          "state": {
            "_dom_classes": [],
            "_model_module": "@jupyter-widgets/controls",
            "_model_module_version": "1.5.0",
            "_model_name": "FloatProgressModel",
            "_view_count": null,
            "_view_module": "@jupyter-widgets/controls",
            "_view_module_version": "1.5.0",
            "_view_name": "ProgressView",
            "bar_style": "success",
            "description": "",
            "description_tooltip": null,
            "layout": "IPY_MODEL_8bb33817c5614aa68bb60426858548ce",
            "max": 508,
            "min": 0,
            "orientation": "horizontal",
            "style": "IPY_MODEL_07b1b1e7c4344ffd92e8a044c4e3f8b2",
            "value": 508
          }
        },
        "5a4dad0c1e1b474a96204033f8aa32e8": {
          "model_module": "@jupyter-widgets/controls",
          "model_name": "HTMLModel",
          "model_module_version": "1.5.0",
          "state": {
            "_dom_classes": [],
            "_model_module": "@jupyter-widgets/controls",
            "_model_module_version": "1.5.0",
            "_model_name": "HTMLModel",
            "_view_count": null,
            "_view_module": "@jupyter-widgets/controls",
            "_view_module_version": "1.5.0",
            "_view_name": "HTMLView",
            "description": "",
            "description_tooltip": null,
            "layout": "IPY_MODEL_901841dd647040da8e7d87bd45b88194",
            "placeholder": "​",
            "style": "IPY_MODEL_e85b990933af46c4a71d558e85603254",
            "value": " 508/508 [00:00&lt;00:00, 37.4kB/s]"
          }
        },
        "71308d14c1a04f39be85f90522c9d870": {
          "model_module": "@jupyter-widgets/base",
          "model_name": "LayoutModel",
          "model_module_version": "1.2.0",
          "state": {
            "_model_module": "@jupyter-widgets/base",
            "_model_module_version": "1.2.0",
            "_model_name": "LayoutModel",
            "_view_count": null,
            "_view_module": "@jupyter-widgets/base",
            "_view_module_version": "1.2.0",
            "_view_name": "LayoutView",
            "align_content": null,
            "align_items": null,
            "align_self": null,
            "border": null,
            "bottom": null,
            "display": null,
            "flex": null,
            "flex_flow": null,
            "grid_area": null,
            "grid_auto_columns": null,
            "grid_auto_flow": null,
            "grid_auto_rows": null,
            "grid_column": null,
            "grid_gap": null,
            "grid_row": null,
            "grid_template_areas": null,
            "grid_template_columns": null,
            "grid_template_rows": null,
            "height": null,
            "justify_content": null,
            "justify_items": null,
            "left": null,
            "margin": null,
            "max_height": null,
            "max_width": null,
            "min_height": null,
            "min_width": null,
            "object_fit": null,
            "object_position": null,
            "order": null,
            "overflow": null,
            "overflow_x": null,
            "overflow_y": null,
            "padding": null,
            "right": null,
            "top": null,
            "visibility": null,
            "width": null
          }
        },
        "80332136b4ba4342a719073c1f8918e0": {
          "model_module": "@jupyter-widgets/base",
          "model_name": "LayoutModel",
          "model_module_version": "1.2.0",
          "state": {
            "_model_module": "@jupyter-widgets/base",
            "_model_module_version": "1.2.0",
            "_model_name": "LayoutModel",
            "_view_count": null,
            "_view_module": "@jupyter-widgets/base",
            "_view_module_version": "1.2.0",
            "_view_name": "LayoutView",
            "align_content": null,
            "align_items": null,
            "align_self": null,
            "border": null,
            "bottom": null,
            "display": null,
            "flex": null,
            "flex_flow": null,
            "grid_area": null,
            "grid_auto_columns": null,
            "grid_auto_flow": null,
            "grid_auto_rows": null,
            "grid_column": null,
            "grid_gap": null,
            "grid_row": null,
            "grid_template_areas": null,
            "grid_template_columns": null,
            "grid_template_rows": null,
            "height": null,
            "justify_content": null,
            "justify_items": null,
            "left": null,
            "margin": null,
            "max_height": null,
            "max_width": null,
            "min_height": null,
            "min_width": null,
            "object_fit": null,
            "object_position": null,
            "order": null,
            "overflow": null,
            "overflow_x": null,
            "overflow_y": null,
            "padding": null,
            "right": null,
            "top": null,
            "visibility": null,
            "width": null
          }
        },
        "981fa33c36b94589a378bfc4ccc9a821": {
          "model_module": "@jupyter-widgets/controls",
          "model_name": "DescriptionStyleModel",
          "model_module_version": "1.5.0",
          "state": {
            "_model_module": "@jupyter-widgets/controls",
            "_model_module_version": "1.5.0",
            "_model_name": "DescriptionStyleModel",
            "_view_count": null,
            "_view_module": "@jupyter-widgets/base",
            "_view_module_version": "1.2.0",
            "_view_name": "StyleView",
            "description_width": ""
          }
        },
        "8bb33817c5614aa68bb60426858548ce": {
          "model_module": "@jupyter-widgets/base",
          "model_name": "LayoutModel",
          "model_module_version": "1.2.0",
          "state": {
            "_model_module": "@jupyter-widgets/base",
            "_model_module_version": "1.2.0",
            "_model_name": "LayoutModel",
            "_view_count": null,
            "_view_module": "@jupyter-widgets/base",
            "_view_module_version": "1.2.0",
            "_view_name": "LayoutView",
            "align_content": null,
            "align_items": null,
            "align_self": null,
            "border": null,
            "bottom": null,
            "display": null,
            "flex": null,
            "flex_flow": null,
            "grid_area": null,
            "grid_auto_columns": null,
            "grid_auto_flow": null,
            "grid_auto_rows": null,
            "grid_column": null,
            "grid_gap": null,
            "grid_row": null,
            "grid_template_areas": null,
            "grid_template_columns": null,
            "grid_template_rows": null,
            "height": null,
            "justify_content": null,
            "justify_items": null,
            "left": null,
            "margin": null,
            "max_height": null,
            "max_width": null,
            "min_height": null,
            "min_width": null,
            "object_fit": null,
            "object_position": null,
            "order": null,
            "overflow": null,
            "overflow_x": null,
            "overflow_y": null,
            "padding": null,
            "right": null,
            "top": null,
            "visibility": null,
            "width": null
          }
        },
        "07b1b1e7c4344ffd92e8a044c4e3f8b2": {
          "model_module": "@jupyter-widgets/controls",
          "model_name": "ProgressStyleModel",
          "model_module_version": "1.5.0",
          "state": {
            "_model_module": "@jupyter-widgets/controls",
            "_model_module_version": "1.5.0",
            "_model_name": "ProgressStyleModel",
            "_view_count": null,
            "_view_module": "@jupyter-widgets/base",
            "_view_module_version": "1.2.0",
            "_view_name": "StyleView",
            "bar_color": null,
            "description_width": ""
          }
        },
        "901841dd647040da8e7d87bd45b88194": {
          "model_module": "@jupyter-widgets/base",
          "model_name": "LayoutModel",
          "model_module_version": "1.2.0",
          "state": {
            "_model_module": "@jupyter-widgets/base",
            "_model_module_version": "1.2.0",
            "_model_name": "LayoutModel",
            "_view_count": null,
            "_view_module": "@jupyter-widgets/base",
            "_view_module_version": "1.2.0",
            "_view_name": "LayoutView",
            "align_content": null,
            "align_items": null,
            "align_self": null,
            "border": null,
            "bottom": null,
            "display": null,
            "flex": null,
            "flex_flow": null,
            "grid_area": null,
            "grid_auto_columns": null,
            "grid_auto_flow": null,
            "grid_auto_rows": null,
            "grid_column": null,
            "grid_gap": null,
            "grid_row": null,
            "grid_template_areas": null,
            "grid_template_columns": null,
            "grid_template_rows": null,
            "height": null,
            "justify_content": null,
            "justify_items": null,
            "left": null,
            "margin": null,
            "max_height": null,
            "max_width": null,
            "min_height": null,
            "min_width": null,
            "object_fit": null,
            "object_position": null,
            "order": null,
            "overflow": null,
            "overflow_x": null,
            "overflow_y": null,
            "padding": null,
            "right": null,
            "top": null,
            "visibility": null,
            "width": null
          }
        },
        "e85b990933af46c4a71d558e85603254": {
          "model_module": "@jupyter-widgets/controls",
          "model_name": "DescriptionStyleModel",
          "model_module_version": "1.5.0",
          "state": {
            "_model_module": "@jupyter-widgets/controls",
            "_model_module_version": "1.5.0",
            "_model_name": "DescriptionStyleModel",
            "_view_count": null,
            "_view_module": "@jupyter-widgets/base",
            "_view_module_version": "1.2.0",
            "_view_name": "StyleView",
            "description_width": ""
          }
        },
        "24abcd5c76324898a52e6c20e2d27108": {
          "model_module": "@jupyter-widgets/controls",
          "model_name": "HBoxModel",
          "model_module_version": "1.5.0",
          "state": {
            "_dom_classes": [],
            "_model_module": "@jupyter-widgets/controls",
            "_model_module_version": "1.5.0",
            "_model_name": "HBoxModel",
            "_view_count": null,
            "_view_module": "@jupyter-widgets/controls",
            "_view_module_version": "1.5.0",
            "_view_name": "HBoxView",
            "box_style": "",
            "children": [
              "IPY_MODEL_ebae19e704764f08b2a75d1229f44ac6",
              "IPY_MODEL_323ff42c3d8a44f8aa7657411f061b47",
              "IPY_MODEL_a1849767e2d74659a4e3f2e82bb134fd"
            ],
            "layout": "IPY_MODEL_fa1f1ccb18df427aa60413334356d698"
          }
        },
        "ebae19e704764f08b2a75d1229f44ac6": {
          "model_module": "@jupyter-widgets/controls",
          "model_name": "HTMLModel",
          "model_module_version": "1.5.0",
          "state": {
            "_dom_classes": [],
            "_model_module": "@jupyter-widgets/controls",
            "_model_module_version": "1.5.0",
            "_model_name": "HTMLModel",
            "_view_count": null,
            "_view_module": "@jupyter-widgets/controls",
            "_view_module_version": "1.5.0",
            "_view_name": "HTMLView",
            "description": "",
            "description_tooltip": null,
            "layout": "IPY_MODEL_cd99f234b24a4c7c91818f6c4eb59f52",
            "placeholder": "​",
            "style": "IPY_MODEL_8a413613fe4d4cdeaf36c175eaae89b6",
            "value": "Downloading pytorch_model.bin: 100%"
          }
        },
        "323ff42c3d8a44f8aa7657411f061b47": {
          "model_module": "@jupyter-widgets/controls",
          "model_name": "FloatProgressModel",
          "model_module_version": "1.5.0",
          "state": {
            "_dom_classes": [],
            "_model_module": "@jupyter-widgets/controls",
            "_model_module_version": "1.5.0",
            "_model_name": "FloatProgressModel",
            "_view_count": null,
            "_view_module": "@jupyter-widgets/controls",
            "_view_module_version": "1.5.0",
            "_view_name": "ProgressView",
            "bar_style": "success",
            "description": "",
            "description_tooltip": null,
            "layout": "IPY_MODEL_4a1fa7b8a06b4c2881b11d4a83d718f6",
            "max": 433294681,
            "min": 0,
            "orientation": "horizontal",
            "style": "IPY_MODEL_b52205df99e945f7a177ff70f4480a24",
            "value": 433294681
          }
        },
        "a1849767e2d74659a4e3f2e82bb134fd": {
          "model_module": "@jupyter-widgets/controls",
          "model_name": "HTMLModel",
          "model_module_version": "1.5.0",
          "state": {
            "_dom_classes": [],
            "_model_module": "@jupyter-widgets/controls",
            "_model_module_version": "1.5.0",
            "_model_name": "HTMLModel",
            "_view_count": null,
            "_view_module": "@jupyter-widgets/controls",
            "_view_module_version": "1.5.0",
            "_view_name": "HTMLView",
            "description": "",
            "description_tooltip": null,
            "layout": "IPY_MODEL_89eba696ada04dc79a20ac80efcbf2d8",
            "placeholder": "​",
            "style": "IPY_MODEL_83f9fd7ff0b14bb6a4e2b351f291385b",
            "value": " 433M/433M [00:02&lt;00:00, 216MB/s]"
          }
        },
        "fa1f1ccb18df427aa60413334356d698": {
          "model_module": "@jupyter-widgets/base",
          "model_name": "LayoutModel",
          "model_module_version": "1.2.0",
          "state": {
            "_model_module": "@jupyter-widgets/base",
            "_model_module_version": "1.2.0",
            "_model_name": "LayoutModel",
            "_view_count": null,
            "_view_module": "@jupyter-widgets/base",
            "_view_module_version": "1.2.0",
            "_view_name": "LayoutView",
            "align_content": null,
            "align_items": null,
            "align_self": null,
            "border": null,
            "bottom": null,
            "display": null,
            "flex": null,
            "flex_flow": null,
            "grid_area": null,
            "grid_auto_columns": null,
            "grid_auto_flow": null,
            "grid_auto_rows": null,
            "grid_column": null,
            "grid_gap": null,
            "grid_row": null,
            "grid_template_areas": null,
            "grid_template_columns": null,
            "grid_template_rows": null,
            "height": null,
            "justify_content": null,
            "justify_items": null,
            "left": null,
            "margin": null,
            "max_height": null,
            "max_width": null,
            "min_height": null,
            "min_width": null,
            "object_fit": null,
            "object_position": null,
            "order": null,
            "overflow": null,
            "overflow_x": null,
            "overflow_y": null,
            "padding": null,
            "right": null,
            "top": null,
            "visibility": null,
            "width": null
          }
        },
        "cd99f234b24a4c7c91818f6c4eb59f52": {
          "model_module": "@jupyter-widgets/base",
          "model_name": "LayoutModel",
          "model_module_version": "1.2.0",
          "state": {
            "_model_module": "@jupyter-widgets/base",
            "_model_module_version": "1.2.0",
            "_model_name": "LayoutModel",
            "_view_count": null,
            "_view_module": "@jupyter-widgets/base",
            "_view_module_version": "1.2.0",
            "_view_name": "LayoutView",
            "align_content": null,
            "align_items": null,
            "align_self": null,
            "border": null,
            "bottom": null,
            "display": null,
            "flex": null,
            "flex_flow": null,
            "grid_area": null,
            "grid_auto_columns": null,
            "grid_auto_flow": null,
            "grid_auto_rows": null,
            "grid_column": null,
            "grid_gap": null,
            "grid_row": null,
            "grid_template_areas": null,
            "grid_template_columns": null,
            "grid_template_rows": null,
            "height": null,
            "justify_content": null,
            "justify_items": null,
            "left": null,
            "margin": null,
            "max_height": null,
            "max_width": null,
            "min_height": null,
            "min_width": null,
            "object_fit": null,
            "object_position": null,
            "order": null,
            "overflow": null,
            "overflow_x": null,
            "overflow_y": null,
            "padding": null,
            "right": null,
            "top": null,
            "visibility": null,
            "width": null
          }
        },
        "8a413613fe4d4cdeaf36c175eaae89b6": {
          "model_module": "@jupyter-widgets/controls",
          "model_name": "DescriptionStyleModel",
          "model_module_version": "1.5.0",
          "state": {
            "_model_module": "@jupyter-widgets/controls",
            "_model_module_version": "1.5.0",
            "_model_name": "DescriptionStyleModel",
            "_view_count": null,
            "_view_module": "@jupyter-widgets/base",
            "_view_module_version": "1.2.0",
            "_view_name": "StyleView",
            "description_width": ""
          }
        },
        "4a1fa7b8a06b4c2881b11d4a83d718f6": {
          "model_module": "@jupyter-widgets/base",
          "model_name": "LayoutModel",
          "model_module_version": "1.2.0",
          "state": {
            "_model_module": "@jupyter-widgets/base",
            "_model_module_version": "1.2.0",
            "_model_name": "LayoutModel",
            "_view_count": null,
            "_view_module": "@jupyter-widgets/base",
            "_view_module_version": "1.2.0",
            "_view_name": "LayoutView",
            "align_content": null,
            "align_items": null,
            "align_self": null,
            "border": null,
            "bottom": null,
            "display": null,
            "flex": null,
            "flex_flow": null,
            "grid_area": null,
            "grid_auto_columns": null,
            "grid_auto_flow": null,
            "grid_auto_rows": null,
            "grid_column": null,
            "grid_gap": null,
            "grid_row": null,
            "grid_template_areas": null,
            "grid_template_columns": null,
            "grid_template_rows": null,
            "height": null,
            "justify_content": null,
            "justify_items": null,
            "left": null,
            "margin": null,
            "max_height": null,
            "max_width": null,
            "min_height": null,
            "min_width": null,
            "object_fit": null,
            "object_position": null,
            "order": null,
            "overflow": null,
            "overflow_x": null,
            "overflow_y": null,
            "padding": null,
            "right": null,
            "top": null,
            "visibility": null,
            "width": null
          }
        },
        "b52205df99e945f7a177ff70f4480a24": {
          "model_module": "@jupyter-widgets/controls",
          "model_name": "ProgressStyleModel",
          "model_module_version": "1.5.0",
          "state": {
            "_model_module": "@jupyter-widgets/controls",
            "_model_module_version": "1.5.0",
            "_model_name": "ProgressStyleModel",
            "_view_count": null,
            "_view_module": "@jupyter-widgets/base",
            "_view_module_version": "1.2.0",
            "_view_name": "StyleView",
            "bar_color": null,
            "description_width": ""
          }
        },
        "89eba696ada04dc79a20ac80efcbf2d8": {
          "model_module": "@jupyter-widgets/base",
          "model_name": "LayoutModel",
          "model_module_version": "1.2.0",
          "state": {
            "_model_module": "@jupyter-widgets/base",
            "_model_module_version": "1.2.0",
            "_model_name": "LayoutModel",
            "_view_count": null,
            "_view_module": "@jupyter-widgets/base",
            "_view_module_version": "1.2.0",
            "_view_name": "LayoutView",
            "align_content": null,
            "align_items": null,
            "align_self": null,
            "border": null,
            "bottom": null,
            "display": null,
            "flex": null,
            "flex_flow": null,
            "grid_area": null,
            "grid_auto_columns": null,
            "grid_auto_flow": null,
            "grid_auto_rows": null,
            "grid_column": null,
            "grid_gap": null,
            "grid_row": null,
            "grid_template_areas": null,
            "grid_template_columns": null,
            "grid_template_rows": null,
            "height": null,
            "justify_content": null,
            "justify_items": null,
            "left": null,
            "margin": null,
            "max_height": null,
            "max_width": null,
            "min_height": null,
            "min_width": null,
            "object_fit": null,
            "object_position": null,
            "order": null,
            "overflow": null,
            "overflow_x": null,
            "overflow_y": null,
            "padding": null,
            "right": null,
            "top": null,
            "visibility": null,
            "width": null
          }
        },
        "83f9fd7ff0b14bb6a4e2b351f291385b": {
          "model_module": "@jupyter-widgets/controls",
          "model_name": "DescriptionStyleModel",
          "model_module_version": "1.5.0",
          "state": {
            "_model_module": "@jupyter-widgets/controls",
            "_model_module_version": "1.5.0",
            "_model_name": "DescriptionStyleModel",
            "_view_count": null,
            "_view_module": "@jupyter-widgets/base",
            "_view_module_version": "1.2.0",
            "_view_name": "StyleView",
            "description_width": ""
          }
        },
        "6adba40fb7a849518bfcdbd50537050a": {
          "model_module": "@jupyter-widgets/controls",
          "model_name": "HBoxModel",
          "model_module_version": "1.5.0",
          "state": {
            "_dom_classes": [],
            "_model_module": "@jupyter-widgets/controls",
            "_model_module_version": "1.5.0",
            "_model_name": "HBoxModel",
            "_view_count": null,
            "_view_module": "@jupyter-widgets/controls",
            "_view_module_version": "1.5.0",
            "_view_name": "HBoxView",
            "box_style": "",
            "children": [
              "IPY_MODEL_fc83f53290b3401da0142a169ff77b82",
              "IPY_MODEL_863950f6f8ec476f9eb995999527d55f",
              "IPY_MODEL_9fdd3a67f239474e857c79e3461737ef"
            ],
            "layout": "IPY_MODEL_85474a6eb4bb41bc844ffe53497fb7bb"
          }
        },
        "fc83f53290b3401da0142a169ff77b82": {
          "model_module": "@jupyter-widgets/controls",
          "model_name": "HTMLModel",
          "model_module_version": "1.5.0",
          "state": {
            "_dom_classes": [],
            "_model_module": "@jupyter-widgets/controls",
            "_model_module_version": "1.5.0",
            "_model_name": "HTMLModel",
            "_view_count": null,
            "_view_module": "@jupyter-widgets/controls",
            "_view_module_version": "1.5.0",
            "_view_name": "HTMLView",
            "description": "",
            "description_tooltip": null,
            "layout": "IPY_MODEL_9f6c8cbba0674b70a8524c3c3682d8bb",
            "placeholder": "​",
            "style": "IPY_MODEL_c1db1e52061e47df964ffab57c5d864d",
            "value": "Downloading pytorch_model.bin: 100%"
          }
        },
        "863950f6f8ec476f9eb995999527d55f": {
          "model_module": "@jupyter-widgets/controls",
          "model_name": "FloatProgressModel",
          "model_module_version": "1.5.0",
          "state": {
            "_dom_classes": [],
            "_model_module": "@jupyter-widgets/controls",
            "_model_module_version": "1.5.0",
            "_model_name": "FloatProgressModel",
            "_view_count": null,
            "_view_module": "@jupyter-widgets/controls",
            "_view_module_version": "1.5.0",
            "_view_name": "ProgressView",
            "bar_style": "success",
            "description": "",
            "description_tooltip": null,
            "layout": "IPY_MODEL_86eaf141629c44f8b594152f8e8fdb84",
            "max": 440473133,
            "min": 0,
            "orientation": "horizontal",
            "style": "IPY_MODEL_fa60dada06e64101803739556d7291f4",
            "value": 440473133
          }
        },
        "9fdd3a67f239474e857c79e3461737ef": {
          "model_module": "@jupyter-widgets/controls",
          "model_name": "HTMLModel",
          "model_module_version": "1.5.0",
          "state": {
            "_dom_classes": [],
            "_model_module": "@jupyter-widgets/controls",
            "_model_module_version": "1.5.0",
            "_model_name": "HTMLModel",
            "_view_count": null,
            "_view_module": "@jupyter-widgets/controls",
            "_view_module_version": "1.5.0",
            "_view_name": "HTMLView",
            "description": "",
            "description_tooltip": null,
            "layout": "IPY_MODEL_770637c0e3954f5aa9444a8d8df2a234",
            "placeholder": "​",
            "style": "IPY_MODEL_b8b651dc38ca4f40a68fea18cf610267",
            "value": " 440M/440M [00:02&lt;00:00, 230MB/s]"
          }
        },
        "85474a6eb4bb41bc844ffe53497fb7bb": {
          "model_module": "@jupyter-widgets/base",
          "model_name": "LayoutModel",
          "model_module_version": "1.2.0",
          "state": {
            "_model_module": "@jupyter-widgets/base",
            "_model_module_version": "1.2.0",
            "_model_name": "LayoutModel",
            "_view_count": null,
            "_view_module": "@jupyter-widgets/base",
            "_view_module_version": "1.2.0",
            "_view_name": "LayoutView",
            "align_content": null,
            "align_items": null,
            "align_self": null,
            "border": null,
            "bottom": null,
            "display": null,
            "flex": null,
            "flex_flow": null,
            "grid_area": null,
            "grid_auto_columns": null,
            "grid_auto_flow": null,
            "grid_auto_rows": null,
            "grid_column": null,
            "grid_gap": null,
            "grid_row": null,
            "grid_template_areas": null,
            "grid_template_columns": null,
            "grid_template_rows": null,
            "height": null,
            "justify_content": null,
            "justify_items": null,
            "left": null,
            "margin": null,
            "max_height": null,
            "max_width": null,
            "min_height": null,
            "min_width": null,
            "object_fit": null,
            "object_position": null,
            "order": null,
            "overflow": null,
            "overflow_x": null,
            "overflow_y": null,
            "padding": null,
            "right": null,
            "top": null,
            "visibility": null,
            "width": null
          }
        },
        "9f6c8cbba0674b70a8524c3c3682d8bb": {
          "model_module": "@jupyter-widgets/base",
          "model_name": "LayoutModel",
          "model_module_version": "1.2.0",
          "state": {
            "_model_module": "@jupyter-widgets/base",
            "_model_module_version": "1.2.0",
            "_model_name": "LayoutModel",
            "_view_count": null,
            "_view_module": "@jupyter-widgets/base",
            "_view_module_version": "1.2.0",
            "_view_name": "LayoutView",
            "align_content": null,
            "align_items": null,
            "align_self": null,
            "border": null,
            "bottom": null,
            "display": null,
            "flex": null,
            "flex_flow": null,
            "grid_area": null,
            "grid_auto_columns": null,
            "grid_auto_flow": null,
            "grid_auto_rows": null,
            "grid_column": null,
            "grid_gap": null,
            "grid_row": null,
            "grid_template_areas": null,
            "grid_template_columns": null,
            "grid_template_rows": null,
            "height": null,
            "justify_content": null,
            "justify_items": null,
            "left": null,
            "margin": null,
            "max_height": null,
            "max_width": null,
            "min_height": null,
            "min_width": null,
            "object_fit": null,
            "object_position": null,
            "order": null,
            "overflow": null,
            "overflow_x": null,
            "overflow_y": null,
            "padding": null,
            "right": null,
            "top": null,
            "visibility": null,
            "width": null
          }
        },
        "c1db1e52061e47df964ffab57c5d864d": {
          "model_module": "@jupyter-widgets/controls",
          "model_name": "DescriptionStyleModel",
          "model_module_version": "1.5.0",
          "state": {
            "_model_module": "@jupyter-widgets/controls",
            "_model_module_version": "1.5.0",
            "_model_name": "DescriptionStyleModel",
            "_view_count": null,
            "_view_module": "@jupyter-widgets/base",
            "_view_module_version": "1.2.0",
            "_view_name": "StyleView",
            "description_width": ""
          }
        },
        "86eaf141629c44f8b594152f8e8fdb84": {
          "model_module": "@jupyter-widgets/base",
          "model_name": "LayoutModel",
          "model_module_version": "1.2.0",
          "state": {
            "_model_module": "@jupyter-widgets/base",
            "_model_module_version": "1.2.0",
            "_model_name": "LayoutModel",
            "_view_count": null,
            "_view_module": "@jupyter-widgets/base",
            "_view_module_version": "1.2.0",
            "_view_name": "LayoutView",
            "align_content": null,
            "align_items": null,
            "align_self": null,
            "border": null,
            "bottom": null,
            "display": null,
            "flex": null,
            "flex_flow": null,
            "grid_area": null,
            "grid_auto_columns": null,
            "grid_auto_flow": null,
            "grid_auto_rows": null,
            "grid_column": null,
            "grid_gap": null,
            "grid_row": null,
            "grid_template_areas": null,
            "grid_template_columns": null,
            "grid_template_rows": null,
            "height": null,
            "justify_content": null,
            "justify_items": null,
            "left": null,
            "margin": null,
            "max_height": null,
            "max_width": null,
            "min_height": null,
            "min_width": null,
            "object_fit": null,
            "object_position": null,
            "order": null,
            "overflow": null,
            "overflow_x": null,
            "overflow_y": null,
            "padding": null,
            "right": null,
            "top": null,
            "visibility": null,
            "width": null
          }
        },
        "fa60dada06e64101803739556d7291f4": {
          "model_module": "@jupyter-widgets/controls",
          "model_name": "ProgressStyleModel",
          "model_module_version": "1.5.0",
          "state": {
            "_model_module": "@jupyter-widgets/controls",
            "_model_module_version": "1.5.0",
            "_model_name": "ProgressStyleModel",
            "_view_count": null,
            "_view_module": "@jupyter-widgets/base",
            "_view_module_version": "1.2.0",
            "_view_name": "StyleView",
            "bar_color": null,
            "description_width": ""
          }
        },
        "770637c0e3954f5aa9444a8d8df2a234": {
          "model_module": "@jupyter-widgets/base",
          "model_name": "LayoutModel",
          "model_module_version": "1.2.0",
          "state": {
            "_model_module": "@jupyter-widgets/base",
            "_model_module_version": "1.2.0",
            "_model_name": "LayoutModel",
            "_view_count": null,
            "_view_module": "@jupyter-widgets/base",
            "_view_module_version": "1.2.0",
            "_view_name": "LayoutView",
            "align_content": null,
            "align_items": null,
            "align_self": null,
            "border": null,
            "bottom": null,
            "display": null,
            "flex": null,
            "flex_flow": null,
            "grid_area": null,
            "grid_auto_columns": null,
            "grid_auto_flow": null,
            "grid_auto_rows": null,
            "grid_column": null,
            "grid_gap": null,
            "grid_row": null,
            "grid_template_areas": null,
            "grid_template_columns": null,
            "grid_template_rows": null,
            "height": null,
            "justify_content": null,
            "justify_items": null,
            "left": null,
            "margin": null,
            "max_height": null,
            "max_width": null,
            "min_height": null,
            "min_width": null,
            "object_fit": null,
            "object_position": null,
            "order": null,
            "overflow": null,
            "overflow_x": null,
            "overflow_y": null,
            "padding": null,
            "right": null,
            "top": null,
            "visibility": null,
            "width": null
          }
        },
        "b8b651dc38ca4f40a68fea18cf610267": {
          "model_module": "@jupyter-widgets/controls",
          "model_name": "DescriptionStyleModel",
          "model_module_version": "1.5.0",
          "state": {
            "_model_module": "@jupyter-widgets/controls",
            "_model_module_version": "1.5.0",
            "_model_name": "DescriptionStyleModel",
            "_view_count": null,
            "_view_module": "@jupyter-widgets/base",
            "_view_module_version": "1.2.0",
            "_view_name": "StyleView",
            "description_width": ""
          }
        }
      }
    },
    "colab": {
      "provenance": [],
      "gpuType": "T4"
    },
    "accelerator": "GPU"
  },
  "nbformat": 4,
  "nbformat_minor": 5
}